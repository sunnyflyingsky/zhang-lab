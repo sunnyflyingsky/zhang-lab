{
 "cells": [
  {
   "cell_type": "code",
   "execution_count": 1,
   "id": "6593a5a1",
   "metadata": {},
   "outputs": [],
   "source": [
    "#%%\n",
    "%load_ext autoreload\n",
    "%autoreload 2\n",
    "import loader\n",
    "import processor\n",
    "import config\n",
    "import controller\n",
    "import models"
   ]
  },
  {
   "cell_type": "code",
   "execution_count": 2,
   "id": "940ec44b",
   "metadata": {},
   "outputs": [
    {
     "data": {
      "text/html": [
       "<style>.container { width:90% !important; }</style>"
      ],
      "text/plain": [
       "<IPython.core.display.HTML object>"
      ]
     },
     "metadata": {},
     "output_type": "display_data"
    }
   ],
   "source": [
    "from IPython.core.display import display, HTML\n",
    "display(HTML(\"<style>.container { width:90% !important; }</style>\"))"
   ]
  },
  {
   "cell_type": "code",
   "execution_count": 3,
   "id": "09ab5fe8",
   "metadata": {},
   "outputs": [
    {
     "name": "stderr",
     "output_type": "stream",
     "text": [
      "Using backend: pytorch\n"
     ]
    },
    {
     "name": "stdout",
     "output_type": "stream",
     "text": [
      "Downloading gin_supervised_masking_pre_trained.pth from https://data.dgl.ai/dgllife/pre_trained/gin_supervised_masking.pth...\n",
      "Pretrained model loaded\n"
     ]
    },
    {
     "data": {
      "text/plain": [
       "<controller.SmartNet at 0x7f2bcc6c78b0>"
      ]
     },
     "execution_count": 3,
     "metadata": {},
     "output_type": "execute_result"
    }
   ],
   "source": [
    "model = controller.model_pretrained(path_dir = '/home/yuhan/smartnet_20211230_regression_31bp_ss_knot_CNN/CNN_GIN_regression_dock6')\n",
    "model"
   ]
  },
  {
   "cell_type": "code",
   "execution_count": 4,
   "id": "85475bbb",
   "metadata": {},
   "outputs": [
    {
     "name": "stdout",
     "output_type": "stream",
     "text": [
      "gnn.node_embeddings.0.weight : torch.Size([120, 300])\n",
      "gnn.node_embeddings.1.weight : torch.Size([3, 300])\n",
      "gnn.gnn_layers.0.mlp.0.weight : torch.Size([600, 300])\n",
      "gnn.gnn_layers.0.mlp.0.bias : torch.Size([600])\n",
      "gnn.gnn_layers.0.mlp.2.weight : torch.Size([300, 600])\n",
      "gnn.gnn_layers.0.mlp.2.bias : torch.Size([300])\n",
      "gnn.gnn_layers.0.edge_embeddings.0.weight : torch.Size([6, 300])\n",
      "gnn.gnn_layers.0.edge_embeddings.1.weight : torch.Size([3, 300])\n",
      "gnn.gnn_layers.0.bn.weight : torch.Size([300])\n",
      "gnn.gnn_layers.0.bn.bias : torch.Size([300])\n",
      "gnn.gnn_layers.1.mlp.0.weight : torch.Size([600, 300])\n",
      "gnn.gnn_layers.1.mlp.0.bias : torch.Size([600])\n",
      "gnn.gnn_layers.1.mlp.2.weight : torch.Size([300, 600])\n",
      "gnn.gnn_layers.1.mlp.2.bias : torch.Size([300])\n",
      "gnn.gnn_layers.1.edge_embeddings.0.weight : torch.Size([6, 300])\n",
      "gnn.gnn_layers.1.edge_embeddings.1.weight : torch.Size([3, 300])\n",
      "gnn.gnn_layers.1.bn.weight : torch.Size([300])\n",
      "gnn.gnn_layers.1.bn.bias : torch.Size([300])\n",
      "gnn.gnn_layers.2.mlp.0.weight : torch.Size([600, 300])\n",
      "gnn.gnn_layers.2.mlp.0.bias : torch.Size([600])\n",
      "gnn.gnn_layers.2.mlp.2.weight : torch.Size([300, 600])\n",
      "gnn.gnn_layers.2.mlp.2.bias : torch.Size([300])\n",
      "gnn.gnn_layers.2.edge_embeddings.0.weight : torch.Size([6, 300])\n",
      "gnn.gnn_layers.2.edge_embeddings.1.weight : torch.Size([3, 300])\n",
      "gnn.gnn_layers.2.bn.weight : torch.Size([300])\n",
      "gnn.gnn_layers.2.bn.bias : torch.Size([300])\n",
      "gnn.gnn_layers.3.mlp.0.weight : torch.Size([600, 300])\n",
      "gnn.gnn_layers.3.mlp.0.bias : torch.Size([600])\n",
      "gnn.gnn_layers.3.mlp.2.weight : torch.Size([300, 600])\n",
      "gnn.gnn_layers.3.mlp.2.bias : torch.Size([300])\n",
      "gnn.gnn_layers.3.edge_embeddings.0.weight : torch.Size([6, 300])\n",
      "gnn.gnn_layers.3.edge_embeddings.1.weight : torch.Size([3, 300])\n",
      "gnn.gnn_layers.3.bn.weight : torch.Size([300])\n",
      "gnn.gnn_layers.3.bn.bias : torch.Size([300])\n",
      "gnn.gnn_layers.4.mlp.0.weight : torch.Size([600, 300])\n",
      "gnn.gnn_layers.4.mlp.0.bias : torch.Size([600])\n",
      "gnn.gnn_layers.4.mlp.2.weight : torch.Size([300, 600])\n",
      "gnn.gnn_layers.4.mlp.2.bias : torch.Size([300])\n",
      "gnn.gnn_layers.4.edge_embeddings.0.weight : torch.Size([6, 300])\n",
      "gnn.gnn_layers.4.edge_embeddings.1.weight : torch.Size([3, 300])\n",
      "gnn.gnn_layers.4.bn.weight : torch.Size([300])\n",
      "gnn.gnn_layers.4.bn.bias : torch.Size([300])\n",
      "transform.weight : torch.Size([128, 300])\n",
      "transform.bias : torch.Size([128])\n",
      "convt.0.weight : torch.Size([32, 7, 4])\n",
      "convt.0.bias : torch.Size([32])\n",
      "convt.1.weight : torch.Size([64, 32, 6])\n",
      "convt.1.bias : torch.Size([64])\n",
      "convt.2.weight : torch.Size([96, 64, 8])\n",
      "convt.2.bias : torch.Size([96])\n",
      "fct.weight : torch.Size([128, 96])\n",
      "fct.bias : torch.Size([128])\n",
      "fc.0.weight : torch.Size([1024, 256])\n",
      "fc.0.bias : torch.Size([1024])\n",
      "fc.1.weight : torch.Size([512, 1024])\n",
      "fc.1.bias : torch.Size([512])\n",
      "fc.2.weight : torch.Size([256, 512])\n",
      "fc.2.bias : torch.Size([256])\n",
      "fc.3.weight : torch.Size([1, 256])\n",
      "fc.3.bias : torch.Size([1])\n"
     ]
    }
   ],
   "source": [
    "param = {}\n",
    "for name,parameters in model.model.named_parameters():\n",
    "    print(name,':',parameters.size())\n",
    "    param[name]=parameters.detach().numpy()"
   ]
  },
  {
   "cell_type": "code",
   "execution_count": 9,
   "id": "f5c24a98",
   "metadata": {},
   "outputs": [
    {
     "name": "stdout",
     "output_type": "stream",
     "text": [
      "[[-2.3990436e-02 -5.4842763e-02 -8.8456348e-02 ...  6.6035882e-02\n",
      "   3.3649098e-04  2.9718060e-02]\n",
      " [-1.5838662e-02  7.3163398e-03 -2.7159303e-01 ...  1.9758837e-03\n",
      "   7.0438690e-02  3.6792282e-02]\n",
      " [-3.7424877e-02 -2.1528631e-02 -6.0259491e-02 ...  6.8252408e-03\n",
      "   3.0040883e-02 -2.3905119e-02]\n",
      " ...\n",
      " [-3.6025470e-01 -8.4103632e-01  1.1399561e+00 ...  8.3084208e-01\n",
      "  -6.4274043e-01 -2.8730884e-01]\n",
      " [-1.1652169e+00  9.0910441e-01  1.4368460e-01 ...  2.5761363e-01\n",
      "  -7.2395414e-01  7.6277591e-02]\n",
      " [-2.2517014e+00  1.4429587e+00 -1.8351452e+00 ...  1.6849455e+00\n",
      "   4.2056417e+00  2.8064492e+00]]\n"
     ]
    }
   ],
   "source": []
  },
  {
   "cell_type": "code",
   "execution_count": 5,
   "id": "d00efceb",
   "metadata": {},
   "outputs": [
    {
     "data": {
      "text/plain": [
       "<AxesSubplot:ylabel='Density'>"
      ]
     },
     "execution_count": 5,
     "metadata": {},
     "output_type": "execute_result"
    },
    {
     "data": {
      "image/png": "[encoded data removed]",
      "text/plain": [
       "<Figure size 432x288 with 1 Axes>"
      ]
     },
     "metadata": {
      "needs_background": "light"
     },
     "output_type": "display_data"
    }
   ],
   "source": [
    "#CNN_CNN\n",
    "RNA_p=[]\n",
    "drug_p=[]\n",
    "for name,p in param.items():\n",
    "    if name.startswith('gnn'):\n",
    "        if len(p.shape)==1:\n",
    "            drug_p.extend(p.tolist())\n",
    "        elif len(p.shape)==2:\n",
    "            p = p.tolist()\n",
    "            for pi in p:\n",
    "                drug_p.extend(pi)\n",
    "                \n",
    "    elif name.startswith('convt') or name.startswith('se') or name.startswith('res1d') or name.startswith('res2d'):\n",
    "        if len(p.shape)==1:\n",
    "            RNA_p.extend(p.tolist())\n",
    "        elif len(p.shape)==2:\n",
    "            p = p.tolist()\n",
    "            for pi in p:\n",
    "                RNA_p.extend(pi)\n",
    "        elif len(p.shape)==3:\n",
    "            p = p.tolist()\n",
    "            for pi in p:\n",
    "                for pj in pi:\n",
    "                    RNA_p.extend(pj)\n",
    "        elif len(p.shape)==4:\n",
    "            p = p.tolist()\n",
    "            for pi in p:\n",
    "                for pj in pi:\n",
    "                    for pk in pj:\n",
    "                        RNA_p.extend(pk)\n",
    "import matplotlib as plt\n",
    "import pandas as pd\n",
    "r = pd.DataFrame({'RNA':RNA_p})\n",
    "d = pd.DataFrame({'drug':drug_p})\n",
    "r.RNA.plot(kind='kde',color='red')\n",
    "d.drug.plot(kind='kde',color='blue')\n",
    "#plt.show()"
   ]
  },
  {
   "cell_type": "code",
   "execution_count": 29,
   "id": "104d63ba",
   "metadata": {},
   "outputs": [
    {
     "data": {
      "text/html": [
       "<div>\n",
       "<style scoped>\n",
       "    .dataframe tbody tr th:only-of-type {\n",
       "        vertical-align: middle;\n",
       "    }\n",
       "\n",
       "    .dataframe tbody tr th {\n",
       "        vertical-align: top;\n",
       "    }\n",
       "\n",
       "    .dataframe thead th {\n",
       "        text-align: right;\n",
       "    }\n",
       "</style>\n",
       "<table border=\"1\" class=\"dataframe\">\n",
       "  <thead>\n",
       "    <tr style=\"text-align: right;\">\n",
       "      <th></th>\n",
       "      <th>RNA</th>\n",
       "    </tr>\n",
       "  </thead>\n",
       "  <tbody>\n",
       "  </tbody>\n",
       "</table>\n",
       "</div>"
      ],
      "text/plain": [
       "Empty DataFrame\n",
       "Columns: [RNA]\n",
       "Index: []"
      ]
     },
     "execution_count": 29,
     "metadata": {},
     "output_type": "execute_result"
    }
   ],
   "source": [
    "r.loc[:200]"
   ]
  },
  {
   "cell_type": "code",
   "execution_count": 30,
   "id": "cacf9105",
   "metadata": {},
   "outputs": [
    {
     "data": {
      "text/plain": [
       "[]"
      ]
     },
     "execution_count": 30,
     "metadata": {},
     "output_type": "execute_result"
    }
   ],
   "source": [
    "RNA_p"
   ]
  },
  {
   "cell_type": "code",
   "execution_count": 5,
   "id": "d701b808",
   "metadata": {},
   "outputs": [
    {
     "data": {
      "text/plain": [
       "<AxesSubplot:ylabel='Density'>"
      ]
     },
     "execution_count": 5,
     "metadata": {},
     "output_type": "execute_result"
    },
    {
     "data": {
      "image/png": "[encoded data removed]",
      "text/plain": [
       "<Figure size 432x288 with 1 Axes>"
      ]
     },
     "metadata": {
      "needs_background": "light"
     },
     "output_type": "display_data"
    }
   ],
   "source": [
    "#CNN_CIN\n",
    "RNA_p=[]\n",
    "drug_p=[]\n",
    "for name,p in param.items():\n",
    "    if name.startswith('gnn'):\n",
    "        if len(p.shape)==1:\n",
    "            drug_p.extend(p.tolist())\n",
    "        elif len(p.shape)==2:\n",
    "            p = p.tolist()\n",
    "            for pi in p:\n",
    "                drug_p.extend(pi)\n",
    "                \n",
    "    elif name.startswith('convt') or name.startswith('se') or name.startswith('res1d') or name.startswith('res2d'):\n",
    "        if len(p.shape)==1:\n",
    "            RNA_p.extend(p.tolist())\n",
    "        elif len(p.shape)==2:\n",
    "            p = p.tolist()\n",
    "            for pi in p:\n",
    "                RNA_p.extend(pi)\n",
    "        elif len(p.shape)==3:\n",
    "            p = p.tolist()\n",
    "            for pi in p:\n",
    "                for pj in pi:\n",
    "                    RNA_p.extend(pj)\n",
    "        elif len(p.shape)==4:\n",
    "            p = p.tolist()\n",
    "            for pi in p:\n",
    "                for pj in pi:\n",
    "                    for pk in pj:\n",
    "                        RNA_p.extend(pk)\n",
    "import matplotlib as plt\n",
    "import pandas as pd\n",
    "r = pd.DataFrame({'RNA':RNA_p})\n",
    "d = pd.DataFrame({'drug':drug_p})\n",
    "r.RNA.plot(kind='kde',color='red')\n",
    "#d.drug.plot(kind='kde',color='blue')"
   ]
  },
  {
   "cell_type": "code",
   "execution_count": 17,
   "id": "c87ab59f",
   "metadata": {
    "scrolled": true
   },
   "outputs": [
    {
     "data": {
      "text/plain": [
       "(-0.6, 0.6)"
      ]
     },
     "execution_count": 17,
     "metadata": {},
     "output_type": "execute_result"
    },
    {
     "data": {
      "image/png": "[encoded data removed]",
      "text/plain": [
       "<Figure size 432x288 with 1 Axes>"
      ]
     },
     "metadata": {
      "needs_background": "light"
     },
     "output_type": "display_data"
    }
   ],
   "source": [
    "#CNN_GIN\n",
    "RNA_p=[]\n",
    "drug_p=[]\n",
    "for name,p in param.items():\n",
    "    if name.startswith('gnn'):\n",
    "        if len(p.shape)==1:\n",
    "            drug_p.extend(p.tolist())\n",
    "        elif len(p.shape)==2:\n",
    "            p = p.tolist()\n",
    "            for pi in p:\n",
    "                drug_p.extend(pi)\n",
    "                \n",
    "    elif name.startswith('convt') or name.startswith('se') or name.startswith('res1d') or name.startswith('res2d'):\n",
    "        if len(p.shape)==1:\n",
    "            RNA_p.extend(p.tolist())\n",
    "        elif len(p.shape)==2:\n",
    "            p = p.tolist()\n",
    "            for pi in p:\n",
    "                RNA_p.extend(pi)\n",
    "        elif len(p.shape)==3:\n",
    "            p = p.tolist()\n",
    "            for pi in p:\n",
    "                for pj in pi:\n",
    "                    RNA_p.extend(pj)\n",
    "        elif len(p.shape)==4:\n",
    "            p = p.tolist()\n",
    "            for pi in p:\n",
    "                for pj in pi:\n",
    "                    for pk in pj:\n",
    "                        RNA_p.extend(pk)\n",
    "import matplotlib.pyplot as plt\n",
    "from matplotlib.figure import Figure\n",
    "import pandas as pd\n",
    "r = pd.DataFrame({'RNA':RNA_p})\n",
    "d = pd.DataFrame({'drug':drug_p})\n",
    "f=Figure(figsize=(8,6))\n",
    "r.RNA.plot(kind='kde',color='red')\n",
    "plt.xlim(-0.6,0.6)\n",
    "#d.drug.plot(kind='kde',color='blue')"
   ]
  },
  {
   "cell_type": "code",
   "execution_count": null,
   "id": "a4f5ea16",
   "metadata": {},
   "outputs": [],
   "source": []
  },
  {
   "cell_type": "code",
   "execution_count": null,
   "id": "ac3906a2",
   "metadata": {},
   "outputs": [],
   "source": [
    "model = controller.model_pretrained(path_dir = '/home/yuhan/smartnet_20211230_regression_31bp_ss_knot_CNN/CNN_GIN_regression_dock6')\n",
    "model"
   ]
  },
  {
   "cell_type": "code",
   "execution_count": null,
   "id": "0f3ed622",
   "metadata": {},
   "outputs": [],
   "source": []
  },
  {
   "cell_type": "code",
   "execution_count": null,
   "id": "4617cb0a",
   "metadata": {},
   "outputs": [],
   "source": []
  },
  {
   "cell_type": "code",
   "execution_count": null,
   "id": "0abe1eb2",
   "metadata": {},
   "outputs": [],
   "source": []
  }
 ],
 "metadata": {
  "kernelspec": {
   "display_name": "Python 3",
   "language": "python",
   "name": "python3"
  },
  "language_info": {
   "codemirror_mode": {
    "name": "ipython",
    "version": 3
   },
   "file_extension": ".py",
   "mimetype": "text/x-python",
   "name": "python",
   "nbconvert_exporter": "python",
   "pygments_lexer": "ipython3",
   "version": "3.8.10"
  }
 },
 "nbformat": 4,
 "nbformat_minor": 5
}
