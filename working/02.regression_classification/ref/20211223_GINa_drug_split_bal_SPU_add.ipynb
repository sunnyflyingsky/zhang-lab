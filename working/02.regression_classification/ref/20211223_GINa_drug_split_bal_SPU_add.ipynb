{
 "cells": [
  {
   "cell_type": "code",
   "execution_count": 3,
   "id": "61a1f20c",
   "metadata": {},
   "outputs": [
    {
     "name": "stdout",
     "output_type": "stream",
     "text": [
      "The autoreload extension is already loaded. To reload it, use:\n",
      "  %reload_ext autoreload\n"
     ]
    }
   ],
   "source": [
    "#%%\n",
    "%load_ext autoreload\n",
    "%autoreload 2\n",
    "import loader\n",
    "import processor\n",
    "import config\n",
    "import controller\n",
    "import models"
   ]
  },
  {
   "cell_type": "code",
   "execution_count": 4,
   "id": "d79ecbde",
   "metadata": {},
   "outputs": [
    {
     "data": {
      "text/html": [
       "<style>.container { width:90% !important; }</style>"
      ],
      "text/plain": [
       "<IPython.core.display.HTML object>"
      ]
     },
     "metadata": {},
     "output_type": "display_data"
    }
   ],
   "source": [
    "from IPython.core.display import display, HTML\n",
    "display(HTML(\"<style>.container { width:90% !important; }</style>\"))"
   ]
  },
  {
   "cell_type": "code",
   "execution_count": 5,
   "id": "0ffa5d5d",
   "metadata": {
    "scrolled": true
   },
   "outputs": [
    {
     "name": "stdout",
     "output_type": "stream",
     "text": [
      "This function is used to remove invalid SMILES...\n",
      "Load 53700 records, remove 0 invalid smiles...\n",
      "Remain 53700 records finally...\n",
      "Completed!\n"
     ]
    }
   ],
   "source": [
    "loader.valid_ss(input='./data/final_data_add.txt',output='./data/final_data_add_valid.txt')"
   ]
  },
  {
   "cell_type": "code",
   "execution_count": null,
   "id": "fed1ded0",
   "metadata": {},
   "outputs": [],
   "source": []
  },
  {
   "cell_type": "code",
   "execution_count": 5,
   "id": "7f95a4cf",
   "metadata": {},
   "outputs": [],
   "source": [
    "import random\n",
    "import torch\n",
    "import os\n",
    "import numpy as np\n",
    "def fix_seed(seed):\n",
    "    \"\"\"\n",
    "    Seed all necessary random number generators.\n",
    "    \"\"\"\n",
    "    #if seed is None:\n",
    "    #    seed = random.randint(1, 10000)\n",
    "    torch.set_num_threads(1)  # Suggested for issues with deadlocks, etc.\n",
    "    random.seed(seed)\n",
    "    os.environ['PYTHONHASHSEED'] = str(seed)\n",
    "    np.random.seed(seed)\n",
    "    torch.manual_seed(seed)\n",
    "    torch.cuda.manual_seed(seed)\n",
    "    torch.cuda.manual_seed_all(seed)  # if you are using multi-GPU.\n",
    "    torch.backends.cudnn.deterministic = True\n",
    "    torch.backends.cudnn.benchmark = False\n",
    "    torch.backends.cudnn.enabled = True"
   ]
  },
  {
   "cell_type": "code",
   "execution_count": 6,
   "id": "6657d2bf",
   "metadata": {},
   "outputs": [],
   "source": [
    "fix_seed(1)"
   ]
  },
  {
   "cell_type": "markdown",
   "id": "d5b8e51b",
   "metadata": {},
   "source": [
    "# 数据分割方式改变"
   ]
  },
  {
   "cell_type": "code",
   "execution_count": 8,
   "id": "735ea97d",
   "metadata": {},
   "outputs": [],
   "source": [
    "drug_encoding, target_encoding = 'DGL_GIN_AttrMasking', 'Prism'"
   ]
  },
  {
   "cell_type": "code",
   "execution_count": 6,
   "id": "a7c5221e",
   "metadata": {},
   "outputs": [
    {
     "name": "stdout",
     "output_type": "stream",
     "text": [
      "This function is used to convert two columns tabular format to complete adjacency matrix...\n",
      "splitting dataset...\n"
     ]
    }
   ],
   "source": [
    "train, val, test=loader.split_drug(input='./data/final_data1_valid.txt', random_seed=1)"
   ]
  },
  {
   "cell_type": "code",
   "execution_count": 9,
   "id": "f4b9f7d7",
   "metadata": {},
   "outputs": [],
   "source": [
    "# for large file"
   ]
  },
  {
   "cell_type": "code",
   "execution_count": 9,
   "id": "908c92be",
   "metadata": {},
   "outputs": [
    {
     "name": "stdout",
     "output_type": "stream",
     "text": [
      "This function is used to convert two columns tabular format to complete adjacency matrix...\n",
      "splitting dataset...\n"
     ]
    }
   ],
   "source": [
    "#python training_data.py\n",
    "import pandas as pd\n",
    "train, val, test = loader.load_data('training_data.txt', frac=[0.7,0.1,0.2],random_seed=1)"
   ]
  },
  {
   "cell_type": "code",
   "execution_count": null,
   "id": "757a2ab5",
   "metadata": {},
   "outputs": [],
   "source": []
  },
  {
   "cell_type": "code",
   "execution_count": null,
   "id": "6cc36f18",
   "metadata": {},
   "outputs": [],
   "source": []
  },
  {
   "cell_type": "code",
   "execution_count": null,
   "id": "746b77e7",
   "metadata": {},
   "outputs": [],
   "source": []
  },
  {
   "cell_type": "code",
   "execution_count": null,
   "id": "1d1662e2",
   "metadata": {},
   "outputs": [],
   "source": []
  },
  {
   "cell_type": "markdown",
   "id": "c531b198",
   "metadata": {},
   "source": [
    "# 根据1:2的比例等比例划分数据集"
   ]
  },
  {
   "cell_type": "code",
   "execution_count": 10,
   "id": "433b9bb9",
   "metadata": {},
   "outputs": [
    {
     "name": "stdout",
     "output_type": "stream",
     "text": [
      "This function is used to generate dataset from tabular file...\n",
      "The total number between positive and negative data is 1:2\n",
      "Generate 104631 records,which contain 34877 postive records and 69754 negative records...\n",
      "Completed!\n"
     ]
    }
   ],
   "source": [
    "X_drugs_train, X_targets_train, X_structures_train, y_train=loader.df2var_bal_ss(train,weight=2, random_seed=10000)"
   ]
  },
  {
   "cell_type": "code",
   "execution_count": 11,
   "id": "9f087fd9",
   "metadata": {},
   "outputs": [
    {
     "name": "stdout",
     "output_type": "stream",
     "text": [
      "This function is used to generate dataset from tabular file...\n",
      "The total number between positive and negative data is 1:2\n",
      "Generate 20427 records,which contain 6809 postive records and 13618 negative records...\n",
      "Completed!\n"
     ]
    }
   ],
   "source": [
    "X_drugs_val, X_targets_val,  X_structures_val, y_val=loader.df2var_bal_ss(val,weight=2, random_seed=20000)"
   ]
  },
  {
   "cell_type": "code",
   "execution_count": 12,
   "id": "31fbc752",
   "metadata": {},
   "outputs": [
    {
     "name": "stdout",
     "output_type": "stream",
     "text": [
      "This function is used to generate dataset from tabular file...\n",
      "The total number between positive and negative data is 1:2\n",
      "Generate 35598 records,which contain 11866 postive records and 23732 negative records...\n",
      "Completed!\n"
     ]
    }
   ],
   "source": [
    "X_drugs_test, X_targets_test, X_structures_test, y_test=loader.df2var_bal_ss(test,weight=2, random_seed=30000)"
   ]
  },
  {
   "cell_type": "code",
   "execution_count": null,
   "id": "24e21060",
   "metadata": {},
   "outputs": [],
   "source": []
  },
  {
   "cell_type": "code",
   "execution_count": null,
   "id": "d48819f2",
   "metadata": {},
   "outputs": [],
   "source": []
  },
  {
   "cell_type": "code",
   "execution_count": 13,
   "id": "d7bd97a4",
   "metadata": {},
   "outputs": [
    {
     "name": "stdout",
     "output_type": "stream",
     "text": [
      "Drug Target Interaction Prediction...\n",
      "in total: 104631 drug-target pairs\n",
      "encoding drug...\n",
      "unique drugs: 348\n",
      "encoding protein...\n",
      "unique target sequence: 9068\n",
      "encoding structure...\n",
      "unique structure sequence: 9331\n",
      "splitting dataset...\n",
      "Done.\n"
     ]
    }
   ],
   "source": [
    "train = processor.encode_ss(X_drugs_train, X_targets_train, X_structures_train, y_train, drug_encoding, target_encoding, random_seed=1)"
   ]
  },
  {
   "cell_type": "code",
   "execution_count": 14,
   "id": "d7a2a36f",
   "metadata": {
    "scrolled": true
   },
   "outputs": [
    {
     "data": {
      "text/html": [
       "<div>\n",
       "<style scoped>\n",
       "    .dataframe tbody tr th:only-of-type {\n",
       "        vertical-align: middle;\n",
       "    }\n",
       "\n",
       "    .dataframe tbody tr th {\n",
       "        vertical-align: top;\n",
       "    }\n",
       "\n",
       "    .dataframe thead th {\n",
       "        text-align: right;\n",
       "    }\n",
       "</style>\n",
       "<table border=\"1\" class=\"dataframe\">\n",
       "  <thead>\n",
       "    <tr style=\"text-align: right;\">\n",
       "      <th></th>\n",
       "      <th>SMILES</th>\n",
       "      <th>Target Sequence</th>\n",
       "      <th>Target Structure</th>\n",
       "      <th>Label</th>\n",
       "      <th>drug_encoding</th>\n",
       "      <th>target_encoding</th>\n",
       "      <th>structure_encoding</th>\n",
       "    </tr>\n",
       "  </thead>\n",
       "  <tbody>\n",
       "    <tr>\n",
       "      <th>0</th>\n",
       "      <td>CC(O)CC(C)(C)O</td>\n",
       "      <td>CAUACAAUCGCGUGGAUAUGGCACGCAAGUU</td>\n",
       "      <td>(((((..(.(((((.......(((((.(...</td>\n",
       "      <td>0</td>\n",
       "      <td>CC(O)CC(C)(C)O</td>\n",
       "      <td>[C, A, U, A, C, A, A, U, C, G, C, G, U, G, G, ...</td>\n",
       "      <td>[(, (, (, (, (, ., ., (, ., (, (, (, (, (, ., ...</td>\n",
       "    </tr>\n",
       "    <tr>\n",
       "      <th>1</th>\n",
       "      <td>C=CN1CC2C34CC(C3CC14)C21C2CCC([NH+]3C=CC=C3)C(...</td>\n",
       "      <td>GGCUAGCAAGGAACCCACUGCUUAAGCCUCA</td>\n",
       "      <td>((((((((((((((((((((((((.((((((</td>\n",
       "      <td>0</td>\n",
       "      <td>C=CN1CC2C34CC(C3CC14)C21C2CCC([NH+]3C=CC=C3)C(...</td>\n",
       "      <td>[G, G, C, U, A, G, C, A, A, G, G, A, A, C, C, ...</td>\n",
       "      <td>[(, (, (, (, (, (, (, (, (, (, (, (, (, (, (, ...</td>\n",
       "    </tr>\n",
       "    <tr>\n",
       "      <th>2</th>\n",
       "      <td>C=C(C)C(=C)C=CC12CC13C1CC=C(C=CC4=CC(=O)C=C5OC...</td>\n",
       "      <td>AAUACCUGCCUGUCACGCAGGGGGUCGCGGG</td>\n",
       "      <td>(((.(((((.......(((((.....(((((</td>\n",
       "      <td>0</td>\n",
       "      <td>C=C(C)C(=C)C=CC12CC13C1CC=C(C=CC4=CC(=O)C=C5OC...</td>\n",
       "      <td>[A, A, U, A, C, C, U, G, C, C, U, G, U, C, A, ...</td>\n",
       "      <td>[(, (, (, ., (, (, (, (, (, ., ., ., ., ., ., ...</td>\n",
       "    </tr>\n",
       "    <tr>\n",
       "      <th>3</th>\n",
       "      <td>NCCCCCC(=O)O</td>\n",
       "      <td>UUUUCCAGGCAAAUCCGGAAAAUCAAGGCUG</td>\n",
       "      <td>((((((.((.....((((((((((..((((.</td>\n",
       "      <td>0</td>\n",
       "      <td>NCCCCCC(=O)O</td>\n",
       "      <td>[U, U, U, U, C, C, A, G, G, C, A, A, A, U, C, ...</td>\n",
       "      <td>[(, (, (, (, (, (, ., (, (, ., ., ., ., ., (, ...</td>\n",
       "    </tr>\n",
       "    <tr>\n",
       "      <th>4</th>\n",
       "      <td>Clc1ccc(-c2cc(Sc3c(Cl)cccc3Cl)cn3cncc23)cc1</td>\n",
       "      <td>CAGAAAUGGUGCCAAUUCCUGCAGCGGAAAC</td>\n",
       "      <td>((....(((((((...(....(((((....(</td>\n",
       "      <td>1</td>\n",
       "      <td>Clc1ccc(-c2cc(Sc3c(Cl)cccc3Cl)cn3cncc23)cc1</td>\n",
       "      <td>[C, A, G, A, A, A, U, G, G, U, G, C, C, A, A, ...</td>\n",
       "      <td>[(, (, ., ., ., ., (, (, (, (, (, (, (, ., ., ...</td>\n",
       "    </tr>\n",
       "    <tr>\n",
       "      <th>...</th>\n",
       "      <td>...</td>\n",
       "      <td>...</td>\n",
       "      <td>...</td>\n",
       "      <td>...</td>\n",
       "      <td>...</td>\n",
       "      <td>...</td>\n",
       "      <td>...</td>\n",
       "    </tr>\n",
       "    <tr>\n",
       "      <th>104626</th>\n",
       "      <td>C=CCC1C=CC(=O)NCC=CC(C)=CC(O)CC(F)Cc2nc(co2)C(...</td>\n",
       "      <td>UCUCCCCGAAAGCUAUUUAGGUAGCGCCUCG</td>\n",
       "      <td>.((((((....(((((....(((((.(((((</td>\n",
       "      <td>0</td>\n",
       "      <td>C=CCC1C=CC(=O)NCC=CC(C)=CC(O)CC(F)Cc2nc(co2)C(...</td>\n",
       "      <td>[U, C, U, C, C, C, C, G, A, A, A, G, C, U, A, ...</td>\n",
       "      <td>[., (, (, (, (, (, (, ., ., ., ., (, (, (, (, ...</td>\n",
       "    </tr>\n",
       "    <tr>\n",
       "      <th>104627</th>\n",
       "      <td>O=C(CC=CN1C=CC2OC(c3ccccc3)c3ccccc3C2=C1)c1ccc...</td>\n",
       "      <td>GGCCCGCCCAAACUGCCCUGAAAAGGGCUGA</td>\n",
       "      <td>((((..........(((((....(((((...</td>\n",
       "      <td>0</td>\n",
       "      <td>O=C(CC=CN1C=CC2OC(c3ccccc3)c3ccccc3C2=C1)c1ccc...</td>\n",
       "      <td>[G, G, C, C, C, G, C, C, C, A, A, A, C, U, G, ...</td>\n",
       "      <td>[(, (, (, (, ., ., ., ., ., ., ., ., ., ., (, ...</td>\n",
       "    </tr>\n",
       "    <tr>\n",
       "      <th>104628</th>\n",
       "      <td>C=CC=C1c2oc3ccccc3c2C(=O)c2cc(I)c(OC=Cn3cccc3)...</td>\n",
       "      <td>CGGACACCCAAGGUGCUCACACCGGAGACGG</td>\n",
       "      <td>......(((.(((.(((..(((((....(((</td>\n",
       "      <td>1</td>\n",
       "      <td>C=CC=C1c2oc3ccccc3c2C(=O)c2cc(I)c(OC=Cn3cccc3)...</td>\n",
       "      <td>[C, G, G, A, C, A, C, C, C, A, A, G, G, U, G, ...</td>\n",
       "      <td>[., ., ., ., ., ., (, (, (, ., (, (, (, ., (, ...</td>\n",
       "    </tr>\n",
       "    <tr>\n",
       "      <th>104629</th>\n",
       "      <td>CN1CC2(CC3c4ccccc4C=Cc4cccc2c43)C1</td>\n",
       "      <td>AGUUACCACAGGGAUAACUGGCUUGUGGCAG</td>\n",
       "      <td>((((..((((((.......(..(.(.(((((</td>\n",
       "      <td>0</td>\n",
       "      <td>CN1CC2(CC3c4ccccc4C=Cc4cccc2c43)C1</td>\n",
       "      <td>[A, G, U, U, A, C, C, A, C, A, G, G, G, A, U, ...</td>\n",
       "      <td>[(, (, (, (, ., ., (, (, (, (, (, (, ., ., ., ...</td>\n",
       "    </tr>\n",
       "    <tr>\n",
       "      <th>104630</th>\n",
       "      <td>O=C(CC=CN1C=CC2OC(c3ccccc3)c3ccccc3C2=C1)c1ccc...</td>\n",
       "      <td>UUUGGCACCUCGAUGUCGGCUCAUCACAUCC</td>\n",
       "      <td>..(.((.(.(......(..(.((((((..((</td>\n",
       "      <td>0</td>\n",
       "      <td>O=C(CC=CN1C=CC2OC(c3ccccc3)c3ccccc3C2=C1)c1ccc...</td>\n",
       "      <td>[U, U, U, G, G, C, A, C, C, U, C, G, A, U, G, ...</td>\n",
       "      <td>[., ., (, ., (, (, ., (, ., (, ., ., ., ., ., ...</td>\n",
       "    </tr>\n",
       "  </tbody>\n",
       "</table>\n",
       "<p>104631 rows × 7 columns</p>\n",
       "</div>"
      ],
      "text/plain": [
       "                                                   SMILES  \\\n",
       "0                                          CC(O)CC(C)(C)O   \n",
       "1       C=CN1CC2C34CC(C3CC14)C21C2CCC([NH+]3C=CC=C3)C(...   \n",
       "2       C=C(C)C(=C)C=CC12CC13C1CC=C(C=CC4=CC(=O)C=C5OC...   \n",
       "3                                            NCCCCCC(=O)O   \n",
       "4             Clc1ccc(-c2cc(Sc3c(Cl)cccc3Cl)cn3cncc23)cc1   \n",
       "...                                                   ...   \n",
       "104626  C=CCC1C=CC(=O)NCC=CC(C)=CC(O)CC(F)Cc2nc(co2)C(...   \n",
       "104627  O=C(CC=CN1C=CC2OC(c3ccccc3)c3ccccc3C2=C1)c1ccc...   \n",
       "104628  C=CC=C1c2oc3ccccc3c2C(=O)c2cc(I)c(OC=Cn3cccc3)...   \n",
       "104629                 CN1CC2(CC3c4ccccc4C=Cc4cccc2c43)C1   \n",
       "104630  O=C(CC=CN1C=CC2OC(c3ccccc3)c3ccccc3C2=C1)c1ccc...   \n",
       "\n",
       "                        Target Sequence                 Target Structure  \\\n",
       "0       CAUACAAUCGCGUGGAUAUGGCACGCAAGUU  (((((..(.(((((.......(((((.(...   \n",
       "1       GGCUAGCAAGGAACCCACUGCUUAAGCCUCA  ((((((((((((((((((((((((.((((((   \n",
       "2       AAUACCUGCCUGUCACGCAGGGGGUCGCGGG  (((.(((((.......(((((.....(((((   \n",
       "3       UUUUCCAGGCAAAUCCGGAAAAUCAAGGCUG  ((((((.((.....((((((((((..((((.   \n",
       "4       CAGAAAUGGUGCCAAUUCCUGCAGCGGAAAC  ((....(((((((...(....(((((....(   \n",
       "...                                 ...                              ...   \n",
       "104626  UCUCCCCGAAAGCUAUUUAGGUAGCGCCUCG  .((((((....(((((....(((((.(((((   \n",
       "104627  GGCCCGCCCAAACUGCCCUGAAAAGGGCUGA  ((((..........(((((....(((((...   \n",
       "104628  CGGACACCCAAGGUGCUCACACCGGAGACGG  ......(((.(((.(((..(((((....(((   \n",
       "104629  AGUUACCACAGGGAUAACUGGCUUGUGGCAG  ((((..((((((.......(..(.(.(((((   \n",
       "104630  UUUGGCACCUCGAUGUCGGCUCAUCACAUCC  ..(.((.(.(......(..(.((((((..((   \n",
       "\n",
       "        Label                                      drug_encoding  \\\n",
       "0           0                                     CC(O)CC(C)(C)O   \n",
       "1           0  C=CN1CC2C34CC(C3CC14)C21C2CCC([NH+]3C=CC=C3)C(...   \n",
       "2           0  C=C(C)C(=C)C=CC12CC13C1CC=C(C=CC4=CC(=O)C=C5OC...   \n",
       "3           0                                       NCCCCCC(=O)O   \n",
       "4           1        Clc1ccc(-c2cc(Sc3c(Cl)cccc3Cl)cn3cncc23)cc1   \n",
       "...       ...                                                ...   \n",
       "104626      0  C=CCC1C=CC(=O)NCC=CC(C)=CC(O)CC(F)Cc2nc(co2)C(...   \n",
       "104627      0  O=C(CC=CN1C=CC2OC(c3ccccc3)c3ccccc3C2=C1)c1ccc...   \n",
       "104628      1  C=CC=C1c2oc3ccccc3c2C(=O)c2cc(I)c(OC=Cn3cccc3)...   \n",
       "104629      0                 CN1CC2(CC3c4ccccc4C=Cc4cccc2c43)C1   \n",
       "104630      0  O=C(CC=CN1C=CC2OC(c3ccccc3)c3ccccc3C2=C1)c1ccc...   \n",
       "\n",
       "                                          target_encoding  \\\n",
       "0       [C, A, U, A, C, A, A, U, C, G, C, G, U, G, G, ...   \n",
       "1       [G, G, C, U, A, G, C, A, A, G, G, A, A, C, C, ...   \n",
       "2       [A, A, U, A, C, C, U, G, C, C, U, G, U, C, A, ...   \n",
       "3       [U, U, U, U, C, C, A, G, G, C, A, A, A, U, C, ...   \n",
       "4       [C, A, G, A, A, A, U, G, G, U, G, C, C, A, A, ...   \n",
       "...                                                   ...   \n",
       "104626  [U, C, U, C, C, C, C, G, A, A, A, G, C, U, A, ...   \n",
       "104627  [G, G, C, C, C, G, C, C, C, A, A, A, C, U, G, ...   \n",
       "104628  [C, G, G, A, C, A, C, C, C, A, A, G, G, U, G, ...   \n",
       "104629  [A, G, U, U, A, C, C, A, C, A, G, G, G, A, U, ...   \n",
       "104630  [U, U, U, G, G, C, A, C, C, U, C, G, A, U, G, ...   \n",
       "\n",
       "                                       structure_encoding  \n",
       "0       [(, (, (, (, (, ., ., (, ., (, (, (, (, (, ., ...  \n",
       "1       [(, (, (, (, (, (, (, (, (, (, (, (, (, (, (, ...  \n",
       "2       [(, (, (, ., (, (, (, (, (, ., ., ., ., ., ., ...  \n",
       "3       [(, (, (, (, (, (, ., (, (, ., ., ., ., ., (, ...  \n",
       "4       [(, (, ., ., ., ., (, (, (, (, (, (, (, ., ., ...  \n",
       "...                                                   ...  \n",
       "104626  [., (, (, (, (, (, (, ., ., ., ., (, (, (, (, ...  \n",
       "104627  [(, (, (, (, ., ., ., ., ., ., ., ., ., ., (, ...  \n",
       "104628  [., ., ., ., ., ., (, (, (, ., (, (, (, ., (, ...  \n",
       "104629  [(, (, (, (, ., ., (, (, (, (, (, (, ., ., ., ...  \n",
       "104630  [., ., (, ., (, (, ., (, ., (, ., ., ., ., ., ...  \n",
       "\n",
       "[104631 rows x 7 columns]"
      ]
     },
     "execution_count": 14,
     "metadata": {},
     "output_type": "execute_result"
    }
   ],
   "source": [
    "train"
   ]
  },
  {
   "cell_type": "code",
   "execution_count": null,
   "id": "9d410464",
   "metadata": {},
   "outputs": [],
   "source": []
  },
  {
   "cell_type": "code",
   "execution_count": null,
   "id": "d20d0778",
   "metadata": {},
   "outputs": [],
   "source": []
  },
  {
   "cell_type": "code",
   "execution_count": 15,
   "id": "2192cd5c",
   "metadata": {},
   "outputs": [
    {
     "name": "stdout",
     "output_type": "stream",
     "text": [
      "Drug Target Interaction Prediction...\n",
      "in total: 20427 drug-target pairs\n",
      "encoding drug...\n",
      "unique drugs: 50\n",
      "encoding protein...\n",
      "unique target sequence: 7692\n",
      "encoding structure...\n",
      "unique structure sequence: 7855\n",
      "splitting dataset...\n",
      "Done.\n"
     ]
    }
   ],
   "source": [
    "val = processor.encode_ss(X_drugs_val, X_targets_val, X_structures_val, y_val, drug_encoding, target_encoding, random_seed=1)"
   ]
  },
  {
   "cell_type": "code",
   "execution_count": 16,
   "id": "4950a9e2",
   "metadata": {},
   "outputs": [
    {
     "name": "stdout",
     "output_type": "stream",
     "text": [
      "Drug Target Interaction Prediction...\n",
      "in total: 35598 drug-target pairs\n",
      "encoding drug...\n",
      "unique drugs: 99\n",
      "encoding protein...\n",
      "unique target sequence: 8636\n",
      "encoding structure...\n",
      "unique structure sequence: 8837\n",
      "splitting dataset...\n",
      "Done.\n"
     ]
    }
   ],
   "source": [
    "test = processor.encode_ss(X_drugs_test, X_targets_test, X_structures_test, y_test, drug_encoding, target_encoding, random_seed=1)"
   ]
  },
  {
   "cell_type": "code",
   "execution_count": 25,
   "id": "668aa88b",
   "metadata": {},
   "outputs": [],
   "source": [
    "import torch.nn.functional as F\n",
    "\n",
    "param = config.set(drug_encoding, \n",
    "                   target_encoding, \n",
    "                   result_folder = \"./result/\",\n",
    "                   #input_dim_drug = 1024, \n",
    "                   #input_dim_protein = 8420,\n",
    "                   hidden_dim_drug = 128, \n",
    "                   hidden_dim_protein = 128,\n",
    "                   cls_hidden_dims = [1024,1024,512], \n",
    "                   #batch_size = 256, \n",
    "                   batch_size = 256, \n",
    "                   train_epoch = 50, \n",
    "                   LR = 0.001, \n",
    "                   cnn_drug_filters = [32,64,96],\n",
    "                   cnn_drug_kernels = [4,6,8], #odd\n",
    "                   cnn_target_filters = [32,64,96],\n",
    "                   cnn_target_kernels = [4,6,8], #odd\n",
    "                   num_workers=0\n",
    "                  )"
   ]
  },
  {
   "cell_type": "code",
   "execution_count": 26,
   "id": "e23a6a46",
   "metadata": {},
   "outputs": [
    {
     "name": "stdout",
     "output_type": "stream",
     "text": [
      "Downloading gin_supervised_masking_pre_trained.pth from https://data.dgl.ai/dgllife/pre_trained/gin_supervised_masking.pth...\n",
      "Pretrained model loaded\n"
     ]
    }
   ],
   "source": [
    "model = controller.initialize(**param)"
   ]
  },
  {
   "cell_type": "code",
   "execution_count": 27,
   "id": "06665722",
   "metadata": {},
   "outputs": [
    {
     "data": {
      "text/plain": [
       "<controller.SmartNet at 0x7f28fb765f70>"
      ]
     },
     "execution_count": 27,
     "metadata": {},
     "output_type": "execute_result"
    }
   ],
   "source": [
    "model"
   ]
  },
  {
   "cell_type": "code",
   "execution_count": 28,
   "id": "4ad0ca7d",
   "metadata": {},
   "outputs": [
    {
     "name": "stdout",
     "output_type": "stream",
     "text": [
      "Downloading gin_supervised_masking_pre_trained.pth from https://data.dgl.ai/dgllife/pre_trained/gin_supervised_masking.pth...\n",
      "Pretrained model loaded\n"
     ]
    }
   ],
   "source": [
    "model_test = models.Prism_GIN_AttrMasking(**param)"
   ]
  },
  {
   "cell_type": "code",
   "execution_count": 29,
   "id": "c06c57f1",
   "metadata": {
    "scrolled": false
   },
   "outputs": [
    {
     "name": "stdout",
     "output_type": "stream",
     "text": [
      "Prism_GIN_AttrMasking(\n",
      "  (gnn): GIN(\n",
      "    (dropout): Dropout(p=0.5, inplace=False)\n",
      "    (node_embeddings): ModuleList(\n",
      "      (0): Embedding(120, 300)\n",
      "      (1): Embedding(3, 300)\n",
      "    )\n",
      "    (gnn_layers): ModuleList(\n",
      "      (0): GINLayer(\n",
      "        (mlp): Sequential(\n",
      "          (0): Linear(in_features=300, out_features=600, bias=True)\n",
      "          (1): ReLU()\n",
      "          (2): Linear(in_features=600, out_features=300, bias=True)\n",
      "        )\n",
      "        (edge_embeddings): ModuleList(\n",
      "          (0): Embedding(6, 300)\n",
      "          (1): Embedding(3, 300)\n",
      "        )\n",
      "        (bn): BatchNorm1d(300, eps=1e-05, momentum=0.1, affine=True, track_running_stats=True)\n",
      "      )\n",
      "      (1): GINLayer(\n",
      "        (mlp): Sequential(\n",
      "          (0): Linear(in_features=300, out_features=600, bias=True)\n",
      "          (1): ReLU()\n",
      "          (2): Linear(in_features=600, out_features=300, bias=True)\n",
      "        )\n",
      "        (edge_embeddings): ModuleList(\n",
      "          (0): Embedding(6, 300)\n",
      "          (1): Embedding(3, 300)\n",
      "        )\n",
      "        (bn): BatchNorm1d(300, eps=1e-05, momentum=0.1, affine=True, track_running_stats=True)\n",
      "      )\n",
      "      (2): GINLayer(\n",
      "        (mlp): Sequential(\n",
      "          (0): Linear(in_features=300, out_features=600, bias=True)\n",
      "          (1): ReLU()\n",
      "          (2): Linear(in_features=600, out_features=300, bias=True)\n",
      "        )\n",
      "        (edge_embeddings): ModuleList(\n",
      "          (0): Embedding(6, 300)\n",
      "          (1): Embedding(3, 300)\n",
      "        )\n",
      "        (bn): BatchNorm1d(300, eps=1e-05, momentum=0.1, affine=True, track_running_stats=True)\n",
      "      )\n",
      "      (3): GINLayer(\n",
      "        (mlp): Sequential(\n",
      "          (0): Linear(in_features=300, out_features=600, bias=True)\n",
      "          (1): ReLU()\n",
      "          (2): Linear(in_features=600, out_features=300, bias=True)\n",
      "        )\n",
      "        (edge_embeddings): ModuleList(\n",
      "          (0): Embedding(6, 300)\n",
      "          (1): Embedding(3, 300)\n",
      "        )\n",
      "        (bn): BatchNorm1d(300, eps=1e-05, momentum=0.1, affine=True, track_running_stats=True)\n",
      "      )\n",
      "      (4): GINLayer(\n",
      "        (mlp): Sequential(\n",
      "          (0): Linear(in_features=300, out_features=600, bias=True)\n",
      "          (1): ReLU()\n",
      "          (2): Linear(in_features=600, out_features=300, bias=True)\n",
      "        )\n",
      "        (edge_embeddings): ModuleList(\n",
      "          (0): Embedding(6, 300)\n",
      "          (1): Embedding(3, 300)\n",
      "        )\n",
      "        (bn): BatchNorm1d(300, eps=1e-05, momentum=0.1, affine=True, track_running_stats=True)\n",
      "      )\n",
      "    )\n",
      "  )\n",
      "  (readout): AvgPooling()\n",
      "  (transform): Linear(in_features=300, out_features=128, bias=True)\n",
      "  (conv): Conv2d(\n",
      "    (conv): Conv2d(1, 8, kernel_size=(7, 5), stride=(1, 1), padding=(3, 2))\n",
      "    (bn): BatchNorm2d(8, eps=1e-05, momentum=0.1, affine=True, track_running_stats=True)\n",
      "    (relu): ReLU(inplace=True)\n",
      "  )\n",
      "  (se): SEBlock(\n",
      "    (avg_pool): AdaptiveAvgPool2d(output_size=1)\n",
      "    (fc): Sequential(\n",
      "      (0): Linear(in_features=8, out_features=4, bias=True)\n",
      "      (1): ReLU(inplace=True)\n",
      "      (2): Linear(in_features=4, out_features=8, bias=True)\n",
      "      (3): Sigmoid()\n",
      "    )\n",
      "  )\n",
      "  (res2d): ResidualBlock2D(\n",
      "    (c1): Conv2d(8, 8, kernel_size=(1, 1), stride=(1, 1), bias=False)\n",
      "    (b1): BatchNorm2d(8, eps=1e-05, momentum=0.1, affine=True, track_running_stats=True)\n",
      "    (c2): Conv2d(8, 16, kernel_size=(7, 5), stride=(1, 1), padding=(3, 2), bias=False)\n",
      "    (b2): BatchNorm2d(16, eps=1e-05, momentum=0.1, affine=True, track_running_stats=True)\n",
      "    (c3): Conv2d(16, 32, kernel_size=(1, 1), stride=(1, 1), bias=False)\n",
      "    (b3): BatchNorm2d(32, eps=1e-05, momentum=0.1, affine=True, track_running_stats=True)\n",
      "    (downsample): Sequential(\n",
      "      (0): Conv2d(8, 32, kernel_size=(1, 1), stride=(1, 1), bias=False)\n",
      "      (1): BatchNorm2d(32, eps=1e-05, momentum=0.1, affine=True, track_running_stats=True)\n",
      "    )\n",
      "    (relu): ReLU(inplace=True)\n",
      "  )\n",
      "  (res1d): ResidualBlock1D(\n",
      "    (c1): Conv1d(32, 32, kernel_size=(1,), stride=(1,), bias=False)\n",
      "    (b1): BatchNorm1d(32, eps=1e-05, momentum=0.1, affine=True, track_running_stats=True)\n",
      "    (c2): Conv1d(32, 64, kernel_size=(11,), stride=(1,), padding=(5,), bias=False)\n",
      "    (b2): BatchNorm1d(64, eps=1e-05, momentum=0.1, affine=True, track_running_stats=True)\n",
      "    (c3): Conv1d(64, 256, kernel_size=(1,), stride=(1,), bias=False)\n",
      "    (b3): BatchNorm1d(256, eps=1e-05, momentum=0.1, affine=True, track_running_stats=True)\n",
      "    (downsample): Sequential(\n",
      "      (0): Conv1d(32, 256, kernel_size=(1,), stride=(1,), bias=False)\n",
      "      (1): BatchNorm1d(256, eps=1e-05, momentum=0.1, affine=True, track_running_stats=True)\n",
      "    )\n",
      "    (relu): ReLU(inplace=True)\n",
      "  )\n",
      "  (avgpool): AvgPool2d(kernel_size=(1, 5), stride=(1, 5), padding=0)\n",
      "  (gpool): AdaptiveAvgPool1d(output_size=1)\n",
      "  (fct): Linear(in_features=256, out_features=128, bias=True)\n",
      "  (dropout): Dropout(p=0.1, inplace=False)\n",
      "  (fc): ModuleList(\n",
      "    (0): Linear(in_features=256, out_features=1024, bias=True)\n",
      "    (1): Linear(in_features=1024, out_features=1024, bias=True)\n",
      "    (2): Linear(in_features=1024, out_features=512, bias=True)\n",
      "    (3): Linear(in_features=512, out_features=1, bias=True)\n",
      "  )\n",
      ")\n"
     ]
    }
   ],
   "source": [
    "print(model_test)"
   ]
  },
  {
   "cell_type": "code",
   "execution_count": null,
   "id": "34d6b9ef",
   "metadata": {},
   "outputs": [],
   "source": [
    "#20211223"
   ]
  },
  {
   "cell_type": "code",
   "execution_count": null,
   "id": "12a2d8e0",
   "metadata": {},
   "outputs": [
    {
     "name": "stdout",
     "output_type": "stream",
     "text": [
      "Let's use 1 GPU!\n",
      "--- Data Preparation ---\n",
      "--- Go for Training ---\n",
      "Training at Epoch 1 iteration 0 with loss 0.69795. Total time 0.0 hours\n",
      "Training at Epoch 1 iteration 100 with loss 0.65402. Total time 0.02138 hours\n",
      "Training at Epoch 1 iteration 200 with loss 0.61477. Total time 0.0425 hours\n",
      "Training at Epoch 1 iteration 300 with loss 0.62890. Total time 0.06361 hours\n",
      "Training at Epoch 1 iteration 400 with loss 0.60338. Total time 0.08472 hours\n",
      "Validation at Epoch 1, AUROC: 0.67797 , AUPRC: 0.53514 , F1: 0.52238 , Cross-entropy Loss: 0.79497 , ***\n",
      "Training at Epoch 2 iteration 0 with loss 0.58465. Total time 0.10222 hours\n",
      "Training at Epoch 2 iteration 100 with loss 0.56111. Total time 0.12361 hours\n",
      "Training at Epoch 2 iteration 200 with loss 0.55337. Total time 0.14472 hours\n",
      "Training at Epoch 2 iteration 300 with loss 0.57375. Total time 0.16583 hours\n",
      "Training at Epoch 2 iteration 400 with loss 0.54779. Total time 0.18694 hours\n",
      "Validation at Epoch 2, AUROC: 0.70660 , AUPRC: 0.56890 , F1: 0.55773 , Cross-entropy Loss: 0.65645 , ***\n",
      "Training at Epoch 3 iteration 0 with loss 0.56867. Total time 0.20472 hours\n",
      "Training at Epoch 3 iteration 100 with loss 0.55181. Total time 0.22555 hours\n",
      "Training at Epoch 3 iteration 200 with loss 0.54136. Total time 0.24666 hours\n",
      "Training at Epoch 3 iteration 300 with loss 0.56484. Total time 0.2675 hours\n",
      "Training at Epoch 3 iteration 400 with loss 0.52461. Total time 0.28833 hours\n",
      "Validation at Epoch 3, AUROC: 0.71755 , AUPRC: 0.58313 , F1: 0.56725 , Cross-entropy Loss: 0.75550 , ***\n",
      "Training at Epoch 4 iteration 0 with loss 0.52329. Total time 0.30611 hours\n",
      "Training at Epoch 4 iteration 100 with loss 0.50172. Total time 0.32694 hours\n",
      "Training at Epoch 4 iteration 200 with loss 0.53198. Total time 0.34805 hours\n",
      "Training at Epoch 4 iteration 300 with loss 0.52664. Total time 0.36916 hours\n",
      "Training at Epoch 4 iteration 400 with loss 0.48754. Total time 0.39 hours\n",
      "Validation at Epoch 4, AUROC: 0.78026 , AUPRC: 0.63637 , F1: 0.55838 , Cross-entropy Loss: 0.53625 , ***\n",
      "Training at Epoch 5 iteration 0 with loss 0.48526. Total time 0.40722 hours\n",
      "Training at Epoch 5 iteration 100 with loss 0.53772. Total time 0.42805 hours\n",
      "Training at Epoch 5 iteration 200 with loss 0.55707. Total time 0.44916 hours\n",
      "Training at Epoch 5 iteration 300 with loss 0.52039. Total time 0.47 hours\n",
      "Training at Epoch 5 iteration 400 with loss 0.51079. Total time 0.49083 hours\n",
      "Validation at Epoch 5, AUROC: 0.78927 , AUPRC: 0.64352 , F1: 0.59820 , Cross-entropy Loss: 0.51937 , ***\n",
      "Training at Epoch 6 iteration 0 with loss 0.47978. Total time 0.50833 hours\n",
      "Training at Epoch 6 iteration 100 with loss 0.50066. Total time 0.52944 hours\n",
      "Training at Epoch 6 iteration 200 with loss 0.48373. Total time 0.55055 hours\n",
      "Training at Epoch 6 iteration 300 with loss 0.55802. Total time 0.57138 hours\n",
      "Training at Epoch 6 iteration 400 with loss 0.47138. Total time 0.59277 hours\n",
      "Validation at Epoch 6, AUROC: 0.79413 , AUPRC: 0.65257 , F1: 0.56430 , Cross-entropy Loss: 0.51115 , ***\n",
      "Training at Epoch 7 iteration 0 with loss 0.57868. Total time 0.61027 hours\n",
      "Training at Epoch 7 iteration 100 with loss 0.49389. Total time 0.63138 hours\n",
      "Training at Epoch 7 iteration 200 with loss 0.49703. Total time 0.65222 hours\n",
      "Training at Epoch 7 iteration 300 with loss 0.47963. Total time 0.67361 hours\n",
      "Training at Epoch 7 iteration 400 with loss 0.47859. Total time 0.695 hours\n",
      "Validation at Epoch 7, AUROC: 0.76857 , AUPRC: 0.63833 , F1: 0.61125 , Cross-entropy Loss: 0.62401\n",
      "Training at Epoch 8 iteration 0 with loss 0.46626. Total time 0.71333 hours\n",
      "Training at Epoch 8 iteration 100 with loss 0.52237. Total time 0.73611 hours\n",
      "Training at Epoch 8 iteration 200 with loss 0.45563. Total time 0.75833 hours\n",
      "Training at Epoch 8 iteration 300 with loss 0.54050. Total time 0.78055 hours\n",
      "Training at Epoch 8 iteration 400 with loss 0.56687. Total time 0.80305 hours\n",
      "Validation at Epoch 8, AUROC: 0.79075 , AUPRC: 0.65826 , F1: 0.62616 , Cross-entropy Loss: 0.58225\n",
      "Training at Epoch 9 iteration 0 with loss 0.47254. Total time 0.82166 hours\n",
      "Training at Epoch 9 iteration 100 with loss 0.44648. Total time 0.84388 hours\n",
      "Training at Epoch 9 iteration 200 with loss 0.43708. Total time 0.86555 hours\n",
      "Training at Epoch 9 iteration 300 with loss 0.48025. Total time 0.88805 hours\n",
      "Training at Epoch 9 iteration 400 with loss 0.45487. Total time 0.91527 hours\n",
      "Validation at Epoch 9, AUROC: 0.80132 , AUPRC: 0.67203 , F1: 0.59578 , Cross-entropy Loss: 0.52761 , ***\n",
      "Training at Epoch 10 iteration 0 with loss 0.51070. Total time 0.94916 hours\n",
      "Training at Epoch 10 iteration 100 with loss 0.52491. Total time 0.97027 hours\n",
      "Training at Epoch 10 iteration 200 with loss 0.52668. Total time 0.99166 hours\n",
      "Training at Epoch 10 iteration 300 with loss 0.49222. Total time 1.01277 hours\n",
      "Training at Epoch 10 iteration 400 with loss 0.48629. Total time 1.03361 hours\n",
      "Validation at Epoch 10, AUROC: 0.78060 , AUPRC: 0.65408 , F1: 0.61432 , Cross-entropy Loss: 0.60453\n",
      "Training at Epoch 11 iteration 0 with loss 0.48910. Total time 1.05138 hours\n",
      "Training at Epoch 11 iteration 100 with loss 0.55034. Total time 1.07222 hours\n",
      "Training at Epoch 11 iteration 200 with loss 0.47325. Total time 1.09333 hours\n",
      "Training at Epoch 11 iteration 300 with loss 0.55832. Total time 1.11472 hours\n",
      "Training at Epoch 11 iteration 400 with loss 0.50382. Total time 1.13583 hours\n",
      "Validation at Epoch 11, AUROC: 0.79031 , AUPRC: 0.65992 , F1: 0.62450 , Cross-entropy Loss: 0.57841\n",
      "Training at Epoch 12 iteration 0 with loss 0.48636. Total time 1.15333 hours\n",
      "Training at Epoch 12 iteration 100 with loss 0.47940. Total time 1.17444 hours\n",
      "Training at Epoch 12 iteration 200 with loss 0.49920. Total time 1.19555 hours\n",
      "Training at Epoch 12 iteration 300 with loss 0.47022. Total time 1.21666 hours\n",
      "Training at Epoch 12 iteration 400 with loss 0.51372. Total time 1.23777 hours\n",
      "Validation at Epoch 12, AUROC: 0.79787 , AUPRC: 0.67642 , F1: 0.60581 , Cross-entropy Loss: 0.53786\n",
      "Training at Epoch 13 iteration 0 with loss 0.49248. Total time 1.25527 hours\n",
      "Training at Epoch 13 iteration 100 with loss 0.49181. Total time 1.27611 hours\n",
      "Training at Epoch 13 iteration 200 with loss 0.49272. Total time 1.29694 hours\n",
      "Training at Epoch 13 iteration 300 with loss 0.47497. Total time 1.31777 hours\n",
      "Training at Epoch 13 iteration 400 with loss 0.47657. Total time 1.33861 hours\n",
      "Validation at Epoch 13, AUROC: 0.79501 , AUPRC: 0.67531 , F1: 0.62419 , Cross-entropy Loss: 0.56608\n",
      "Training at Epoch 14 iteration 0 with loss 0.43815. Total time 1.35638 hours\n",
      "Training at Epoch 14 iteration 100 with loss 0.47556. Total time 1.37722 hours\n",
      "Training at Epoch 14 iteration 200 with loss 0.44922. Total time 1.39777 hours\n",
      "Training at Epoch 14 iteration 300 with loss 0.48294. Total time 1.41888 hours\n",
      "Training at Epoch 14 iteration 400 with loss 0.45930. Total time 1.44083 hours\n",
      "Validation at Epoch 14, AUROC: 0.77721 , AUPRC: 0.65559 , F1: 0.61152 , Cross-entropy Loss: 0.60228\n",
      "Training at Epoch 15 iteration 0 with loss 0.44007. Total time 1.45888 hours\n",
      "Training at Epoch 15 iteration 100 with loss 0.47616. Total time 1.48055 hours\n",
      "Training at Epoch 15 iteration 200 with loss 0.47874. Total time 1.50194 hours\n",
      "Training at Epoch 15 iteration 300 with loss 0.42858. Total time 1.52305 hours\n",
      "Training at Epoch 15 iteration 400 with loss 0.47278. Total time 1.54472 hours\n",
      "Validation at Epoch 15, AUROC: 0.80951 , AUPRC: 0.68993 , F1: 0.63508 , Cross-entropy Loss: 0.53166 , ***\n",
      "Training at Epoch 16 iteration 0 with loss 0.51748. Total time 1.56277 hours\n",
      "Training at Epoch 16 iteration 100 with loss 0.50055. Total time 1.58444 hours\n",
      "Training at Epoch 16 iteration 200 with loss 0.51041. Total time 1.60611 hours\n",
      "Training at Epoch 16 iteration 300 with loss 0.47586. Total time 1.62777 hours\n",
      "Training at Epoch 16 iteration 400 with loss 0.50021. Total time 1.64916 hours\n",
      "Validation at Epoch 16, AUROC: 0.81613 , AUPRC: 0.69374 , F1: 0.63185 , Cross-entropy Loss: 0.48796 , ***\n",
      "Training at Epoch 17 iteration 0 with loss 0.48841. Total time 1.66694 hours\n",
      "Training at Epoch 17 iteration 100 with loss 0.52427. Total time 1.68833 hours\n",
      "Training at Epoch 17 iteration 200 with loss 0.44294. Total time 1.71138 hours\n"
     ]
    }
   ],
   "source": [
    "model.train(train, val, test)"
   ]
  },
  {
   "cell_type": "code",
   "execution_count": null,
   "id": "0c86a54b",
   "metadata": {},
   "outputs": [],
   "source": []
  },
  {
   "cell_type": "code",
   "execution_count": null,
   "id": "2b27ca6e",
   "metadata": {},
   "outputs": [],
   "source": []
  },
  {
   "cell_type": "code",
   "execution_count": null,
   "id": "4be5099f",
   "metadata": {},
   "outputs": [],
   "source": []
  },
  {
   "cell_type": "code",
   "execution_count": null,
   "id": "f24ac165",
   "metadata": {},
   "outputs": [],
   "source": []
  },
  {
   "cell_type": "code",
   "execution_count": 21,
   "id": "c1d8cbdc",
   "metadata": {},
   "outputs": [],
   "source": [
    "#fixed 20210819 shuffle run"
   ]
  },
  {
   "cell_type": "code",
   "execution_count": 22,
   "id": "ff8e5af8",
   "metadata": {
    "scrolled": true
   },
   "outputs": [
    {
     "name": "stdout",
     "output_type": "stream",
     "text": [
      "Let's use 1 GPU!\n",
      "--- Data Preparation ---\n",
      "--- Go for Training ---\n",
      "Training at Epoch 1 iteration 0 with loss 0.68782. Total time 0.00027 hours\n",
      "Training at Epoch 1 iteration 100 with loss 0.62978. Total time 0.00555 hours\n",
      "Training at Epoch 1 iteration 200 with loss 0.63874. Total time 0.01083 hours\n",
      "Validation at Epoch 1, AUROC: 0.51842 , AUPRC: 0.35101 , F1: 0.0 , Cross-entropy Loss: 0.64068 , ***\n",
      "Training at Epoch 2 iteration 0 with loss 0.66079. Total time 0.01333 hours\n",
      "Training at Epoch 2 iteration 100 with loss 0.62386. Total time 0.01833 hours\n",
      "Training at Epoch 2 iteration 200 with loss 0.64381. Total time 0.02361 hours\n",
      "Validation at Epoch 2, AUROC: 0.52898 , AUPRC: 0.35372 , F1: 0.0 , Cross-entropy Loss: 0.63774 , ***\n",
      "Training at Epoch 3 iteration 0 with loss 0.64444. Total time 0.02583 hours\n",
      "Training at Epoch 3 iteration 100 with loss 0.60774. Total time 0.03111 hours\n",
      "Training at Epoch 3 iteration 200 with loss 0.68503. Total time 0.03638 hours\n",
      "Validation at Epoch 3, AUROC: 0.52761 , AUPRC: 0.36746 , F1: 0.0 , Cross-entropy Loss: 0.64322\n",
      "Training at Epoch 4 iteration 0 with loss 0.64744. Total time 0.03861 hours\n",
      "Training at Epoch 4 iteration 100 with loss 0.64686. Total time 0.04388 hours\n",
      "Training at Epoch 4 iteration 200 with loss 0.63351. Total time 0.04916 hours\n",
      "Validation at Epoch 4, AUROC: 0.52094 , AUPRC: 0.35755 , F1: 0.0 , Cross-entropy Loss: 0.64097\n",
      "Training at Epoch 5 iteration 0 with loss 0.63176. Total time 0.05138 hours\n",
      "Training at Epoch 5 iteration 100 with loss 0.63325. Total time 0.05666 hours\n",
      "Training at Epoch 5 iteration 200 with loss 0.61667. Total time 0.06194 hours\n",
      "Validation at Epoch 5, AUROC: 0.52400 , AUPRC: 0.35013 , F1: 0.0 , Cross-entropy Loss: 0.72173\n",
      "Training at Epoch 6 iteration 0 with loss 0.70823. Total time 0.06444 hours\n",
      "Training at Epoch 6 iteration 100 with loss 0.65601. Total time 0.07 hours\n",
      "Training at Epoch 6 iteration 200 with loss 0.67646. Total time 0.07527 hours\n",
      "Validation at Epoch 6, AUROC: 0.56586 , AUPRC: 0.40906 , F1: 0.37855 , Cross-entropy Loss: 0.70932 , ***\n",
      "Training at Epoch 7 iteration 0 with loss 0.57926. Total time 0.07777 hours\n",
      "Training at Epoch 7 iteration 100 with loss 0.55139. Total time 0.08305 hours\n",
      "Training at Epoch 7 iteration 200 with loss 0.62669. Total time 0.08888 hours\n",
      "Validation at Epoch 7, AUROC: 0.54835 , AUPRC: 0.39045 , F1: 0.19437 , Cross-entropy Loss: 0.69801\n",
      "Training at Epoch 8 iteration 0 with loss 0.59463. Total time 0.09138 hours\n",
      "Training at Epoch 8 iteration 100 with loss 0.58704. Total time 0.09694 hours\n",
      "Training at Epoch 8 iteration 200 with loss 0.61482. Total time 0.10222 hours\n",
      "Validation at Epoch 8, AUROC: 0.59500 , AUPRC: 0.44083 , F1: 0.39356 , Cross-entropy Loss: 0.66369 , ***\n",
      "Training at Epoch 9 iteration 0 with loss 0.53958. Total time 0.10472 hours\n",
      "Training at Epoch 9 iteration 100 with loss 0.65231. Total time 0.11027 hours\n",
      "Training at Epoch 9 iteration 200 with loss 0.48567. Total time 0.11611 hours\n",
      "Validation at Epoch 9, AUROC: 0.59365 , AUPRC: 0.43515 , F1: 0.37984 , Cross-entropy Loss: 0.63369\n",
      "Training at Epoch 10 iteration 0 with loss 0.61842. Total time 0.11833 hours\n",
      "Training at Epoch 10 iteration 100 with loss 0.49171. Total time 0.12388 hours\n",
      "Training at Epoch 10 iteration 200 with loss 0.60550. Total time 0.12916 hours\n",
      "Validation at Epoch 10, AUROC: 0.52524 , AUPRC: 0.36133 , F1: 0.32905 , Cross-entropy Loss: 0.79687\n",
      "Training at Epoch 11 iteration 0 with loss 0.52472. Total time 0.13166 hours\n",
      "Training at Epoch 11 iteration 100 with loss 0.53080. Total time 0.13722 hours\n",
      "Training at Epoch 11 iteration 200 with loss 0.65982. Total time 0.1425 hours\n",
      "Validation at Epoch 11, AUROC: 0.53073 , AUPRC: 0.37392 , F1: 0.31314 , Cross-entropy Loss: 0.79281\n",
      "Training at Epoch 12 iteration 0 with loss 0.54669. Total time 0.145 hours\n",
      "Training at Epoch 12 iteration 100 with loss 0.63879. Total time 0.15111 hours\n",
      "Training at Epoch 12 iteration 200 with loss 0.55073. Total time 0.15638 hours\n",
      "Validation at Epoch 12, AUROC: 0.52507 , AUPRC: 0.36999 , F1: 0.16548 , Cross-entropy Loss: 0.76858\n",
      "Training at Epoch 13 iteration 0 with loss 0.60913. Total time 0.15888 hours\n",
      "Training at Epoch 13 iteration 100 with loss 0.60446. Total time 0.16472 hours\n",
      "Training at Epoch 13 iteration 200 with loss 0.63493. Total time 0.17027 hours\n",
      "Validation at Epoch 13, AUROC: 0.58602 , AUPRC: 0.42679 , F1: 0.39892 , Cross-entropy Loss: 0.69189\n",
      "Training at Epoch 14 iteration 0 with loss 0.53061. Total time 0.17277 hours\n",
      "Training at Epoch 14 iteration 100 with loss 0.57191. Total time 0.17833 hours\n",
      "Training at Epoch 14 iteration 200 with loss 0.53102. Total time 0.18388 hours\n",
      "Validation at Epoch 14, AUROC: 0.57769 , AUPRC: 0.40815 , F1: 0.39614 , Cross-entropy Loss: 0.66740\n",
      "Training at Epoch 15 iteration 0 with loss 0.56698. Total time 0.18638 hours\n",
      "Training at Epoch 15 iteration 100 with loss 0.60632. Total time 0.19194 hours\n",
      "Training at Epoch 15 iteration 200 with loss 0.53703. Total time 0.19722 hours\n",
      "Validation at Epoch 15, AUROC: 0.61389 , AUPRC: 0.45161 , F1: 0.39598 , Cross-entropy Loss: 0.64838 , ***\n",
      "Training at Epoch 16 iteration 0 with loss 0.59405. Total time 0.19972 hours\n",
      "Training at Epoch 16 iteration 100 with loss 0.52986. Total time 0.20527 hours\n",
      "Training at Epoch 16 iteration 200 with loss 0.53571. Total time 0.21083 hours\n",
      "Validation at Epoch 16, AUROC: 0.57231 , AUPRC: 0.41367 , F1: 0.15577 , Cross-entropy Loss: 0.74922\n",
      "Training at Epoch 17 iteration 0 with loss 0.49789. Total time 0.21305 hours\n",
      "Training at Epoch 17 iteration 100 with loss 0.55019. Total time 0.21888 hours\n",
      "Training at Epoch 17 iteration 200 with loss 0.49626. Total time 0.22444 hours\n",
      "Validation at Epoch 17, AUROC: 0.57376 , AUPRC: 0.41880 , F1: 0.37023 , Cross-entropy Loss: 0.76623\n",
      "Training at Epoch 18 iteration 0 with loss 0.60650. Total time 0.22666 hours\n",
      "Training at Epoch 18 iteration 100 with loss 0.63011. Total time 0.23222 hours\n",
      "Training at Epoch 18 iteration 200 with loss 0.50993. Total time 0.23777 hours\n",
      "Validation at Epoch 18, AUROC: 0.52435 , AUPRC: 0.36056 , F1: 0.23139 , Cross-entropy Loss: 0.83249\n",
      "Training at Epoch 19 iteration 0 with loss 0.50681. Total time 0.24 hours\n",
      "Training at Epoch 19 iteration 100 with loss 0.60390. Total time 0.24527 hours\n",
      "Training at Epoch 19 iteration 200 with loss 0.55770. Total time 0.25083 hours\n",
      "Validation at Epoch 19, AUROC: 0.55547 , AUPRC: 0.39615 , F1: 0.34385 , Cross-entropy Loss: 0.84534\n",
      "Training at Epoch 20 iteration 0 with loss 0.39852. Total time 0.25333 hours\n",
      "Training at Epoch 20 iteration 100 with loss 0.47003. Total time 0.25888 hours\n",
      "Training at Epoch 20 iteration 200 with loss 0.50091. Total time 0.26416 hours\n",
      "Validation at Epoch 20, AUROC: 0.62510 , AUPRC: 0.45689 , F1: 0.37450 , Cross-entropy Loss: 0.61734 , ***\n",
      "Training at Epoch 21 iteration 0 with loss 0.58142. Total time 0.26666 hours\n",
      "Training at Epoch 21 iteration 100 with loss 0.53160. Total time 0.27222 hours\n",
      "Training at Epoch 21 iteration 200 with loss 0.52403. Total time 0.27805 hours\n",
      "Validation at Epoch 21, AUROC: 0.63286 , AUPRC: 0.45763 , F1: 0.37585 , Cross-entropy Loss: 0.65805 , ***\n",
      "Training at Epoch 22 iteration 0 with loss 0.59352. Total time 0.28027 hours\n",
      "Training at Epoch 22 iteration 100 with loss 0.49363. Total time 0.28583 hours\n",
      "Training at Epoch 22 iteration 200 with loss 0.47752. Total time 0.29138 hours\n",
      "Validation at Epoch 22, AUROC: 0.62295 , AUPRC: 0.45040 , F1: 0.38904 , Cross-entropy Loss: 0.63306\n",
      "Training at Epoch 23 iteration 0 with loss 0.67609. Total time 0.29416 hours\n",
      "Training at Epoch 23 iteration 100 with loss 0.56828. Total time 0.3 hours\n",
      "Training at Epoch 23 iteration 200 with loss 0.61852. Total time 0.30527 hours\n",
      "Validation at Epoch 23, AUROC: 0.59462 , AUPRC: 0.42675 , F1: 0.40601 , Cross-entropy Loss: 0.72229\n",
      "Training at Epoch 24 iteration 0 with loss 0.58478. Total time 0.30777 hours\n",
      "Training at Epoch 24 iteration 100 with loss 0.46837. Total time 0.31333 hours\n",
      "Training at Epoch 24 iteration 200 with loss 0.59593. Total time 0.31916 hours\n",
      "Validation at Epoch 24, AUROC: 0.57861 , AUPRC: 0.43199 , F1: 0.39020 , Cross-entropy Loss: 0.76130\n",
      "Training at Epoch 25 iteration 0 with loss 0.52141. Total time 0.32138 hours\n",
      "Training at Epoch 25 iteration 100 with loss 0.47746. Total time 0.32722 hours\n"
     ]
    },
    {
     "name": "stdout",
     "output_type": "stream",
     "text": [
      "Training at Epoch 25 iteration 200 with loss 0.55628. Total time 0.33277 hours\n",
      "Validation at Epoch 25, AUROC: 0.61677 , AUPRC: 0.44461 , F1: 0.34141 , Cross-entropy Loss: 0.63653\n",
      "Training at Epoch 26 iteration 0 with loss 0.48882. Total time 0.33555 hours\n",
      "Training at Epoch 26 iteration 100 with loss 0.46888. Total time 0.34111 hours\n",
      "Training at Epoch 26 iteration 200 with loss 0.54899. Total time 0.34694 hours\n",
      "Validation at Epoch 26, AUROC: 0.67331 , AUPRC: 0.48689 , F1: 0.30833 , Cross-entropy Loss: 0.61934 , ***\n",
      "Training at Epoch 27 iteration 0 with loss 0.60519. Total time 0.34944 hours\n",
      "Training at Epoch 27 iteration 100 with loss 0.54907. Total time 0.35527 hours\n",
      "Training at Epoch 27 iteration 200 with loss 0.61537. Total time 0.36083 hours\n",
      "Validation at Epoch 27, AUROC: 0.63477 , AUPRC: 0.46993 , F1: 0.36504 , Cross-entropy Loss: 0.69547\n",
      "Training at Epoch 28 iteration 0 with loss 0.38242. Total time 0.36361 hours\n",
      "Training at Epoch 28 iteration 100 with loss 0.53675. Total time 0.36944 hours\n",
      "Training at Epoch 28 iteration 200 with loss 0.42139. Total time 0.37527 hours\n",
      "Validation at Epoch 28, AUROC: 0.59426 , AUPRC: 0.43093 , F1: 0.31486 , Cross-entropy Loss: 0.72860\n",
      "Training at Epoch 29 iteration 0 with loss 0.43491. Total time 0.37777 hours\n",
      "Training at Epoch 29 iteration 100 with loss 0.48663. Total time 0.38361 hours\n",
      "Training at Epoch 29 iteration 200 with loss 0.49001. Total time 0.38972 hours\n",
      "Validation at Epoch 29, AUROC: 0.61286 , AUPRC: 0.45370 , F1: 0.37137 , Cross-entropy Loss: 0.68982\n",
      "Training at Epoch 30 iteration 0 with loss 0.58873. Total time 0.39222 hours\n",
      "Training at Epoch 30 iteration 100 with loss 0.45982. Total time 0.39861 hours\n",
      "Training at Epoch 30 iteration 200 with loss 0.49239. Total time 0.40444 hours\n",
      "Validation at Epoch 30, AUROC: 0.58835 , AUPRC: 0.39016 , F1: 0.19340 , Cross-entropy Loss: 0.67430\n",
      "Training at Epoch 31 iteration 0 with loss 0.54353. Total time 0.40722 hours\n",
      "Training at Epoch 31 iteration 100 with loss 0.48523. Total time 0.41305 hours\n",
      "Training at Epoch 31 iteration 200 with loss 0.39611. Total time 0.41916 hours\n",
      "Validation at Epoch 31, AUROC: 0.54880 , AUPRC: 0.37748 , F1: 0.22510 , Cross-entropy Loss: 0.79320\n",
      "Training at Epoch 32 iteration 0 with loss 0.52513. Total time 0.42166 hours\n",
      "Training at Epoch 32 iteration 100 with loss 0.55324. Total time 0.42777 hours\n",
      "Training at Epoch 32 iteration 200 with loss 0.47556. Total time 0.43361 hours\n",
      "Validation at Epoch 32, AUROC: 0.58687 , AUPRC: 0.42464 , F1: 0.28861 , Cross-entropy Loss: 0.69138\n",
      "Training at Epoch 33 iteration 0 with loss 0.38806. Total time 0.43638 hours\n",
      "Training at Epoch 33 iteration 100 with loss 0.52877. Total time 0.44222 hours\n",
      "Training at Epoch 33 iteration 200 with loss 0.49916. Total time 0.44805 hours\n",
      "Validation at Epoch 33, AUROC: 0.60108 , AUPRC: 0.42009 , F1: 0.28600 , Cross-entropy Loss: 0.71248\n",
      "Training at Epoch 34 iteration 0 with loss 0.48777. Total time 0.45083 hours\n",
      "Training at Epoch 34 iteration 100 with loss 0.51798. Total time 0.45722 hours\n",
      "Training at Epoch 34 iteration 200 with loss 0.44690. Total time 0.46305 hours\n",
      "Validation at Epoch 34, AUROC: 0.57026 , AUPRC: 0.40638 , F1: 0.30203 , Cross-entropy Loss: 0.78790\n",
      "Training at Epoch 35 iteration 0 with loss 0.39028. Total time 0.46583 hours\n",
      "Training at Epoch 35 iteration 100 with loss 0.39637. Total time 0.47194 hours\n",
      "Training at Epoch 35 iteration 200 with loss 0.46281. Total time 0.47777 hours\n",
      "Validation at Epoch 35, AUROC: 0.62893 , AUPRC: 0.45736 , F1: 0.36140 , Cross-entropy Loss: 0.71868\n",
      "Training at Epoch 36 iteration 0 with loss 0.51339. Total time 0.48055 hours\n",
      "Training at Epoch 36 iteration 100 with loss 0.48785. Total time 0.48666 hours\n",
      "Training at Epoch 36 iteration 200 with loss 0.58906. Total time 0.49277 hours\n",
      "Validation at Epoch 36, AUROC: 0.61196 , AUPRC: 0.45030 , F1: 0.37837 , Cross-entropy Loss: 0.67899\n",
      "Training at Epoch 37 iteration 0 with loss 0.45631. Total time 0.49555 hours\n",
      "Training at Epoch 37 iteration 100 with loss 0.46820. Total time 0.50138 hours\n",
      "Training at Epoch 37 iteration 200 with loss 0.40033. Total time 0.5075 hours\n",
      "Validation at Epoch 37, AUROC: 0.67931 , AUPRC: 0.52607 , F1: 0.48348 , Cross-entropy Loss: 0.59595 , ***\n",
      "Training at Epoch 38 iteration 0 with loss 0.45099. Total time 0.51027 hours\n",
      "Training at Epoch 38 iteration 100 with loss 0.41010. Total time 0.51611 hours\n",
      "Training at Epoch 38 iteration 200 with loss 0.48194. Total time 0.52222 hours\n",
      "Validation at Epoch 38, AUROC: 0.65853 , AUPRC: 0.51146 , F1: 0.42114 , Cross-entropy Loss: 0.62343\n",
      "Training at Epoch 39 iteration 0 with loss 0.48610. Total time 0.52472 hours\n",
      "Training at Epoch 39 iteration 100 with loss 0.47824. Total time 0.53083 hours\n",
      "Training at Epoch 39 iteration 200 with loss 0.33739. Total time 0.53666 hours\n",
      "Validation at Epoch 39, AUROC: 0.74085 , AUPRC: 0.59127 , F1: 0.51136 , Cross-entropy Loss: 0.56120 , ***\n",
      "Training at Epoch 40 iteration 0 with loss 0.49249. Total time 0.53944 hours\n",
      "Training at Epoch 40 iteration 100 with loss 0.43818. Total time 0.54527 hours\n",
      "Training at Epoch 40 iteration 200 with loss 0.52624. Total time 0.55111 hours\n",
      "Validation at Epoch 40, AUROC: 0.74186 , AUPRC: 0.59536 , F1: 0.44612 , Cross-entropy Loss: 0.55005 , ***\n",
      "Training at Epoch 41 iteration 0 with loss 0.40250. Total time 0.55388 hours\n",
      "Training at Epoch 41 iteration 100 with loss 0.40766. Total time 0.56 hours\n",
      "Training at Epoch 41 iteration 200 with loss 0.50523. Total time 0.56583 hours\n",
      "Validation at Epoch 41, AUROC: 0.64758 , AUPRC: 0.52948 , F1: 0.43906 , Cross-entropy Loss: 0.69773\n",
      "Training at Epoch 42 iteration 0 with loss 0.56428. Total time 0.56861 hours\n",
      "Training at Epoch 42 iteration 100 with loss 0.44586. Total time 0.57472 hours\n",
      "Training at Epoch 42 iteration 200 with loss 0.42070. Total time 0.58055 hours\n",
      "Validation at Epoch 42, AUROC: 0.64295 , AUPRC: 0.53849 , F1: 0.44444 , Cross-entropy Loss: 0.70128\n",
      "Training at Epoch 43 iteration 0 with loss 0.58327. Total time 0.58333 hours\n",
      "Training at Epoch 43 iteration 100 with loss 0.48686. Total time 0.58944 hours\n",
      "Training at Epoch 43 iteration 200 with loss 0.42021. Total time 0.59527 hours\n",
      "Validation at Epoch 43, AUROC: 0.68281 , AUPRC: 0.56336 , F1: 0.45746 , Cross-entropy Loss: 0.62813\n",
      "Training at Epoch 44 iteration 0 with loss 0.47521. Total time 0.59777 hours\n",
      "Training at Epoch 44 iteration 100 with loss 0.44654. Total time 0.60388 hours\n",
      "Training at Epoch 44 iteration 200 with loss 0.52416. Total time 0.61 hours\n",
      "Validation at Epoch 44, AUROC: 0.66175 , AUPRC: 0.55408 , F1: 0.45286 , Cross-entropy Loss: 0.62304\n",
      "Training at Epoch 45 iteration 0 with loss 0.35092. Total time 0.61277 hours\n",
      "Training at Epoch 45 iteration 100 with loss 0.55531. Total time 0.61888 hours\n",
      "Training at Epoch 45 iteration 200 with loss 0.41517. Total time 0.62472 hours\n",
      "Validation at Epoch 45, AUROC: 0.67471 , AUPRC: 0.56446 , F1: 0.44100 , Cross-entropy Loss: 0.66106\n",
      "Training at Epoch 46 iteration 0 with loss 0.42210. Total time 0.6275 hours\n",
      "Training at Epoch 46 iteration 100 with loss 0.52656. Total time 0.63361 hours\n",
      "Training at Epoch 46 iteration 200 with loss 0.35957. Total time 0.63944 hours\n",
      "Validation at Epoch 46, AUROC: 0.70075 , AUPRC: 0.58713 , F1: 0.44421 , Cross-entropy Loss: 0.63488\n",
      "Training at Epoch 47 iteration 0 with loss 0.43207. Total time 0.64222 hours\n",
      "Training at Epoch 47 iteration 100 with loss 0.40933. Total time 0.64805 hours\n",
      "Training at Epoch 47 iteration 200 with loss 0.29106. Total time 0.65444 hours\n",
      "Validation at Epoch 47, AUROC: 0.72829 , AUPRC: 0.60795 , F1: 0.48456 , Cross-entropy Loss: 0.57250\n",
      "Training at Epoch 48 iteration 0 with loss 0.43877. Total time 0.65694 hours\n",
      "Training at Epoch 48 iteration 100 with loss 0.41734. Total time 0.66305 hours\n",
      "Training at Epoch 48 iteration 200 with loss 0.48985. Total time 0.66888 hours\n",
      "Validation at Epoch 48, AUROC: 0.70929 , AUPRC: 0.57339 , F1: 0.48055 , Cross-entropy Loss: 0.60051\n",
      "Training at Epoch 49 iteration 0 with loss 0.27694. Total time 0.67166 hours\n",
      "Training at Epoch 49 iteration 100 with loss 0.35359. Total time 0.67777 hours\n",
      "Training at Epoch 49 iteration 200 with loss 0.43906. Total time 0.68388 hours\n",
      "Validation at Epoch 49, AUROC: 0.72235 , AUPRC: 0.58442 , F1: 0.53906 , Cross-entropy Loss: 0.57671\n"
     ]
    },
    {
     "name": "stdout",
     "output_type": "stream",
     "text": [
      "Training at Epoch 50 iteration 0 with loss 0.45847. Total time 0.68666 hours\n",
      "Training at Epoch 50 iteration 100 with loss 0.33824. Total time 0.6925 hours\n",
      "Training at Epoch 50 iteration 200 with loss 0.40699. Total time 0.69861 hours\n",
      "Validation at Epoch 50, AUROC: 0.73658 , AUPRC: 0.60089 , F1: 0.53642 , Cross-entropy Loss: 0.56606\n",
      "Training at Epoch 51 iteration 0 with loss 0.48387. Total time 0.70138 hours\n",
      "Training at Epoch 51 iteration 100 with loss 0.37349. Total time 0.7075 hours\n",
      "Training at Epoch 51 iteration 200 with loss 0.53587. Total time 0.71361 hours\n",
      "Validation at Epoch 51, AUROC: 0.72595 , AUPRC: 0.60510 , F1: 0.52956 , Cross-entropy Loss: 0.56917\n",
      "Training at Epoch 52 iteration 0 with loss 0.41257. Total time 0.71611 hours\n",
      "Training at Epoch 52 iteration 100 with loss 0.34352. Total time 0.72222 hours\n",
      "Training at Epoch 52 iteration 200 with loss 0.43887. Total time 0.72805 hours\n",
      "Validation at Epoch 52, AUROC: 0.72929 , AUPRC: 0.59858 , F1: 0.50553 , Cross-entropy Loss: 0.58413\n",
      "Training at Epoch 53 iteration 0 with loss 0.44833. Total time 0.73055 hours\n",
      "Training at Epoch 53 iteration 100 with loss 0.46293. Total time 0.73611 hours\n",
      "Training at Epoch 53 iteration 200 with loss 0.29837. Total time 0.74194 hours\n",
      "Validation at Epoch 53, AUROC: 0.69992 , AUPRC: 0.57309 , F1: 0.48214 , Cross-entropy Loss: 0.63007\n",
      "Training at Epoch 54 iteration 0 with loss 0.45586. Total time 0.74444 hours\n",
      "Training at Epoch 54 iteration 100 with loss 0.44724. Total time 0.75027 hours\n",
      "Training at Epoch 54 iteration 200 with loss 0.47995. Total time 0.75583 hours\n",
      "Validation at Epoch 54, AUROC: 0.69525 , AUPRC: 0.57841 , F1: 0.46212 , Cross-entropy Loss: 0.59593\n",
      "Training at Epoch 55 iteration 0 with loss 0.43023. Total time 0.75833 hours\n",
      "Training at Epoch 55 iteration 100 with loss 0.36079. Total time 0.76416 hours\n",
      "Training at Epoch 55 iteration 200 with loss 0.53939. Total time 0.77 hours\n",
      "Validation at Epoch 55, AUROC: 0.73940 , AUPRC: 0.59946 , F1: 0.52805 , Cross-entropy Loss: 0.59315\n",
      "Training at Epoch 56 iteration 0 with loss 0.30758. Total time 0.7725 hours\n",
      "Training at Epoch 56 iteration 100 with loss 0.41661. Total time 0.77833 hours\n",
      "Training at Epoch 56 iteration 200 with loss 0.35343. Total time 0.78416 hours\n",
      "Validation at Epoch 56, AUROC: 0.68915 , AUPRC: 0.57082 , F1: 0.46016 , Cross-entropy Loss: 0.63753\n",
      "Training at Epoch 57 iteration 0 with loss 0.37749. Total time 0.78694 hours\n",
      "Training at Epoch 57 iteration 100 with loss 0.45602. Total time 0.79361 hours\n",
      "Training at Epoch 57 iteration 200 with loss 0.35438. Total time 0.8 hours\n",
      "Validation at Epoch 57, AUROC: 0.64395 , AUPRC: 0.54589 , F1: 0.45111 , Cross-entropy Loss: 0.71848\n",
      "Training at Epoch 58 iteration 0 with loss 0.44667. Total time 0.80277 hours\n",
      "Training at Epoch 58 iteration 100 with loss 0.26539. Total time 0.80916 hours\n",
      "Training at Epoch 58 iteration 200 with loss 0.41431. Total time 0.81583 hours\n",
      "Validation at Epoch 58, AUROC: 0.75319 , AUPRC: 0.62665 , F1: 0.53094 , Cross-entropy Loss: 0.55653 , ***\n",
      "Training at Epoch 59 iteration 0 with loss 0.32081. Total time 0.81888 hours\n",
      "Training at Epoch 59 iteration 100 with loss 0.47051. Total time 0.82555 hours\n",
      "Training at Epoch 59 iteration 200 with loss 0.31985. Total time 0.83166 hours\n",
      "Validation at Epoch 59, AUROC: 0.71481 , AUPRC: 0.59800 , F1: 0.47134 , Cross-entropy Loss: 0.62139\n",
      "Training at Epoch 60 iteration 0 with loss 0.60678. Total time 0.83472 hours\n",
      "Training at Epoch 60 iteration 100 with loss 0.42858. Total time 0.84111 hours\n",
      "Training at Epoch 60 iteration 200 with loss 0.42760. Total time 0.84666 hours\n",
      "Validation at Epoch 60, AUROC: 0.73004 , AUPRC: 0.59904 , F1: 0.51471 , Cross-entropy Loss: 0.62348\n",
      "Training at Epoch 61 iteration 0 with loss 0.45254. Total time 0.84944 hours\n",
      "Training at Epoch 61 iteration 100 with loss 0.39261. Total time 0.85527 hours\n",
      "Training at Epoch 61 iteration 200 with loss 0.40232. Total time 0.86111 hours\n",
      "Validation at Epoch 61, AUROC: 0.77779 , AUPRC: 0.63932 , F1: 0.58100 , Cross-entropy Loss: 0.57174 , ***\n",
      "Training at Epoch 62 iteration 0 with loss 0.37533. Total time 0.86388 hours\n",
      "Training at Epoch 62 iteration 100 with loss 0.33854. Total time 0.86972 hours\n",
      "Training at Epoch 62 iteration 200 with loss 0.47021. Total time 0.87555 hours\n",
      "Validation at Epoch 62, AUROC: 0.77562 , AUPRC: 0.64614 , F1: 0.60210 , Cross-entropy Loss: 0.55638\n",
      "Training at Epoch 63 iteration 0 with loss 0.42494. Total time 0.87805 hours\n",
      "Training at Epoch 63 iteration 100 with loss 0.54200. Total time 0.88416 hours\n",
      "Training at Epoch 63 iteration 200 with loss 0.42495. Total time 0.88972 hours\n",
      "Validation at Epoch 63, AUROC: 0.74906 , AUPRC: 0.61860 , F1: 0.54468 , Cross-entropy Loss: 0.58607\n",
      "Training at Epoch 64 iteration 0 with loss 0.51486. Total time 0.8925 hours\n",
      "Training at Epoch 64 iteration 100 with loss 0.37193. Total time 0.89888 hours\n",
      "Training at Epoch 64 iteration 200 with loss 0.42776. Total time 0.90583 hours\n",
      "Validation at Epoch 64, AUROC: 0.77834 , AUPRC: 0.63454 , F1: 0.55640 , Cross-entropy Loss: 0.55139 , ***\n",
      "Training at Epoch 65 iteration 0 with loss 0.46801. Total time 0.90888 hours\n",
      "Training at Epoch 65 iteration 100 with loss 0.46920. Total time 0.91555 hours\n",
      "Training at Epoch 65 iteration 200 with loss 0.48044. Total time 0.9225 hours\n",
      "Validation at Epoch 65, AUROC: 0.77173 , AUPRC: 0.63790 , F1: 0.57072 , Cross-entropy Loss: 0.53897\n",
      "Training at Epoch 66 iteration 0 with loss 0.39832. Total time 0.92583 hours\n",
      "Training at Epoch 66 iteration 100 with loss 0.49216. Total time 0.93305 hours\n",
      "Training at Epoch 66 iteration 200 with loss 0.39420. Total time 0.93972 hours\n",
      "Validation at Epoch 66, AUROC: 0.70937 , AUPRC: 0.57024 , F1: 0.50780 , Cross-entropy Loss: 0.62164\n",
      "Training at Epoch 67 iteration 0 with loss 0.42133. Total time 0.94277 hours\n",
      "Training at Epoch 67 iteration 100 with loss 0.41544. Total time 0.94972 hours\n",
      "Training at Epoch 67 iteration 200 with loss 0.38261. Total time 0.95583 hours\n",
      "Validation at Epoch 67, AUROC: 0.72294 , AUPRC: 0.59685 , F1: 0.54757 , Cross-entropy Loss: 0.61233\n",
      "Training at Epoch 68 iteration 0 with loss 0.36975. Total time 0.95861 hours\n",
      "Training at Epoch 68 iteration 100 with loss 0.45663. Total time 0.96472 hours\n",
      "Training at Epoch 68 iteration 200 with loss 0.36710. Total time 0.97083 hours\n",
      "Validation at Epoch 68, AUROC: 0.76265 , AUPRC: 0.61216 , F1: 0.54609 , Cross-entropy Loss: 0.57402\n",
      "Training at Epoch 69 iteration 0 with loss 0.38787. Total time 0.97361 hours\n",
      "Training at Epoch 69 iteration 100 with loss 0.42130. Total time 0.97944 hours\n",
      "Training at Epoch 69 iteration 200 with loss 0.34053. Total time 0.98555 hours\n",
      "Validation at Epoch 69, AUROC: 0.75757 , AUPRC: 0.61396 , F1: 0.54123 , Cross-entropy Loss: 0.55973\n",
      "Training at Epoch 70 iteration 0 with loss 0.45952. Total time 0.98833 hours\n",
      "Training at Epoch 70 iteration 100 with loss 0.30947. Total time 0.99444 hours\n",
      "Training at Epoch 70 iteration 200 with loss 0.48388. Total time 1.00083 hours\n",
      "Validation at Epoch 70, AUROC: 0.64685 , AUPRC: 0.51831 , F1: 0.43345 , Cross-entropy Loss: 0.69337\n",
      "Training at Epoch 71 iteration 0 with loss 0.32463. Total time 1.00361 hours\n",
      "Training at Epoch 71 iteration 100 with loss 0.41314. Total time 1.00972 hours\n",
      "Training at Epoch 71 iteration 200 with loss 0.32387. Total time 1.01555 hours\n",
      "Validation at Epoch 71, AUROC: 0.79119 , AUPRC: 0.65569 , F1: 0.57506 , Cross-entropy Loss: 0.53823 , ***\n",
      "Training at Epoch 72 iteration 0 with loss 0.44537. Total time 1.01833 hours\n",
      "Training at Epoch 72 iteration 100 with loss 0.27725. Total time 1.02444 hours\n",
      "Training at Epoch 72 iteration 200 with loss 0.34313. Total time 1.03055 hours\n",
      "Validation at Epoch 72, AUROC: 0.76264 , AUPRC: 0.62472 , F1: 0.51671 , Cross-entropy Loss: 0.55988\n",
      "Training at Epoch 73 iteration 0 with loss 0.41896. Total time 1.03333 hours\n",
      "Training at Epoch 73 iteration 100 with loss 0.41204. Total time 1.03944 hours\n",
      "Training at Epoch 73 iteration 200 with loss 0.30276. Total time 1.04527 hours\n",
      "Validation at Epoch 73, AUROC: 0.75902 , AUPRC: 0.62784 , F1: 0.54991 , Cross-entropy Loss: 0.55400\n",
      "Training at Epoch 74 iteration 0 with loss 0.36709. Total time 1.04833 hours\n",
      "Training at Epoch 74 iteration 100 with loss 0.33860. Total time 1.05416 hours\n"
     ]
    },
    {
     "name": "stdout",
     "output_type": "stream",
     "text": [
      "Training at Epoch 74 iteration 200 with loss 0.51978. Total time 1.06027 hours\n",
      "Validation at Epoch 74, AUROC: 0.74788 , AUPRC: 0.60724 , F1: 0.48158 , Cross-entropy Loss: 0.56025\n",
      "Training at Epoch 75 iteration 0 with loss 0.40684. Total time 1.06305 hours\n",
      "Training at Epoch 75 iteration 100 with loss 0.43294. Total time 1.06916 hours\n",
      "Training at Epoch 75 iteration 200 with loss 0.53221. Total time 1.07527 hours\n",
      "Validation at Epoch 75, AUROC: 0.73749 , AUPRC: 0.60399 , F1: 0.48448 , Cross-entropy Loss: 0.61456\n",
      "Training at Epoch 76 iteration 0 with loss 0.31860. Total time 1.07777 hours\n",
      "Training at Epoch 76 iteration 100 with loss 0.34441. Total time 1.08416 hours\n",
      "Training at Epoch 76 iteration 200 with loss 0.50049. Total time 1.09 hours\n",
      "Validation at Epoch 76, AUROC: 0.75411 , AUPRC: 0.61559 , F1: 0.56368 , Cross-entropy Loss: 0.58893\n",
      "Training at Epoch 77 iteration 0 with loss 0.47583. Total time 1.09277 hours\n",
      "Training at Epoch 77 iteration 100 with loss 0.32500. Total time 1.09916 hours\n",
      "Training at Epoch 77 iteration 200 with loss 0.47822. Total time 1.10527 hours\n",
      "Validation at Epoch 77, AUROC: 0.77126 , AUPRC: 0.64100 , F1: 0.57351 , Cross-entropy Loss: 0.58259\n",
      "Training at Epoch 78 iteration 0 with loss 0.45902. Total time 1.10777 hours\n",
      "Training at Epoch 78 iteration 100 with loss 0.35669. Total time 1.11388 hours\n",
      "Training at Epoch 78 iteration 200 with loss 0.39422. Total time 1.12 hours\n",
      "Validation at Epoch 78, AUROC: 0.79569 , AUPRC: 0.66759 , F1: 0.61349 , Cross-entropy Loss: 0.54248 , ***\n",
      "Training at Epoch 79 iteration 0 with loss 0.37004. Total time 1.12277 hours\n",
      "Training at Epoch 79 iteration 100 with loss 0.47762. Total time 1.12916 hours\n",
      "Training at Epoch 79 iteration 200 with loss 0.42544. Total time 1.13555 hours\n",
      "Validation at Epoch 79, AUROC: 0.75177 , AUPRC: 0.61922 , F1: 0.48932 , Cross-entropy Loss: 0.57498\n",
      "Training at Epoch 80 iteration 0 with loss 0.37627. Total time 1.13861 hours\n",
      "Training at Epoch 80 iteration 100 with loss 0.40358. Total time 1.145 hours\n",
      "Training at Epoch 80 iteration 200 with loss 0.55964. Total time 1.15111 hours\n",
      "Validation at Epoch 80, AUROC: 0.70476 , AUPRC: 0.57328 , F1: 0.47174 , Cross-entropy Loss: 0.65590\n",
      "Training at Epoch 81 iteration 0 with loss 0.44913. Total time 1.15416 hours\n",
      "Training at Epoch 81 iteration 100 with loss 0.36116. Total time 1.16055 hours\n",
      "Training at Epoch 81 iteration 200 with loss 0.35593. Total time 1.16722 hours\n",
      "Validation at Epoch 81, AUROC: 0.75565 , AUPRC: 0.61332 , F1: 0.51351 , Cross-entropy Loss: 0.57718\n",
      "Training at Epoch 82 iteration 0 with loss 0.35508. Total time 1.17 hours\n",
      "Training at Epoch 82 iteration 100 with loss 0.32049. Total time 1.17666 hours\n",
      "Training at Epoch 82 iteration 200 with loss 0.43225. Total time 1.1825 hours\n",
      "Validation at Epoch 82, AUROC: 0.75773 , AUPRC: 0.62335 , F1: 0.55058 , Cross-entropy Loss: 0.58542\n",
      "Training at Epoch 83 iteration 0 with loss 0.43668. Total time 1.185 hours\n",
      "Training at Epoch 83 iteration 100 with loss 0.33841. Total time 1.19111 hours\n",
      "Training at Epoch 83 iteration 200 with loss 0.37407. Total time 1.19722 hours\n",
      "Validation at Epoch 83, AUROC: 0.74638 , AUPRC: 0.62213 , F1: 0.51635 , Cross-entropy Loss: 0.58744\n",
      "Training at Epoch 84 iteration 0 with loss 0.35442. Total time 1.19972 hours\n",
      "Training at Epoch 84 iteration 100 with loss 0.34855. Total time 1.20583 hours\n",
      "Training at Epoch 84 iteration 200 with loss 0.41313. Total time 1.21166 hours\n",
      "Validation at Epoch 84, AUROC: 0.78084 , AUPRC: 0.65178 , F1: 0.55490 , Cross-entropy Loss: 0.57788\n",
      "Training at Epoch 85 iteration 0 with loss 0.35323. Total time 1.21416 hours\n",
      "Training at Epoch 85 iteration 100 with loss 0.37265. Total time 1.21972 hours\n",
      "Training at Epoch 85 iteration 200 with loss 0.28300. Total time 1.22527 hours\n",
      "Validation at Epoch 85, AUROC: 0.74795 , AUPRC: 0.61828 , F1: 0.51221 , Cross-entropy Loss: 0.60065\n",
      "Training at Epoch 86 iteration 0 with loss 0.44501. Total time 1.22777 hours\n",
      "Training at Epoch 86 iteration 100 with loss 0.52145. Total time 1.23388 hours\n",
      "Training at Epoch 86 iteration 200 with loss 0.40768. Total time 1.24055 hours\n",
      "Validation at Epoch 86, AUROC: 0.76955 , AUPRC: 0.64731 , F1: 0.55041 , Cross-entropy Loss: 0.59548\n",
      "Training at Epoch 87 iteration 0 with loss 0.36364. Total time 1.24361 hours\n",
      "Training at Epoch 87 iteration 100 with loss 0.38147. Total time 1.25055 hours\n",
      "Training at Epoch 87 iteration 200 with loss 0.37910. Total time 1.25722 hours\n",
      "Validation at Epoch 87, AUROC: 0.72676 , AUPRC: 0.58541 , F1: 0.47016 , Cross-entropy Loss: 0.64330\n",
      "Training at Epoch 88 iteration 0 with loss 0.32963. Total time 1.26027 hours\n",
      "Training at Epoch 88 iteration 100 with loss 0.37738. Total time 1.26722 hours\n",
      "Training at Epoch 88 iteration 200 with loss 0.37484. Total time 1.27388 hours\n",
      "Validation at Epoch 88, AUROC: 0.76844 , AUPRC: 0.61764 , F1: 0.58901 , Cross-entropy Loss: 0.59649\n",
      "Training at Epoch 89 iteration 0 with loss 0.34669. Total time 1.27694 hours\n",
      "Training at Epoch 89 iteration 100 with loss 0.34642. Total time 1.28388 hours\n",
      "Training at Epoch 89 iteration 200 with loss 0.38898. Total time 1.29 hours\n",
      "Validation at Epoch 89, AUROC: 0.74840 , AUPRC: 0.59917 , F1: 0.50086 , Cross-entropy Loss: 0.57566\n",
      "Training at Epoch 90 iteration 0 with loss 0.31362. Total time 1.2925 hours\n",
      "Training at Epoch 90 iteration 100 with loss 0.40107. Total time 1.29833 hours\n",
      "Training at Epoch 90 iteration 200 with loss 0.55319. Total time 1.30388 hours\n",
      "Validation at Epoch 90, AUROC: 0.74045 , AUPRC: 0.60484 , F1: 0.49468 , Cross-entropy Loss: 0.61475\n",
      "Training at Epoch 91 iteration 0 with loss 0.40576. Total time 1.30638 hours\n",
      "Training at Epoch 91 iteration 100 with loss 0.36592. Total time 1.31194 hours\n",
      "Training at Epoch 91 iteration 200 with loss 0.40090. Total time 1.3175 hours\n",
      "Validation at Epoch 91, AUROC: 0.70641 , AUPRC: 0.57138 , F1: 0.50285 , Cross-entropy Loss: 0.65595\n",
      "Training at Epoch 92 iteration 0 with loss 0.40137. Total time 1.32 hours\n",
      "Training at Epoch 92 iteration 100 with loss 0.35273. Total time 1.32583 hours\n",
      "Training at Epoch 92 iteration 200 with loss 0.46027. Total time 1.33138 hours\n",
      "Validation at Epoch 92, AUROC: 0.75272 , AUPRC: 0.59975 , F1: 0.55183 , Cross-entropy Loss: 0.60412\n",
      "Training at Epoch 93 iteration 0 with loss 0.25674. Total time 1.33388 hours\n",
      "Training at Epoch 93 iteration 100 with loss 0.40723. Total time 1.33972 hours\n",
      "Training at Epoch 93 iteration 200 with loss 0.36722. Total time 1.34527 hours\n",
      "Validation at Epoch 93, AUROC: 0.75028 , AUPRC: 0.61669 , F1: 0.55043 , Cross-entropy Loss: 0.58377\n",
      "Training at Epoch 94 iteration 0 with loss 0.39354. Total time 1.34777 hours\n",
      "Training at Epoch 94 iteration 100 with loss 0.32249. Total time 1.35333 hours\n",
      "Training at Epoch 94 iteration 200 with loss 0.43220. Total time 1.35888 hours\n",
      "Validation at Epoch 94, AUROC: 0.76454 , AUPRC: 0.62013 , F1: 0.52846 , Cross-entropy Loss: 0.60536\n",
      "Training at Epoch 95 iteration 0 with loss 0.35332. Total time 1.36138 hours\n",
      "Training at Epoch 95 iteration 100 with loss 0.38898. Total time 1.36694 hours\n",
      "Training at Epoch 95 iteration 200 with loss 0.38132. Total time 1.37222 hours\n",
      "Validation at Epoch 95, AUROC: 0.76146 , AUPRC: 0.62818 , F1: 0.52926 , Cross-entropy Loss: 0.58504\n",
      "Training at Epoch 96 iteration 0 with loss 0.27802. Total time 1.37472 hours\n",
      "Training at Epoch 96 iteration 100 with loss 0.41727. Total time 1.38027 hours\n",
      "Training at Epoch 96 iteration 200 with loss 0.32424. Total time 1.38583 hours\n",
      "Validation at Epoch 96, AUROC: 0.76476 , AUPRC: 0.63359 , F1: 0.52346 , Cross-entropy Loss: 0.60305\n",
      "Training at Epoch 97 iteration 0 with loss 0.26235. Total time 1.38833 hours\n",
      "Training at Epoch 97 iteration 100 with loss 0.40902. Total time 1.39388 hours\n",
      "Training at Epoch 97 iteration 200 with loss 0.29134. Total time 1.39944 hours\n",
      "Validation at Epoch 97, AUROC: 0.74287 , AUPRC: 0.60148 , F1: 0.51461 , Cross-entropy Loss: 0.61875\n",
      "Training at Epoch 98 iteration 0 with loss 0.36217. Total time 1.40166 hours\n",
      "Training at Epoch 98 iteration 100 with loss 0.36737. Total time 1.40694 hours\n",
      "Training at Epoch 98 iteration 200 with loss 0.37230. Total time 1.41277 hours\n",
      "Validation at Epoch 98, AUROC: 0.78327 , AUPRC: 0.64654 , F1: 0.54560 , Cross-entropy Loss: 0.60140\n",
      "Training at Epoch 99 iteration 0 with loss 0.51974. Total time 1.41527 hours\n"
     ]
    },
    {
     "name": "stdout",
     "output_type": "stream",
     "text": [
      "Training at Epoch 99 iteration 100 with loss 0.36188. Total time 1.42083 hours\n",
      "Training at Epoch 99 iteration 200 with loss 0.43816. Total time 1.42611 hours\n",
      "Early stop at 99\n",
      "--- Finished ---\n",
      "--- Go for Testing ---\n",
      "Testing at Epoch 77 , AUROC: 0.76125 , AUPRC: 0.60733 , F1: 0.54316 , Cross-entropy Loss: 0.60523\n",
      "--- Training Finished ---\n"
     ]
    },
    {
     "data": {
      "image/png": "[encoded data removed]",
      "text/plain": [
       "<Figure size 432x288 with 1 Axes>"
      ]
     },
     "metadata": {
      "needs_background": "light"
     },
     "output_type": "display_data"
    },
    {
     "data": {
      "image/png": "[encoded data removed]",
      "text/plain": [
       "<Figure size 432x288 with 1 Axes>"
      ]
     },
     "metadata": {
      "needs_background": "light"
     },
     "output_type": "display_data"
    },
    {
     "data": {
      "image/png": "[encoded data removed]",
      "text/plain": [
       "<Figure size 432x288 with 2 Axes>"
      ]
     },
     "metadata": {
      "needs_background": "light"
     },
     "output_type": "display_data"
    },
    {
     "data": {
      "image/png": "[encoded data removed]",
      "text/plain": [
       "<Figure size 432x288 with 1 Axes>"
      ]
     },
     "metadata": {
      "needs_background": "light"
     },
     "output_type": "display_data"
    }
   ],
   "source": [
    "model.train(train, val, test)"
   ]
  },
  {
   "cell_type": "code",
   "execution_count": null,
   "id": "d98730dc",
   "metadata": {},
   "outputs": [],
   "source": []
  },
  {
   "cell_type": "code",
   "execution_count": null,
   "id": "dd647fcd",
   "metadata": {},
   "outputs": [],
   "source": [
    "#fixed 20210819 shuffle test2"
   ]
  },
  {
   "cell_type": "code",
   "execution_count": 21,
   "id": "8ac843eb",
   "metadata": {
    "scrolled": false
   },
   "outputs": [
    {
     "name": "stdout",
     "output_type": "stream",
     "text": [
      "Let's use 1 GPU!\n",
      "--- Data Preparation ---\n",
      "--- Go for Training ---\n",
      "Training at Epoch 1 iteration 0 with loss 0.69275. Total time 0.00027 hours\n",
      "Training at Epoch 1 iteration 100 with loss 0.62738. Total time 0.005 hours\n",
      "Training at Epoch 1 iteration 200 with loss 0.65761. Total time 0.01 hours\n",
      "Validation at Epoch 1, AUROC: 0.48285 , AUPRC: 0.33382 , F1: 0.0 , Cross-entropy Loss: 0.64348 , ***\n",
      "Training at Epoch 2 iteration 0 with loss 0.59113. Total time 0.01222 hours\n",
      "Training at Epoch 2 iteration 100 with loss 0.59240. Total time 0.01722 hours\n",
      "Training at Epoch 2 iteration 200 with loss 0.67326. Total time 0.0225 hours\n",
      "Validation at Epoch 2, AUROC: 0.47997 , AUPRC: 0.32016 , F1: 0.0 , Cross-entropy Loss: 0.64682\n",
      "Training at Epoch 3 iteration 0 with loss 0.64355. Total time 0.02472 hours\n",
      "Training at Epoch 3 iteration 100 with loss 0.56680. Total time 0.02972 hours\n",
      "Training at Epoch 3 iteration 200 with loss 0.60188. Total time 0.03472 hours\n",
      "Validation at Epoch 3, AUROC: 0.50723 , AUPRC: 0.35051 , F1: 0.0 , Cross-entropy Loss: 0.63873 , ***\n",
      "Training at Epoch 4 iteration 0 with loss 0.60781. Total time 0.03694 hours\n",
      "Training at Epoch 4 iteration 100 with loss 0.67514. Total time 0.04194 hours\n",
      "Training at Epoch 4 iteration 200 with loss 0.60937. Total time 0.04694 hours\n",
      "Validation at Epoch 4, AUROC: 0.45454 , AUPRC: 0.30900 , F1: 0.02332 , Cross-entropy Loss: 0.66073\n",
      "Training at Epoch 5 iteration 0 with loss 0.64144. Total time 0.04916 hours\n",
      "Training at Epoch 5 iteration 100 with loss 0.51540. Total time 0.05416 hours\n",
      "Training at Epoch 5 iteration 200 with loss 0.63616. Total time 0.05916 hours\n",
      "Validation at Epoch 5, AUROC: 0.51844 , AUPRC: 0.36814 , F1: 0.0 , Cross-entropy Loss: 0.64429 , ***\n",
      "Training at Epoch 6 iteration 0 with loss 0.66815. Total time 0.06138 hours\n",
      "Training at Epoch 6 iteration 100 with loss 0.55446. Total time 0.06666 hours\n",
      "Training at Epoch 6 iteration 200 with loss 0.57430. Total time 0.07166 hours\n",
      "Validation at Epoch 6, AUROC: 0.63452 , AUPRC: 0.45673 , F1: 0.12566 , Cross-entropy Loss: 0.61468 , ***\n",
      "Training at Epoch 7 iteration 0 with loss 0.59410. Total time 0.07388 hours\n",
      "Training at Epoch 7 iteration 100 with loss 0.60876. Total time 0.07888 hours\n",
      "Training at Epoch 7 iteration 200 with loss 0.63053. Total time 0.08388 hours\n",
      "Validation at Epoch 7, AUROC: 0.59918 , AUPRC: 0.41674 , F1: 0.12715 , Cross-entropy Loss: 0.62109\n",
      "Training at Epoch 8 iteration 0 with loss 0.61617. Total time 0.08611 hours\n",
      "Training at Epoch 8 iteration 100 with loss 0.61697. Total time 0.09111 hours\n",
      "Training at Epoch 8 iteration 200 with loss 0.58609. Total time 0.09638 hours\n",
      "Validation at Epoch 8, AUROC: 0.58831 , AUPRC: 0.42330 , F1: 0.08215 , Cross-entropy Loss: 0.63159\n",
      "Training at Epoch 9 iteration 0 with loss 0.59660. Total time 0.09861 hours\n",
      "Training at Epoch 9 iteration 100 with loss 0.67017. Total time 0.10361 hours\n",
      "Training at Epoch 9 iteration 200 with loss 0.60245. Total time 0.10861 hours\n",
      "Validation at Epoch 9, AUROC: 0.65260 , AUPRC: 0.47885 , F1: 0.06250 , Cross-entropy Loss: 0.60372 , ***\n",
      "Training at Epoch 10 iteration 0 with loss 0.66274. Total time 0.11083 hours\n",
      "Training at Epoch 10 iteration 100 with loss 0.59682. Total time 0.11583 hours\n",
      "Training at Epoch 10 iteration 200 with loss 0.56758. Total time 0.12083 hours\n",
      "Validation at Epoch 10, AUROC: 0.63676 , AUPRC: 0.49866 , F1: 0.36655 , Cross-entropy Loss: 0.60736\n",
      "Training at Epoch 11 iteration 0 with loss 0.53990. Total time 0.12305 hours\n",
      "Training at Epoch 11 iteration 100 with loss 0.59030. Total time 0.12805 hours\n",
      "Training at Epoch 11 iteration 200 with loss 0.58270. Total time 0.13333 hours\n",
      "Validation at Epoch 11, AUROC: 0.63754 , AUPRC: 0.48826 , F1: 0.28399 , Cross-entropy Loss: 0.61480\n",
      "Training at Epoch 12 iteration 0 with loss 0.52587. Total time 0.13555 hours\n",
      "Training at Epoch 12 iteration 100 with loss 0.63505. Total time 0.14055 hours\n",
      "Training at Epoch 12 iteration 200 with loss 0.57942. Total time 0.14527 hours\n",
      "Validation at Epoch 12, AUROC: 0.64473 , AUPRC: 0.49709 , F1: 0.40248 , Cross-entropy Loss: 0.60162\n",
      "Training at Epoch 13 iteration 0 with loss 0.54309. Total time 0.1475 hours\n",
      "Training at Epoch 13 iteration 100 with loss 0.63472. Total time 0.15222 hours\n",
      "Training at Epoch 13 iteration 200 with loss 0.57280. Total time 0.15694 hours\n",
      "Validation at Epoch 13, AUROC: 0.64475 , AUPRC: 0.51286 , F1: 0.36141 , Cross-entropy Loss: 0.60767\n",
      "Training at Epoch 14 iteration 0 with loss 0.52449. Total time 0.15916 hours\n",
      "Training at Epoch 14 iteration 100 with loss 0.61141. Total time 0.16416 hours\n",
      "Training at Epoch 14 iteration 200 with loss 0.53704. Total time 0.16916 hours\n",
      "Validation at Epoch 14, AUROC: 0.65492 , AUPRC: 0.52190 , F1: 0.34467 , Cross-entropy Loss: 0.62040 , ***\n",
      "Training at Epoch 15 iteration 0 with loss 0.48951. Total time 0.17138 hours\n",
      "Training at Epoch 15 iteration 100 with loss 0.58072. Total time 0.17666 hours\n",
      "Training at Epoch 15 iteration 200 with loss 0.56371. Total time 0.18166 hours\n",
      "Validation at Epoch 15, AUROC: 0.63563 , AUPRC: 0.50173 , F1: 0.28674 , Cross-entropy Loss: 0.61764\n",
      "Training at Epoch 16 iteration 0 with loss 0.59320. Total time 0.18388 hours\n",
      "Training at Epoch 16 iteration 100 with loss 0.55931. Total time 0.18888 hours\n",
      "Training at Epoch 16 iteration 200 with loss 0.60934. Total time 0.19388 hours\n",
      "Validation at Epoch 16, AUROC: 0.62635 , AUPRC: 0.48522 , F1: 0.21573 , Cross-entropy Loss: 0.63567\n",
      "Training at Epoch 17 iteration 0 with loss 0.68346. Total time 0.19611 hours\n",
      "Training at Epoch 17 iteration 100 with loss 0.62683. Total time 0.20138 hours\n",
      "Training at Epoch 17 iteration 200 with loss 0.58808. Total time 0.20638 hours\n",
      "Validation at Epoch 17, AUROC: 0.66283 , AUPRC: 0.52004 , F1: 0.34213 , Cross-entropy Loss: 0.59703 , ***\n",
      "Training at Epoch 18 iteration 0 with loss 0.60846. Total time 0.20833 hours\n",
      "Training at Epoch 18 iteration 100 with loss 0.58744. Total time 0.21361 hours\n",
      "Training at Epoch 18 iteration 200 with loss 0.52522. Total time 0.21861 hours\n",
      "Validation at Epoch 18, AUROC: 0.65167 , AUPRC: 0.52412 , F1: 0.41127 , Cross-entropy Loss: 0.61174\n",
      "Training at Epoch 19 iteration 0 with loss 0.57317. Total time 0.22083 hours\n",
      "Training at Epoch 19 iteration 100 with loss 0.56959. Total time 0.22583 hours\n",
      "Training at Epoch 19 iteration 200 with loss 0.62726. Total time 0.23083 hours\n",
      "Validation at Epoch 19, AUROC: 0.67024 , AUPRC: 0.53934 , F1: 0.38822 , Cross-entropy Loss: 0.61518 , ***\n",
      "Training at Epoch 20 iteration 0 with loss 0.57315. Total time 0.23305 hours\n",
      "Training at Epoch 20 iteration 100 with loss 0.47108. Total time 0.23805 hours\n",
      "Training at Epoch 20 iteration 200 with loss 0.56666. Total time 0.24277 hours\n",
      "Validation at Epoch 20, AUROC: 0.66998 , AUPRC: 0.54117 , F1: 0.41875 , Cross-entropy Loss: 0.60227\n",
      "Training at Epoch 21 iteration 0 with loss 0.63979. Total time 0.245 hours\n",
      "Training at Epoch 21 iteration 100 with loss 0.56059. Total time 0.25 hours\n",
      "Training at Epoch 21 iteration 200 with loss 0.50301. Total time 0.255 hours\n",
      "Validation at Epoch 21, AUROC: 0.66811 , AUPRC: 0.53835 , F1: 0.40799 , Cross-entropy Loss: 0.59710\n",
      "Training at Epoch 22 iteration 0 with loss 0.57131. Total time 0.25722 hours\n",
      "Training at Epoch 22 iteration 100 with loss 0.51078. Total time 0.26222 hours\n",
      "Training at Epoch 22 iteration 200 with loss 0.57760. Total time 0.26722 hours\n",
      "Validation at Epoch 22, AUROC: 0.68433 , AUPRC: 0.55318 , F1: 0.39913 , Cross-entropy Loss: 0.60013 , ***\n",
      "Training at Epoch 23 iteration 0 with loss 0.53031. Total time 0.26916 hours\n",
      "Training at Epoch 23 iteration 100 with loss 0.48599. Total time 0.27416 hours\n",
      "Training at Epoch 23 iteration 200 with loss 0.58130. Total time 0.27916 hours\n",
      "Validation at Epoch 23, AUROC: 0.67590 , AUPRC: 0.53847 , F1: 0.41308 , Cross-entropy Loss: 0.64154\n",
      "Training at Epoch 24 iteration 0 with loss 0.51700. Total time 0.28138 hours\n",
      "Training at Epoch 24 iteration 100 with loss 0.55798. Total time 0.28638 hours\n",
      "Training at Epoch 24 iteration 200 with loss 0.55093. Total time 0.29166 hours\n",
      "Validation at Epoch 24, AUROC: 0.67068 , AUPRC: 0.54163 , F1: 0.41719 , Cross-entropy Loss: 0.59562\n",
      "Training at Epoch 25 iteration 0 with loss 0.46955. Total time 0.29388 hours\n",
      "Training at Epoch 25 iteration 100 with loss 0.53023. Total time 0.29861 hours\n"
     ]
    },
    {
     "name": "stdout",
     "output_type": "stream",
     "text": [
      "Training at Epoch 25 iteration 200 with loss 0.55032. Total time 0.30361 hours\n",
      "Validation at Epoch 25, AUROC: 0.68047 , AUPRC: 0.55148 , F1: 0.40794 , Cross-entropy Loss: 0.61316\n",
      "Training at Epoch 26 iteration 0 with loss 0.46557. Total time 0.30611 hours\n",
      "Training at Epoch 26 iteration 100 with loss 0.53343. Total time 0.31111 hours\n",
      "Training at Epoch 26 iteration 200 with loss 0.59602. Total time 0.31611 hours\n",
      "Validation at Epoch 26, AUROC: 0.67486 , AUPRC: 0.53619 , F1: 0.37583 , Cross-entropy Loss: 0.59859\n",
      "Training at Epoch 27 iteration 0 with loss 0.64006. Total time 0.31833 hours\n",
      "Training at Epoch 27 iteration 100 with loss 0.57627. Total time 0.32333 hours\n",
      "Training at Epoch 27 iteration 200 with loss 0.57739. Total time 0.32805 hours\n",
      "Validation at Epoch 27, AUROC: 0.66593 , AUPRC: 0.55034 , F1: 0.41606 , Cross-entropy Loss: 0.58895\n",
      "Training at Epoch 28 iteration 0 with loss 0.48315. Total time 0.33027 hours\n",
      "Training at Epoch 28 iteration 100 with loss 0.62649. Total time 0.33555 hours\n",
      "Training at Epoch 28 iteration 200 with loss 0.54319. Total time 0.34055 hours\n",
      "Validation at Epoch 28, AUROC: 0.68952 , AUPRC: 0.55093 , F1: 0.40343 , Cross-entropy Loss: 0.60669 , ***\n",
      "Training at Epoch 29 iteration 0 with loss 0.50150. Total time 0.34277 hours\n",
      "Training at Epoch 29 iteration 100 with loss 0.47885. Total time 0.34777 hours\n",
      "Training at Epoch 29 iteration 200 with loss 0.48602. Total time 0.35277 hours\n",
      "Validation at Epoch 29, AUROC: 0.66011 , AUPRC: 0.52850 , F1: 0.41445 , Cross-entropy Loss: 0.62269\n",
      "Training at Epoch 30 iteration 0 with loss 0.48813. Total time 0.355 hours\n",
      "Training at Epoch 30 iteration 100 with loss 0.52318. Total time 0.35972 hours\n",
      "Training at Epoch 30 iteration 200 with loss 0.76700. Total time 0.365 hours\n",
      "Validation at Epoch 30, AUROC: 0.67846 , AUPRC: 0.54389 , F1: 0.41350 , Cross-entropy Loss: 0.59615\n",
      "Training at Epoch 31 iteration 0 with loss 0.49580. Total time 0.36722 hours\n",
      "Training at Epoch 31 iteration 100 with loss 0.47645. Total time 0.37222 hours\n",
      "Training at Epoch 31 iteration 200 with loss 0.46846. Total time 0.37722 hours\n",
      "Validation at Epoch 31, AUROC: 0.67290 , AUPRC: 0.54260 , F1: 0.41009 , Cross-entropy Loss: 0.61577\n",
      "Training at Epoch 32 iteration 0 with loss 0.56502. Total time 0.37972 hours\n",
      "Training at Epoch 32 iteration 100 with loss 0.55616. Total time 0.38444 hours\n",
      "Training at Epoch 32 iteration 200 with loss 0.55080. Total time 0.38972 hours\n",
      "Validation at Epoch 32, AUROC: 0.65683 , AUPRC: 0.52908 , F1: 0.39153 , Cross-entropy Loss: 0.62373\n",
      "Training at Epoch 33 iteration 0 with loss 0.55179. Total time 0.39194 hours\n",
      "Training at Epoch 33 iteration 100 with loss 0.59460. Total time 0.39694 hours\n",
      "Training at Epoch 33 iteration 200 with loss 0.54666. Total time 0.40194 hours\n",
      "Validation at Epoch 33, AUROC: 0.66997 , AUPRC: 0.54527 , F1: 0.43584 , Cross-entropy Loss: 0.61459\n",
      "Training at Epoch 34 iteration 0 with loss 0.44412. Total time 0.40416 hours\n",
      "Training at Epoch 34 iteration 100 with loss 0.48525. Total time 0.40916 hours\n",
      "Training at Epoch 34 iteration 200 with loss 0.53061. Total time 0.41444 hours\n",
      "Validation at Epoch 34, AUROC: 0.67791 , AUPRC: 0.54235 , F1: 0.41737 , Cross-entropy Loss: 0.59564\n",
      "Training at Epoch 35 iteration 0 with loss 0.61318. Total time 0.41666 hours\n",
      "Training at Epoch 35 iteration 100 with loss 0.56737. Total time 0.42166 hours\n",
      "Training at Epoch 35 iteration 200 with loss 0.47175. Total time 0.42666 hours\n",
      "Validation at Epoch 35, AUROC: 0.65961 , AUPRC: 0.52599 , F1: 0.40463 , Cross-entropy Loss: 0.60005\n",
      "Training at Epoch 36 iteration 0 with loss 0.55107. Total time 0.42861 hours\n",
      "Training at Epoch 36 iteration 100 with loss 0.58689. Total time 0.43361 hours\n",
      "Training at Epoch 36 iteration 200 with loss 0.54894. Total time 0.43861 hours\n",
      "Validation at Epoch 36, AUROC: 0.69251 , AUPRC: 0.54513 , F1: 0.36444 , Cross-entropy Loss: 0.58942 , ***\n",
      "Training at Epoch 37 iteration 0 with loss 0.52972. Total time 0.44111 hours\n",
      "Training at Epoch 37 iteration 100 with loss 0.49099. Total time 0.44583 hours\n",
      "Training at Epoch 37 iteration 200 with loss 0.45559. Total time 0.45083 hours\n",
      "Validation at Epoch 37, AUROC: 0.70619 , AUPRC: 0.56601 , F1: 0.43799 , Cross-entropy Loss: 0.58506 , ***\n",
      "Training at Epoch 38 iteration 0 with loss 0.50698. Total time 0.45305 hours\n",
      "Training at Epoch 38 iteration 100 with loss 0.55290. Total time 0.45805 hours\n",
      "Training at Epoch 38 iteration 200 with loss 0.43948. Total time 0.46305 hours\n",
      "Validation at Epoch 38, AUROC: 0.69107 , AUPRC: 0.55316 , F1: 0.42619 , Cross-entropy Loss: 0.60326\n",
      "Training at Epoch 39 iteration 0 with loss 0.53195. Total time 0.46527 hours\n",
      "Training at Epoch 39 iteration 100 with loss 0.56622. Total time 0.47027 hours\n",
      "Training at Epoch 39 iteration 200 with loss 0.53708. Total time 0.47527 hours\n",
      "Validation at Epoch 39, AUROC: 0.67907 , AUPRC: 0.53257 , F1: 0.36040 , Cross-entropy Loss: 0.61234\n",
      "Training at Epoch 40 iteration 0 with loss 0.45170. Total time 0.4775 hours\n",
      "Training at Epoch 40 iteration 100 with loss 0.45167. Total time 0.4825 hours\n",
      "Training at Epoch 40 iteration 200 with loss 0.51708. Total time 0.48777 hours\n",
      "Validation at Epoch 40, AUROC: 0.68672 , AUPRC: 0.54576 , F1: 0.39915 , Cross-entropy Loss: 0.60005\n",
      "Training at Epoch 41 iteration 0 with loss 0.52336. Total time 0.49 hours\n",
      "Training at Epoch 41 iteration 100 with loss 0.47433. Total time 0.495 hours\n",
      "Training at Epoch 41 iteration 200 with loss 0.45438. Total time 0.5 hours\n",
      "Validation at Epoch 41, AUROC: 0.65334 , AUPRC: 0.52420 , F1: 0.39581 , Cross-entropy Loss: 0.62891\n",
      "Training at Epoch 42 iteration 0 with loss 0.49981. Total time 0.50222 hours\n",
      "Training at Epoch 42 iteration 100 with loss 0.69807. Total time 0.5075 hours\n",
      "Training at Epoch 42 iteration 200 with loss 0.45961. Total time 0.51222 hours\n",
      "Validation at Epoch 42, AUROC: 0.68216 , AUPRC: 0.54577 , F1: 0.39013 , Cross-entropy Loss: 0.59207\n",
      "Training at Epoch 43 iteration 0 with loss 0.51814. Total time 0.51444 hours\n",
      "Training at Epoch 43 iteration 100 with loss 0.49291. Total time 0.51944 hours\n",
      "Training at Epoch 43 iteration 200 with loss 0.48372. Total time 0.52472 hours\n",
      "Validation at Epoch 43, AUROC: 0.67811 , AUPRC: 0.54954 , F1: 0.40250 , Cross-entropy Loss: 0.60355\n",
      "Training at Epoch 44 iteration 0 with loss 0.60364. Total time 0.52666 hours\n",
      "Training at Epoch 44 iteration 100 with loss 0.39979. Total time 0.53166 hours\n",
      "Training at Epoch 44 iteration 200 with loss 0.46773. Total time 0.53666 hours\n",
      "Validation at Epoch 44, AUROC: 0.69177 , AUPRC: 0.55578 , F1: 0.38302 , Cross-entropy Loss: 0.61073\n",
      "Training at Epoch 45 iteration 0 with loss 0.49150. Total time 0.53888 hours\n",
      "Training at Epoch 45 iteration 100 with loss 0.45899. Total time 0.54388 hours\n",
      "Training at Epoch 45 iteration 200 with loss 0.58924. Total time 0.54888 hours\n",
      "Validation at Epoch 45, AUROC: 0.68485 , AUPRC: 0.55793 , F1: 0.39747 , Cross-entropy Loss: 0.61286\n",
      "Training at Epoch 46 iteration 0 with loss 0.49312. Total time 0.55083 hours\n",
      "Training at Epoch 46 iteration 100 with loss 0.50066. Total time 0.55611 hours\n",
      "Training at Epoch 46 iteration 200 with loss 0.46311. Total time 0.56138 hours\n",
      "Validation at Epoch 46, AUROC: 0.69213 , AUPRC: 0.56513 , F1: 0.43133 , Cross-entropy Loss: 0.62236\n",
      "Training at Epoch 47 iteration 0 with loss 0.62715. Total time 0.56361 hours\n",
      "Training at Epoch 47 iteration 100 with loss 0.50466. Total time 0.56861 hours\n",
      "Training at Epoch 47 iteration 200 with loss 0.47371. Total time 0.57361 hours\n",
      "Validation at Epoch 47, AUROC: 0.66833 , AUPRC: 0.54235 , F1: 0.38730 , Cross-entropy Loss: 0.66471\n",
      "Training at Epoch 48 iteration 0 with loss 0.41297. Total time 0.57611 hours\n",
      "Training at Epoch 48 iteration 100 with loss 0.50232. Total time 0.58111 hours\n",
      "Training at Epoch 48 iteration 200 with loss 0.47802. Total time 0.58611 hours\n",
      "Validation at Epoch 48, AUROC: 0.68951 , AUPRC: 0.55476 , F1: 0.39789 , Cross-entropy Loss: 0.60438\n",
      "Training at Epoch 49 iteration 0 with loss 0.43951. Total time 0.58833 hours\n",
      "Training at Epoch 49 iteration 100 with loss 0.45902. Total time 0.59333 hours\n",
      "Training at Epoch 49 iteration 200 with loss 0.50180. Total time 0.59861 hours\n",
      "Validation at Epoch 49, AUROC: 0.68833 , AUPRC: 0.54941 , F1: 0.37826 , Cross-entropy Loss: 0.64664\n",
      "Training at Epoch 50 iteration 0 with loss 0.51727. Total time 0.60083 hours\n"
     ]
    },
    {
     "name": "stdout",
     "output_type": "stream",
     "text": [
      "Training at Epoch 50 iteration 100 with loss 0.49961. Total time 0.60583 hours\n",
      "Training at Epoch 50 iteration 200 with loss 0.55463. Total time 0.61111 hours\n",
      "Validation at Epoch 50, AUROC: 0.71340 , AUPRC: 0.57234 , F1: 0.41025 , Cross-entropy Loss: 0.59839 , ***\n",
      "Training at Epoch 51 iteration 0 with loss 0.52344. Total time 0.61333 hours\n",
      "Training at Epoch 51 iteration 100 with loss 0.58609. Total time 0.61805 hours\n",
      "Training at Epoch 51 iteration 200 with loss 0.59726. Total time 0.62333 hours\n",
      "Validation at Epoch 51, AUROC: 0.68454 , AUPRC: 0.55484 , F1: 0.41463 , Cross-entropy Loss: 0.62517\n",
      "Training at Epoch 52 iteration 0 with loss 0.51773. Total time 0.62555 hours\n",
      "Training at Epoch 52 iteration 100 with loss 0.45924. Total time 0.63055 hours\n",
      "Training at Epoch 52 iteration 200 with loss 0.44569. Total time 0.63555 hours\n",
      "Validation at Epoch 52, AUROC: 0.68712 , AUPRC: 0.54532 , F1: 0.39999 , Cross-entropy Loss: 0.64609\n",
      "Training at Epoch 53 iteration 0 with loss 0.50982. Total time 0.63777 hours\n",
      "Training at Epoch 53 iteration 100 with loss 0.45055. Total time 0.64305 hours\n",
      "Training at Epoch 53 iteration 200 with loss 0.55360. Total time 0.64805 hours\n",
      "Validation at Epoch 53, AUROC: 0.68930 , AUPRC: 0.54395 , F1: 0.41788 , Cross-entropy Loss: 0.60453\n",
      "Training at Epoch 54 iteration 0 with loss 0.50442. Total time 0.65027 hours\n",
      "Training at Epoch 54 iteration 100 with loss 0.46375. Total time 0.65527 hours\n",
      "Training at Epoch 54 iteration 200 with loss 0.45132. Total time 0.66055 hours\n",
      "Validation at Epoch 54, AUROC: 0.70139 , AUPRC: 0.56872 , F1: 0.41256 , Cross-entropy Loss: 0.59467\n",
      "Training at Epoch 55 iteration 0 with loss 0.42979. Total time 0.66277 hours\n",
      "Training at Epoch 55 iteration 100 with loss 0.49467. Total time 0.66777 hours\n",
      "Training at Epoch 55 iteration 200 with loss 0.44101. Total time 0.67277 hours\n",
      "Validation at Epoch 55, AUROC: 0.69857 , AUPRC: 0.55466 , F1: 0.36095 , Cross-entropy Loss: 0.65299\n",
      "Training at Epoch 56 iteration 0 with loss 0.55095. Total time 0.675 hours\n",
      "Training at Epoch 56 iteration 100 with loss 0.61041. Total time 0.68027 hours\n",
      "Training at Epoch 56 iteration 200 with loss 0.52219. Total time 0.68527 hours\n",
      "Validation at Epoch 56, AUROC: 0.69948 , AUPRC: 0.56099 , F1: 0.39049 , Cross-entropy Loss: 0.59052\n",
      "Training at Epoch 57 iteration 0 with loss 0.44444. Total time 0.6875 hours\n",
      "Training at Epoch 57 iteration 100 with loss 0.57577. Total time 0.6925 hours\n",
      "Training at Epoch 57 iteration 200 with loss 0.38546. Total time 0.69777 hours\n",
      "Validation at Epoch 57, AUROC: 0.71655 , AUPRC: 0.57297 , F1: 0.41343 , Cross-entropy Loss: 0.61290 , ***\n",
      "Training at Epoch 58 iteration 0 with loss 0.44593. Total time 0.7 hours\n",
      "Training at Epoch 58 iteration 100 with loss 0.41922. Total time 0.705 hours\n",
      "Training at Epoch 58 iteration 200 with loss 0.38780. Total time 0.71027 hours\n",
      "Validation at Epoch 58, AUROC: 0.70651 , AUPRC: 0.56153 , F1: 0.38293 , Cross-entropy Loss: 0.60195\n",
      "Training at Epoch 59 iteration 0 with loss 0.51154. Total time 0.7125 hours\n",
      "Training at Epoch 59 iteration 100 with loss 0.47134. Total time 0.7175 hours\n",
      "Training at Epoch 59 iteration 200 with loss 0.63114. Total time 0.72277 hours\n",
      "Validation at Epoch 59, AUROC: 0.70046 , AUPRC: 0.56595 , F1: 0.42799 , Cross-entropy Loss: 0.63136\n",
      "Training at Epoch 60 iteration 0 with loss 0.46347. Total time 0.725 hours\n",
      "Training at Epoch 60 iteration 100 with loss 0.43881. Total time 0.73 hours\n",
      "Training at Epoch 60 iteration 200 with loss 0.52453. Total time 0.735 hours\n",
      "Validation at Epoch 60, AUROC: 0.70857 , AUPRC: 0.56756 , F1: 0.42115 , Cross-entropy Loss: 0.60758\n",
      "Training at Epoch 61 iteration 0 with loss 0.51380. Total time 0.7375 hours\n",
      "Training at Epoch 61 iteration 100 with loss 0.48462. Total time 0.74222 hours\n",
      "Training at Epoch 61 iteration 200 with loss 0.43118. Total time 0.74722 hours\n",
      "Validation at Epoch 61, AUROC: 0.69589 , AUPRC: 0.56192 , F1: 0.43863 , Cross-entropy Loss: 0.59775\n",
      "Training at Epoch 62 iteration 0 with loss 0.47822. Total time 0.74944 hours\n",
      "Training at Epoch 62 iteration 100 with loss 0.47018. Total time 0.75444 hours\n",
      "Training at Epoch 62 iteration 200 with loss 0.56388. Total time 0.75944 hours\n",
      "Validation at Epoch 62, AUROC: 0.71273 , AUPRC: 0.57859 , F1: 0.43711 , Cross-entropy Loss: 0.60152\n",
      "Training at Epoch 63 iteration 0 with loss 0.41196. Total time 0.76194 hours\n",
      "Training at Epoch 63 iteration 100 with loss 0.53712. Total time 0.76694 hours\n",
      "Training at Epoch 63 iteration 200 with loss 0.48636. Total time 0.77222 hours\n",
      "Validation at Epoch 63, AUROC: 0.71056 , AUPRC: 0.57293 , F1: 0.44186 , Cross-entropy Loss: 0.60191\n",
      "Training at Epoch 64 iteration 0 with loss 0.47661. Total time 0.77444 hours\n",
      "Training at Epoch 64 iteration 100 with loss 0.44196. Total time 0.77944 hours\n",
      "Training at Epoch 64 iteration 200 with loss 0.52770. Total time 0.78444 hours\n",
      "Validation at Epoch 64, AUROC: 0.68402 , AUPRC: 0.55911 , F1: 0.41237 , Cross-entropy Loss: 0.64494\n",
      "Training at Epoch 65 iteration 0 with loss 0.33670. Total time 0.78666 hours\n",
      "Training at Epoch 65 iteration 100 with loss 0.51911. Total time 0.79166 hours\n",
      "Training at Epoch 65 iteration 200 with loss 0.53466. Total time 0.79666 hours\n",
      "Validation at Epoch 65, AUROC: 0.71947 , AUPRC: 0.57652 , F1: 0.42209 , Cross-entropy Loss: 0.59913 , ***\n",
      "Training at Epoch 66 iteration 0 with loss 0.50757. Total time 0.79888 hours\n",
      "Training at Epoch 66 iteration 100 with loss 0.66294. Total time 0.80388 hours\n",
      "Training at Epoch 66 iteration 200 with loss 0.48200. Total time 0.80888 hours\n",
      "Validation at Epoch 66, AUROC: 0.71135 , AUPRC: 0.56895 , F1: 0.40296 , Cross-entropy Loss: 0.59794\n",
      "Training at Epoch 67 iteration 0 with loss 0.36758. Total time 0.81111 hours\n",
      "Training at Epoch 67 iteration 100 with loss 0.45919. Total time 0.81611 hours\n",
      "Training at Epoch 67 iteration 200 with loss 0.51533. Total time 0.82111 hours\n",
      "Validation at Epoch 67, AUROC: 0.71787 , AUPRC: 0.58329 , F1: 0.43991 , Cross-entropy Loss: 0.61783\n",
      "Training at Epoch 68 iteration 0 with loss 0.47404. Total time 0.82333 hours\n",
      "Training at Epoch 68 iteration 100 with loss 0.41105. Total time 0.82833 hours\n",
      "Training at Epoch 68 iteration 200 with loss 0.39419. Total time 0.83333 hours\n",
      "Validation at Epoch 68, AUROC: 0.71328 , AUPRC: 0.57806 , F1: 0.43971 , Cross-entropy Loss: 0.62014\n",
      "Training at Epoch 69 iteration 0 with loss 0.54825. Total time 0.83555 hours\n",
      "Training at Epoch 69 iteration 100 with loss 0.40389. Total time 0.84055 hours\n",
      "Training at Epoch 69 iteration 200 with loss 0.45650. Total time 0.84555 hours\n",
      "Validation at Epoch 69, AUROC: 0.72195 , AUPRC: 0.58539 , F1: 0.40598 , Cross-entropy Loss: 0.62035 , ***\n",
      "Training at Epoch 70 iteration 0 with loss 0.39966. Total time 0.84777 hours\n",
      "Training at Epoch 70 iteration 100 with loss 0.53290. Total time 0.85277 hours\n",
      "Training at Epoch 70 iteration 200 with loss 0.40338. Total time 0.85777 hours\n",
      "Validation at Epoch 70, AUROC: 0.70677 , AUPRC: 0.57174 , F1: 0.43101 , Cross-entropy Loss: 0.60836\n",
      "Training at Epoch 71 iteration 0 with loss 0.51938. Total time 0.86 hours\n",
      "Training at Epoch 71 iteration 100 with loss 0.42967. Total time 0.865 hours\n",
      "Training at Epoch 71 iteration 200 with loss 0.42749. Total time 0.87 hours\n",
      "Validation at Epoch 71, AUROC: 0.72393 , AUPRC: 0.59855 , F1: 0.42976 , Cross-entropy Loss: 0.58361 , ***\n",
      "Training at Epoch 72 iteration 0 with loss 0.40568. Total time 0.87222 hours\n",
      "Training at Epoch 72 iteration 100 with loss 0.56264. Total time 0.87722 hours\n",
      "Training at Epoch 72 iteration 200 with loss 0.48967. Total time 0.88194 hours\n",
      "Validation at Epoch 72, AUROC: 0.72544 , AUPRC: 0.58825 , F1: 0.44621 , Cross-entropy Loss: 0.60306 , ***\n",
      "Training at Epoch 73 iteration 0 with loss 0.52117. Total time 0.88416 hours\n",
      "Training at Epoch 73 iteration 100 with loss 0.48359. Total time 0.88916 hours\n",
      "Training at Epoch 73 iteration 200 with loss 0.55741. Total time 0.89388 hours\n",
      "Validation at Epoch 73, AUROC: 0.72240 , AUPRC: 0.58406 , F1: 0.43035 , Cross-entropy Loss: 0.63575\n",
      "Training at Epoch 74 iteration 0 with loss 0.43650. Total time 0.89611 hours\n",
      "Training at Epoch 74 iteration 100 with loss 0.50899. Total time 0.90111 hours\n",
      "Training at Epoch 74 iteration 200 with loss 0.43985. Total time 0.90611 hours\n"
     ]
    },
    {
     "name": "stdout",
     "output_type": "stream",
     "text": [
      "Validation at Epoch 74, AUROC: 0.73467 , AUPRC: 0.59781 , F1: 0.38530 , Cross-entropy Loss: 0.62259 , ***\n",
      "Training at Epoch 75 iteration 0 with loss 0.47569. Total time 0.90833 hours\n",
      "Training at Epoch 75 iteration 100 with loss 0.42526. Total time 0.91333 hours\n",
      "Training at Epoch 75 iteration 200 with loss 0.48807. Total time 0.91805 hours\n",
      "Validation at Epoch 75, AUROC: 0.73868 , AUPRC: 0.59750 , F1: 0.49009 , Cross-entropy Loss: 0.59178 , ***\n",
      "Training at Epoch 76 iteration 0 with loss 0.35009. Total time 0.92055 hours\n",
      "Training at Epoch 76 iteration 100 with loss 0.41318. Total time 0.92527 hours\n",
      "Training at Epoch 76 iteration 200 with loss 0.39033. Total time 0.93 hours\n",
      "Validation at Epoch 76, AUROC: 0.71476 , AUPRC: 0.57162 , F1: 0.40983 , Cross-entropy Loss: 0.61944\n",
      "Training at Epoch 77 iteration 0 with loss 0.46253. Total time 0.93222 hours\n",
      "Training at Epoch 77 iteration 100 with loss 0.43938. Total time 0.93722 hours\n",
      "Training at Epoch 77 iteration 200 with loss 0.52996. Total time 0.94222 hours\n",
      "Validation at Epoch 77, AUROC: 0.74238 , AUPRC: 0.59616 , F1: 0.43022 , Cross-entropy Loss: 0.60505 , ***\n",
      "Training at Epoch 78 iteration 0 with loss 0.60820. Total time 0.94416 hours\n",
      "Training at Epoch 78 iteration 100 with loss 0.43066. Total time 0.94916 hours\n",
      "Training at Epoch 78 iteration 200 with loss 0.47439. Total time 0.95416 hours\n",
      "Validation at Epoch 78, AUROC: 0.71701 , AUPRC: 0.58504 , F1: 0.44918 , Cross-entropy Loss: 0.64205\n",
      "Training at Epoch 79 iteration 0 with loss 0.45576. Total time 0.95666 hours\n",
      "Training at Epoch 79 iteration 100 with loss 0.50270. Total time 0.96166 hours\n",
      "Training at Epoch 79 iteration 200 with loss 0.50175. Total time 0.96638 hours\n",
      "Validation at Epoch 79, AUROC: 0.73476 , AUPRC: 0.59078 , F1: 0.46449 , Cross-entropy Loss: 0.60987\n",
      "Training at Epoch 80 iteration 0 with loss 0.53478. Total time 0.96888 hours\n",
      "Training at Epoch 80 iteration 100 with loss 0.38653. Total time 0.97361 hours\n",
      "Training at Epoch 80 iteration 200 with loss 0.48171. Total time 0.97861 hours\n",
      "Validation at Epoch 80, AUROC: 0.71932 , AUPRC: 0.58978 , F1: 0.48909 , Cross-entropy Loss: 0.61524\n",
      "Training at Epoch 81 iteration 0 with loss 0.43977. Total time 0.98055 hours\n",
      "Training at Epoch 81 iteration 100 with loss 0.46124. Total time 0.98583 hours\n",
      "Training at Epoch 81 iteration 200 with loss 0.46765. Total time 0.99055 hours\n",
      "Validation at Epoch 81, AUROC: 0.74598 , AUPRC: 0.60297 , F1: 0.45526 , Cross-entropy Loss: 0.58305 , ***\n",
      "Training at Epoch 82 iteration 0 with loss 0.28037. Total time 0.99277 hours\n",
      "Training at Epoch 82 iteration 100 with loss 0.40092. Total time 0.9975 hours\n",
      "Training at Epoch 82 iteration 200 with loss 0.42707. Total time 1.00277 hours\n",
      "Validation at Epoch 82, AUROC: 0.72724 , AUPRC: 0.59261 , F1: 0.47125 , Cross-entropy Loss: 0.64308\n",
      "Training at Epoch 83 iteration 0 with loss 0.47062. Total time 1.005 hours\n",
      "Training at Epoch 83 iteration 100 with loss 0.42097. Total time 1.00972 hours\n",
      "Training at Epoch 83 iteration 200 with loss 0.39087. Total time 1.01472 hours\n",
      "Validation at Epoch 83, AUROC: 0.74036 , AUPRC: 0.59887 , F1: 0.45891 , Cross-entropy Loss: 0.61398\n",
      "Training at Epoch 84 iteration 0 with loss 0.50249. Total time 1.01694 hours\n",
      "Training at Epoch 84 iteration 100 with loss 0.37736. Total time 1.02194 hours\n",
      "Training at Epoch 84 iteration 200 with loss 0.37833. Total time 1.02694 hours\n",
      "Validation at Epoch 84, AUROC: 0.73926 , AUPRC: 0.60755 , F1: 0.54753 , Cross-entropy Loss: 0.59985\n",
      "Training at Epoch 85 iteration 0 with loss 0.42636. Total time 1.02916 hours\n",
      "Training at Epoch 85 iteration 100 with loss 0.47133. Total time 1.03416 hours\n",
      "Training at Epoch 85 iteration 200 with loss 0.64294. Total time 1.03888 hours\n",
      "Validation at Epoch 85, AUROC: 0.75816 , AUPRC: 0.62268 , F1: 0.51242 , Cross-entropy Loss: 0.57700 , ***\n",
      "Training at Epoch 86 iteration 0 with loss 0.42478. Total time 1.04111 hours\n",
      "Training at Epoch 86 iteration 100 with loss 0.41745. Total time 1.04638 hours\n",
      "Training at Epoch 86 iteration 200 with loss 0.51309. Total time 1.05111 hours\n",
      "Validation at Epoch 86, AUROC: 0.74345 , AUPRC: 0.60455 , F1: 0.50144 , Cross-entropy Loss: 0.59696\n",
      "Training at Epoch 87 iteration 0 with loss 0.44894. Total time 1.05361 hours\n",
      "Training at Epoch 87 iteration 100 with loss 0.35017. Total time 1.05861 hours\n",
      "Training at Epoch 87 iteration 200 with loss 0.48476. Total time 1.06333 hours\n",
      "Validation at Epoch 87, AUROC: 0.71595 , AUPRC: 0.58508 , F1: 0.52241 , Cross-entropy Loss: 0.68416\n",
      "Training at Epoch 88 iteration 0 with loss 0.34190. Total time 1.06555 hours\n",
      "Training at Epoch 88 iteration 100 with loss 0.43219. Total time 1.07083 hours\n",
      "Training at Epoch 88 iteration 200 with loss 0.39987. Total time 1.07583 hours\n",
      "Validation at Epoch 88, AUROC: 0.72430 , AUPRC: 0.59276 , F1: 0.48761 , Cross-entropy Loss: 0.68924\n",
      "Training at Epoch 89 iteration 0 with loss 0.37749. Total time 1.07833 hours\n",
      "Training at Epoch 89 iteration 100 with loss 0.35520. Total time 1.08305 hours\n",
      "Training at Epoch 89 iteration 200 with loss 0.48305. Total time 1.08833 hours\n",
      "Validation at Epoch 89, AUROC: 0.75194 , AUPRC: 0.60946 , F1: 0.54373 , Cross-entropy Loss: 0.60972\n",
      "Training at Epoch 90 iteration 0 with loss 0.50215. Total time 1.09055 hours\n",
      "Training at Epoch 90 iteration 100 with loss 0.38656. Total time 1.09555 hours\n",
      "Training at Epoch 90 iteration 200 with loss 0.36025. Total time 1.10055 hours\n",
      "Validation at Epoch 90, AUROC: 0.73531 , AUPRC: 0.59437 , F1: 0.46124 , Cross-entropy Loss: 0.61479\n",
      "Training at Epoch 91 iteration 0 with loss 0.40461. Total time 1.1025 hours\n",
      "Training at Epoch 91 iteration 100 with loss 0.46776. Total time 1.10777 hours\n",
      "Training at Epoch 91 iteration 200 with loss 0.51824. Total time 1.11277 hours\n",
      "Validation at Epoch 91, AUROC: 0.74896 , AUPRC: 0.61293 , F1: 0.50644 , Cross-entropy Loss: 0.59413\n",
      "Training at Epoch 92 iteration 0 with loss 0.36116. Total time 1.11472 hours\n",
      "Training at Epoch 92 iteration 100 with loss 0.44347. Total time 1.11972 hours\n",
      "Training at Epoch 92 iteration 200 with loss 0.55036. Total time 1.12444 hours\n",
      "Validation at Epoch 92, AUROC: 0.76017 , AUPRC: 0.62043 , F1: 0.49003 , Cross-entropy Loss: 0.60056 , ***\n",
      "Training at Epoch 93 iteration 0 with loss 0.36447. Total time 1.12694 hours\n",
      "Training at Epoch 93 iteration 100 with loss 0.36452. Total time 1.13166 hours\n",
      "Training at Epoch 93 iteration 200 with loss 0.44421. Total time 1.13638 hours\n",
      "Validation at Epoch 93, AUROC: 0.73378 , AUPRC: 0.59699 , F1: 0.44376 , Cross-entropy Loss: 0.63483\n",
      "Training at Epoch 94 iteration 0 with loss 0.26746. Total time 1.13861 hours\n",
      "Training at Epoch 94 iteration 100 with loss 0.39213. Total time 1.14361 hours\n",
      "Training at Epoch 94 iteration 200 with loss 0.44850. Total time 1.14833 hours\n",
      "Validation at Epoch 94, AUROC: 0.73450 , AUPRC: 0.60019 , F1: 0.48905 , Cross-entropy Loss: 0.61353\n",
      "Training at Epoch 95 iteration 0 with loss 0.47078. Total time 1.15055 hours\n",
      "Training at Epoch 95 iteration 100 with loss 0.39032. Total time 1.15555 hours\n",
      "Training at Epoch 95 iteration 200 with loss 0.37936. Total time 1.16055 hours\n",
      "Validation at Epoch 95, AUROC: 0.73141 , AUPRC: 0.59676 , F1: 0.47692 , Cross-entropy Loss: 0.59399\n",
      "Training at Epoch 96 iteration 0 with loss 0.43864. Total time 1.16277 hours\n",
      "Training at Epoch 96 iteration 100 with loss 0.39470. Total time 1.16777 hours\n",
      "Training at Epoch 96 iteration 200 with loss 0.47922. Total time 1.17277 hours\n",
      "Validation at Epoch 96, AUROC: 0.73040 , AUPRC: 0.59569 , F1: 0.45518 , Cross-entropy Loss: 0.68332\n",
      "Training at Epoch 97 iteration 0 with loss 0.46960. Total time 1.175 hours\n",
      "Training at Epoch 97 iteration 100 with loss 0.44482. Total time 1.18 hours\n",
      "Training at Epoch 97 iteration 200 with loss 0.38139. Total time 1.185 hours\n",
      "Validation at Epoch 97, AUROC: 0.74065 , AUPRC: 0.60587 , F1: 0.52189 , Cross-entropy Loss: 0.60489\n",
      "Training at Epoch 98 iteration 0 with loss 0.35991. Total time 1.18722 hours\n",
      "Training at Epoch 98 iteration 100 with loss 0.43424. Total time 1.19222 hours\n",
      "Training at Epoch 98 iteration 200 with loss 0.44172. Total time 1.1975 hours\n",
      "Validation at Epoch 98, AUROC: 0.74928 , AUPRC: 0.60075 , F1: 0.45286 , Cross-entropy Loss: 0.61330\n",
      "Training at Epoch 99 iteration 0 with loss 0.44434. Total time 1.19972 hours\n"
     ]
    },
    {
     "name": "stdout",
     "output_type": "stream",
     "text": [
      "Training at Epoch 99 iteration 100 with loss 0.48233. Total time 1.20472 hours\n",
      "Training at Epoch 99 iteration 200 with loss 0.47052. Total time 1.20944 hours\n",
      "Validation at Epoch 99, AUROC: 0.72674 , AUPRC: 0.58874 , F1: 0.49767 , Cross-entropy Loss: 0.61390\n",
      "Training at Epoch 100 iteration 0 with loss 0.43516. Total time 1.21166 hours\n",
      "Training at Epoch 100 iteration 100 with loss 0.51912. Total time 1.21666 hours\n",
      "Training at Epoch 100 iteration 200 with loss 0.52329. Total time 1.22138 hours\n",
      "Validation at Epoch 100, AUROC: 0.72693 , AUPRC: 0.59812 , F1: 0.50740 , Cross-entropy Loss: 0.62726\n",
      "--- Finished ---\n",
      "--- Go for Testing ---\n",
      "Testing at Epoch 91 , AUROC: 0.74538 , AUPRC: 0.59795 , F1: 0.50220 , Cross-entropy Loss: 0.60664\n",
      "--- Training Finished ---\n"
     ]
    },
    {
     "data": {
      "image/png": "[encoded data removed]",
      "text/plain": [
       "<Figure size 432x288 with 1 Axes>"
      ]
     },
     "metadata": {
      "needs_background": "light"
     },
     "output_type": "display_data"
    },
    {
     "data": {
      "image/png": "[encoded data removed]",
      "text/plain": [
       "<Figure size 432x288 with 1 Axes>"
      ]
     },
     "metadata": {
      "needs_background": "light"
     },
     "output_type": "display_data"
    },
    {
     "data": {
      "image/png": "[encoded data removed]",
      "text/plain": [
       "<Figure size 432x288 with 2 Axes>"
      ]
     },
     "metadata": {
      "needs_background": "light"
     },
     "output_type": "display_data"
    },
    {
     "data": {
      "image/png": "[encoded data removed]",
      "text/plain": [
       "<Figure size 432x288 with 1 Axes>"
      ]
     },
     "metadata": {
      "needs_background": "light"
     },
     "output_type": "display_data"
    }
   ],
   "source": [
    "model.train(train, val, test)"
   ]
  },
  {
   "cell_type": "code",
   "execution_count": null,
   "id": "69db0287",
   "metadata": {},
   "outputs": [],
   "source": []
  },
  {
   "cell_type": "code",
   "execution_count": null,
   "id": "a42cf152",
   "metadata": {},
   "outputs": [],
   "source": []
  },
  {
   "cell_type": "code",
   "execution_count": null,
   "id": "be59b446",
   "metadata": {},
   "outputs": [],
   "source": []
  },
  {
   "cell_type": "code",
   "execution_count": null,
   "id": "b5a1059b",
   "metadata": {},
   "outputs": [],
   "source": []
  },
  {
   "cell_type": "code",
   "execution_count": null,
   "id": "4a52a3e1",
   "metadata": {},
   "outputs": [],
   "source": []
  },
  {
   "cell_type": "code",
   "execution_count": null,
   "id": "bba60da3",
   "metadata": {},
   "outputs": [],
   "source": [
    "#new model for case study"
   ]
  },
  {
   "cell_type": "code",
   "execution_count": 19,
   "id": "ad0ec9c3",
   "metadata": {
    "scrolled": true
   },
   "outputs": [
    {
     "name": "stdout",
     "output_type": "stream",
     "text": [
      "Let's use 1 GPU!\n",
      "--- Data Preparation ---\n",
      "--- Go for Training ---\n",
      "Training at Epoch 1 iteration 0 with loss 0.68782. Total time 0.00083 hours\n",
      "Training at Epoch 1 iteration 100 with loss 0.62813. Total time 0.00611 hours\n",
      "Training at Epoch 1 iteration 200 with loss 0.63884. Total time 0.01138 hours\n",
      "Validation at Epoch 1, AUROC: 0.51129 , AUPRC: 0.34635 , F1: 0.0 , Cross-entropy Loss: 0.64076 , ***\n",
      "Training at Epoch 2 iteration 0 with loss 0.65997. Total time 0.01388 hours\n",
      "Training at Epoch 2 iteration 100 with loss 0.62654. Total time 0.01916 hours\n",
      "Training at Epoch 2 iteration 200 with loss 0.64355. Total time 0.02416 hours\n",
      "Validation at Epoch 2, AUROC: 0.52379 , AUPRC: 0.35176 , F1: 0.0 , Cross-entropy Loss: 0.63793 , ***\n",
      "Training at Epoch 3 iteration 0 with loss 0.64557. Total time 0.02638 hours\n",
      "Training at Epoch 3 iteration 100 with loss 0.60522. Total time 0.03166 hours\n",
      "Training at Epoch 3 iteration 200 with loss 0.69251. Total time 0.03694 hours\n",
      "Validation at Epoch 3, AUROC: 0.54036 , AUPRC: 0.38004 , F1: 0.0 , Cross-entropy Loss: 0.64469 , ***\n",
      "Training at Epoch 4 iteration 0 with loss 0.65348. Total time 0.03916 hours\n",
      "Training at Epoch 4 iteration 100 with loss 0.65186. Total time 0.04444 hours\n",
      "Training at Epoch 4 iteration 200 with loss 0.62487. Total time 0.04944 hours\n",
      "Validation at Epoch 4, AUROC: 0.52908 , AUPRC: 0.37182 , F1: 0.0 , Cross-entropy Loss: 0.64113\n",
      "Training at Epoch 5 iteration 0 with loss 0.62724. Total time 0.05194 hours\n",
      "Training at Epoch 5 iteration 100 with loss 0.63693. Total time 0.05722 hours\n",
      "Training at Epoch 5 iteration 200 with loss 0.60645. Total time 0.06222 hours\n",
      "Validation at Epoch 5, AUROC: 0.52858 , AUPRC: 0.34633 , F1: 0.0 , Cross-entropy Loss: 0.79993\n",
      "Training at Epoch 6 iteration 0 with loss 0.71121. Total time 0.06472 hours\n",
      "Training at Epoch 6 iteration 100 with loss 0.62657. Total time 0.07 hours\n",
      "Training at Epoch 6 iteration 200 with loss 0.67904. Total time 0.07527 hours\n",
      "Validation at Epoch 6, AUROC: 0.55361 , AUPRC: 0.41392 , F1: 0.42223 , Cross-entropy Loss: 0.87275 , ***\n",
      "Training at Epoch 7 iteration 0 with loss 0.56768. Total time 0.0775 hours\n",
      "Training at Epoch 7 iteration 100 with loss 0.56696. Total time 0.08277 hours\n",
      "Training at Epoch 7 iteration 200 with loss 0.62353. Total time 0.08805 hours\n",
      "Validation at Epoch 7, AUROC: 0.51448 , AUPRC: 0.34699 , F1: 0.13861 , Cross-entropy Loss: 0.71042\n",
      "Training at Epoch 8 iteration 0 with loss 0.60681. Total time 0.09055 hours\n",
      "Training at Epoch 8 iteration 100 with loss 0.61146. Total time 0.09555 hours\n",
      "Training at Epoch 8 iteration 200 with loss 0.60816. Total time 0.10111 hours\n",
      "Validation at Epoch 8, AUROC: 0.58246 , AUPRC: 0.41137 , F1: 0.17939 , Cross-entropy Loss: 0.65928 , ***\n",
      "Training at Epoch 9 iteration 0 with loss 0.57306. Total time 0.10361 hours\n",
      "Training at Epoch 9 iteration 100 with loss 0.69043. Total time 0.10888 hours\n",
      "Training at Epoch 9 iteration 200 with loss 0.53592. Total time 0.11527 hours\n",
      "Validation at Epoch 9, AUROC: 0.58885 , AUPRC: 0.43141 , F1: 0.18621 , Cross-entropy Loss: 0.66787 , ***\n",
      "Training at Epoch 10 iteration 0 with loss 0.59849. Total time 0.11888 hours\n",
      "Training at Epoch 10 iteration 100 with loss 0.52450. Total time 0.12472 hours\n",
      "Training at Epoch 10 iteration 200 with loss 0.62105. Total time 0.13 hours\n",
      "Validation at Epoch 10, AUROC: 0.57469 , AUPRC: 0.41251 , F1: 0.32939 , Cross-entropy Loss: 0.68351\n",
      "Training at Epoch 11 iteration 0 with loss 0.55579. Total time 0.1325 hours\n",
      "Training at Epoch 11 iteration 100 with loss 0.50429. Total time 0.13777 hours\n",
      "Training at Epoch 11 iteration 200 with loss 0.62816. Total time 0.14305 hours\n",
      "Validation at Epoch 11, AUROC: 0.50181 , AUPRC: 0.35322 , F1: 0.19698 , Cross-entropy Loss: 0.78181\n",
      "Training at Epoch 12 iteration 0 with loss 0.51741. Total time 0.14555 hours\n",
      "Training at Epoch 12 iteration 100 with loss 0.59790. Total time 0.15083 hours\n",
      "Training at Epoch 12 iteration 200 with loss 0.56282. Total time 0.15638 hours\n",
      "Validation at Epoch 12, AUROC: 0.57933 , AUPRC: 0.39929 , F1: 0.16502 , Cross-entropy Loss: 0.68060\n",
      "Training at Epoch 13 iteration 0 with loss 0.60711. Total time 0.15888 hours\n",
      "Training at Epoch 13 iteration 100 with loss 0.55934. Total time 0.16416 hours\n",
      "Training at Epoch 13 iteration 200 with loss 0.66721. Total time 0.16972 hours\n",
      "Validation at Epoch 13, AUROC: 0.59138 , AUPRC: 0.41639 , F1: 0.17135 , Cross-entropy Loss: 0.69455 , ***\n",
      "Training at Epoch 14 iteration 0 with loss 0.49997. Total time 0.17222 hours\n",
      "Training at Epoch 14 iteration 100 with loss 0.67906. Total time 0.1775 hours\n",
      "Training at Epoch 14 iteration 200 with loss 0.53023. Total time 0.18277 hours\n",
      "Validation at Epoch 14, AUROC: 0.61946 , AUPRC: 0.44404 , F1: 0.16974 , Cross-entropy Loss: 0.63897 , ***\n",
      "Training at Epoch 15 iteration 0 with loss 0.59318. Total time 0.18527 hours\n",
      "Training at Epoch 15 iteration 100 with loss 0.56323. Total time 0.19055 hours\n",
      "Training at Epoch 15 iteration 200 with loss 0.49758. Total time 0.19611 hours\n",
      "Validation at Epoch 15, AUROC: 0.63396 , AUPRC: 0.44868 , F1: 0.30482 , Cross-entropy Loss: 0.61706 , ***\n",
      "Training at Epoch 16 iteration 0 with loss 0.60015. Total time 0.19833 hours\n",
      "Training at Epoch 16 iteration 100 with loss 0.64440. Total time 0.20388 hours\n",
      "Training at Epoch 16 iteration 200 with loss 0.55863. Total time 0.20888 hours\n",
      "Validation at Epoch 16, AUROC: 0.60592 , AUPRC: 0.41868 , F1: 0.14213 , Cross-entropy Loss: 0.65976\n",
      "Training at Epoch 17 iteration 0 with loss 0.53739. Total time 0.21138 hours\n",
      "Training at Epoch 17 iteration 100 with loss 0.53837. Total time 0.21666 hours\n",
      "Training at Epoch 17 iteration 200 with loss 0.50453. Total time 0.22194 hours\n",
      "Validation at Epoch 17, AUROC: 0.56710 , AUPRC: 0.38035 , F1: 0.18894 , Cross-entropy Loss: 0.69378\n",
      "Training at Epoch 18 iteration 0 with loss 0.55036. Total time 0.22416 hours\n",
      "Training at Epoch 18 iteration 100 with loss 0.58412. Total time 0.22944 hours\n",
      "Training at Epoch 18 iteration 200 with loss 0.54328. Total time 0.235 hours\n",
      "Validation at Epoch 18, AUROC: 0.61476 , AUPRC: 0.42779 , F1: 0.34194 , Cross-entropy Loss: 0.62795\n",
      "Training at Epoch 19 iteration 0 with loss 0.51084. Total time 0.2375 hours\n",
      "Training at Epoch 19 iteration 100 with loss 0.59120. Total time 0.24277 hours\n",
      "Training at Epoch 19 iteration 200 with loss 0.57006. Total time 0.24833 hours\n",
      "Validation at Epoch 19, AUROC: 0.52787 , AUPRC: 0.37022 , F1: 0.20449 , Cross-entropy Loss: 0.73796\n",
      "Training at Epoch 20 iteration 0 with loss 0.47330. Total time 0.25166 hours\n",
      "Training at Epoch 20 iteration 100 with loss 0.49838. Total time 0.25888 hours\n",
      "Training at Epoch 20 iteration 200 with loss 0.46940. Total time 0.26388 hours\n",
      "Validation at Epoch 20, AUROC: 0.56603 , AUPRC: 0.39023 , F1: 0.26745 , Cross-entropy Loss: 0.65508\n",
      "Training at Epoch 21 iteration 0 with loss 0.57267. Total time 0.26638 hours\n",
      "Training at Epoch 21 iteration 100 with loss 0.54047. Total time 0.27194 hours\n",
      "Training at Epoch 21 iteration 200 with loss 0.51390. Total time 0.27722 hours\n",
      "Validation at Epoch 21, AUROC: 0.61672 , AUPRC: 0.42960 , F1: 0.16545 , Cross-entropy Loss: 0.64691\n",
      "Training at Epoch 22 iteration 0 with loss 0.59630. Total time 0.27944 hours\n",
      "Training at Epoch 22 iteration 100 with loss 0.50789. Total time 0.285 hours\n",
      "Training at Epoch 22 iteration 200 with loss 0.46711. Total time 0.29027 hours\n",
      "Validation at Epoch 22, AUROC: 0.62959 , AUPRC: 0.43921 , F1: 0.30952 , Cross-entropy Loss: 0.62005\n",
      "Training at Epoch 23 iteration 0 with loss 0.55515. Total time 0.29277 hours\n",
      "Training at Epoch 23 iteration 100 with loss 0.57618. Total time 0.29805 hours\n",
      "Training at Epoch 23 iteration 200 with loss 0.47657. Total time 0.30333 hours\n",
      "Validation at Epoch 23, AUROC: 0.56932 , AUPRC: 0.39669 , F1: 0.16928 , Cross-entropy Loss: 0.68795\n",
      "Training at Epoch 24 iteration 0 with loss 0.59704. Total time 0.30583 hours\n",
      "Training at Epoch 24 iteration 100 with loss 0.44208. Total time 0.31166 hours\n",
      "Training at Epoch 24 iteration 200 with loss 0.55512. Total time 0.31694 hours\n",
      "Validation at Epoch 24, AUROC: 0.62257 , AUPRC: 0.43842 , F1: 0.36837 , Cross-entropy Loss: 0.64986\n",
      "Training at Epoch 25 iteration 0 with loss 0.56610. Total time 0.31916 hours\n",
      "Training at Epoch 25 iteration 100 with loss 0.54813. Total time 0.32444 hours\n"
     ]
    },
    {
     "name": "stdout",
     "output_type": "stream",
     "text": [
      "Training at Epoch 25 iteration 200 with loss 0.53374. Total time 0.32972 hours\n",
      "Validation at Epoch 25, AUROC: 0.58083 , AUPRC: 0.40994 , F1: 0.16646 , Cross-entropy Loss: 0.67274\n",
      "Training at Epoch 26 iteration 0 with loss 0.48463. Total time 0.33222 hours\n",
      "Training at Epoch 26 iteration 100 with loss 0.43948. Total time 0.3375 hours\n",
      "Training at Epoch 26 iteration 200 with loss 0.58625. Total time 0.34277 hours\n",
      "Validation at Epoch 26, AUROC: 0.63749 , AUPRC: 0.45180 , F1: 0.25253 , Cross-entropy Loss: 0.60834 , ***\n",
      "Training at Epoch 27 iteration 0 with loss 0.48765. Total time 0.345 hours\n",
      "Training at Epoch 27 iteration 100 with loss 0.63073. Total time 0.35027 hours\n",
      "Training at Epoch 27 iteration 200 with loss 0.56704. Total time 0.35555 hours\n",
      "Validation at Epoch 27, AUROC: 0.62871 , AUPRC: 0.43197 , F1: 0.34892 , Cross-entropy Loss: 0.63512\n",
      "Training at Epoch 28 iteration 0 with loss 0.47545. Total time 0.35777 hours\n",
      "Training at Epoch 28 iteration 100 with loss 0.54117. Total time 0.36305 hours\n",
      "Training at Epoch 28 iteration 200 with loss 0.46576. Total time 0.36833 hours\n",
      "Validation at Epoch 28, AUROC: 0.62448 , AUPRC: 0.44662 , F1: 0.19128 , Cross-entropy Loss: 0.62195\n",
      "Training at Epoch 29 iteration 0 with loss 0.42714. Total time 0.37083 hours\n",
      "Training at Epoch 29 iteration 100 with loss 0.44155. Total time 0.37583 hours\n",
      "Training at Epoch 29 iteration 200 with loss 0.56356. Total time 0.38111 hours\n",
      "Validation at Epoch 29, AUROC: 0.63021 , AUPRC: 0.44872 , F1: 0.38783 , Cross-entropy Loss: 0.61963\n",
      "Training at Epoch 30 iteration 0 with loss 0.57318. Total time 0.38333 hours\n",
      "Training at Epoch 30 iteration 100 with loss 0.47305. Total time 0.38861 hours\n",
      "Training at Epoch 30 iteration 200 with loss 0.47229. Total time 0.39416 hours\n",
      "Validation at Epoch 30, AUROC: 0.51673 , AUPRC: 0.34071 , F1: 0.10039 , Cross-entropy Loss: 0.79120\n",
      "Training at Epoch 31 iteration 0 with loss 0.50458. Total time 0.39666 hours\n",
      "Training at Epoch 31 iteration 100 with loss 0.45118. Total time 0.40166 hours\n",
      "Training at Epoch 31 iteration 200 with loss 0.48801. Total time 0.40694 hours\n",
      "Validation at Epoch 31, AUROC: 0.61000 , AUPRC: 0.43687 , F1: 0.33531 , Cross-entropy Loss: 0.68085\n",
      "Training at Epoch 32 iteration 0 with loss 0.53069. Total time 0.40916 hours\n",
      "Training at Epoch 32 iteration 100 with loss 0.58841. Total time 0.41444 hours\n",
      "Training at Epoch 32 iteration 200 with loss 0.46790. Total time 0.41972 hours\n",
      "Validation at Epoch 32, AUROC: 0.60618 , AUPRC: 0.45321 , F1: 0.31991 , Cross-entropy Loss: 0.69725\n",
      "Training at Epoch 33 iteration 0 with loss 0.45176. Total time 0.42194 hours\n",
      "Training at Epoch 33 iteration 100 with loss 0.44044. Total time 0.42722 hours\n",
      "Training at Epoch 33 iteration 200 with loss 0.46105. Total time 0.43222 hours\n",
      "Validation at Epoch 33, AUROC: 0.70889 , AUPRC: 0.54129 , F1: 0.30662 , Cross-entropy Loss: 0.58069 , ***\n",
      "Training at Epoch 34 iteration 0 with loss 0.47511. Total time 0.43472 hours\n",
      "Training at Epoch 34 iteration 100 with loss 0.49774. Total time 0.43972 hours\n",
      "Training at Epoch 34 iteration 200 with loss 0.42146. Total time 0.445 hours\n",
      "Validation at Epoch 34, AUROC: 0.65408 , AUPRC: 0.45672 , F1: 0.14173 , Cross-entropy Loss: 0.59919\n",
      "Training at Epoch 35 iteration 0 with loss 0.40201. Total time 0.44722 hours\n",
      "Training at Epoch 35 iteration 100 with loss 0.46242. Total time 0.4525 hours\n",
      "Training at Epoch 35 iteration 200 with loss 0.52917. Total time 0.45777 hours\n",
      "Validation at Epoch 35, AUROC: 0.59564 , AUPRC: 0.42029 , F1: 0.20581 , Cross-entropy Loss: 0.62740\n",
      "Training at Epoch 36 iteration 0 with loss 0.51083. Total time 0.46 hours\n",
      "Training at Epoch 36 iteration 100 with loss 0.42254. Total time 0.46527 hours\n",
      "Training at Epoch 36 iteration 200 with loss 0.59073. Total time 0.47055 hours\n",
      "Validation at Epoch 36, AUROC: 0.70331 , AUPRC: 0.54986 , F1: 0.38751 , Cross-entropy Loss: 0.61927\n",
      "Training at Epoch 37 iteration 0 with loss 0.42433. Total time 0.47277 hours\n",
      "Training at Epoch 37 iteration 100 with loss 0.55039. Total time 0.47777 hours\n",
      "Training at Epoch 37 iteration 200 with loss 0.39392. Total time 0.48305 hours\n",
      "Validation at Epoch 37, AUROC: 0.67070 , AUPRC: 0.52144 , F1: 0.39316 , Cross-entropy Loss: 0.61670\n",
      "Training at Epoch 38 iteration 0 with loss 0.51243. Total time 0.48527 hours\n",
      "Training at Epoch 38 iteration 100 with loss 0.44794. Total time 0.49027 hours\n",
      "Training at Epoch 38 iteration 200 with loss 0.40140. Total time 0.49555 hours\n",
      "Validation at Epoch 38, AUROC: 0.56254 , AUPRC: 0.41013 , F1: 0.18749 , Cross-entropy Loss: 0.78003\n",
      "Training at Epoch 39 iteration 0 with loss 0.46488. Total time 0.49777 hours\n",
      "Training at Epoch 39 iteration 100 with loss 0.43301. Total time 0.50277 hours\n",
      "Training at Epoch 39 iteration 200 with loss 0.31377. Total time 0.50805 hours\n",
      "Validation at Epoch 39, AUROC: 0.68413 , AUPRC: 0.52536 , F1: 0.29534 , Cross-entropy Loss: 0.63602\n",
      "Training at Epoch 40 iteration 0 with loss 0.59860. Total time 0.51027 hours\n",
      "Training at Epoch 40 iteration 100 with loss 0.40837. Total time 0.51527 hours\n",
      "Training at Epoch 40 iteration 200 with loss 0.50397. Total time 0.52055 hours\n",
      "Validation at Epoch 40, AUROC: 0.67625 , AUPRC: 0.52948 , F1: 0.39330 , Cross-entropy Loss: 0.69625\n",
      "Training at Epoch 41 iteration 0 with loss 0.45115. Total time 0.52277 hours\n",
      "Training at Epoch 41 iteration 100 with loss 0.42587. Total time 0.52805 hours\n",
      "Training at Epoch 41 iteration 200 with loss 0.52953. Total time 0.53333 hours\n",
      "Validation at Epoch 41, AUROC: 0.70995 , AUPRC: 0.55299 , F1: 0.44691 , Cross-entropy Loss: 0.57944 , ***\n",
      "Training at Epoch 42 iteration 0 with loss 0.50714. Total time 0.53555 hours\n",
      "Training at Epoch 42 iteration 100 with loss 0.42898. Total time 0.54083 hours\n",
      "Training at Epoch 42 iteration 200 with loss 0.40011. Total time 0.54583 hours\n",
      "Validation at Epoch 42, AUROC: 0.72091 , AUPRC: 0.55018 , F1: 0.25814 , Cross-entropy Loss: 0.58721 , ***\n",
      "Training at Epoch 43 iteration 0 with loss 0.59567. Total time 0.54833 hours\n",
      "Training at Epoch 43 iteration 100 with loss 0.41854. Total time 0.55361 hours\n",
      "Training at Epoch 43 iteration 200 with loss 0.44810. Total time 0.55861 hours\n",
      "Validation at Epoch 43, AUROC: 0.65144 , AUPRC: 0.48229 , F1: 0.22167 , Cross-entropy Loss: 0.70983\n",
      "Training at Epoch 44 iteration 0 with loss 0.44754. Total time 0.56083 hours\n",
      "Training at Epoch 44 iteration 100 with loss 0.38878. Total time 0.56611 hours\n",
      "Training at Epoch 44 iteration 200 with loss 0.44618. Total time 0.57138 hours\n",
      "Validation at Epoch 44, AUROC: 0.68633 , AUPRC: 0.52122 , F1: 0.22682 , Cross-entropy Loss: 0.63142\n",
      "Training at Epoch 45 iteration 0 with loss 0.33161. Total time 0.57361 hours\n",
      "Training at Epoch 45 iteration 100 with loss 0.50023. Total time 0.57888 hours\n",
      "Training at Epoch 45 iteration 200 with loss 0.35795. Total time 0.58388 hours\n",
      "Validation at Epoch 45, AUROC: 0.72990 , AUPRC: 0.58173 , F1: 0.43762 , Cross-entropy Loss: 0.58042 , ***\n",
      "Training at Epoch 46 iteration 0 with loss 0.40090. Total time 0.58638 hours\n",
      "Training at Epoch 46 iteration 100 with loss 0.47506. Total time 0.59138 hours\n",
      "Training at Epoch 46 iteration 200 with loss 0.45605. Total time 0.59666 hours\n",
      "Validation at Epoch 46, AUROC: 0.68109 , AUPRC: 0.54768 , F1: 0.47113 , Cross-entropy Loss: 0.65762\n",
      "Training at Epoch 47 iteration 0 with loss 0.46552. Total time 0.59888 hours\n",
      "Training at Epoch 47 iteration 100 with loss 0.35811. Total time 0.60416 hours\n",
      "Training at Epoch 47 iteration 200 with loss 0.34342. Total time 0.60944 hours\n",
      "Validation at Epoch 47, AUROC: 0.72713 , AUPRC: 0.56941 , F1: 0.41513 , Cross-entropy Loss: 0.57811\n",
      "Training at Epoch 48 iteration 0 with loss 0.40934. Total time 0.61194 hours\n",
      "Training at Epoch 48 iteration 100 with loss 0.55673. Total time 0.61722 hours\n",
      "Training at Epoch 48 iteration 200 with loss 0.46222. Total time 0.6225 hours\n",
      "Validation at Epoch 48, AUROC: 0.74626 , AUPRC: 0.57900 , F1: 0.32346 , Cross-entropy Loss: 0.55946 , ***\n",
      "Training at Epoch 49 iteration 0 with loss 0.42779. Total time 0.625 hours\n",
      "Training at Epoch 49 iteration 100 with loss 0.52031. Total time 0.63027 hours\n",
      "Training at Epoch 49 iteration 200 with loss 0.48490. Total time 0.63555 hours\n",
      "Validation at Epoch 49, AUROC: 0.72017 , AUPRC: 0.57830 , F1: 0.52709 , Cross-entropy Loss: 0.59849\n",
      "Training at Epoch 50 iteration 0 with loss 0.41123. Total time 0.63805 hours\n"
     ]
    },
    {
     "name": "stdout",
     "output_type": "stream",
     "text": [
      "Training at Epoch 50 iteration 100 with loss 0.29183. Total time 0.64305 hours\n",
      "Training at Epoch 50 iteration 200 with loss 0.39736. Total time 0.64833 hours\n",
      "Validation at Epoch 50, AUROC: 0.72071 , AUPRC: 0.57326 , F1: 0.48961 , Cross-entropy Loss: 0.57352\n",
      "Training at Epoch 51 iteration 0 with loss 0.55133. Total time 0.65055 hours\n",
      "Training at Epoch 51 iteration 100 with loss 0.39027. Total time 0.65583 hours\n",
      "Training at Epoch 51 iteration 200 with loss 0.44809. Total time 0.66111 hours\n",
      "Validation at Epoch 51, AUROC: 0.72687 , AUPRC: 0.56737 , F1: 0.53885 , Cross-entropy Loss: 0.58337\n",
      "Training at Epoch 52 iteration 0 with loss 0.40337. Total time 0.66333 hours\n",
      "Training at Epoch 52 iteration 100 with loss 0.37945. Total time 0.66861 hours\n",
      "Training at Epoch 52 iteration 200 with loss 0.48678. Total time 0.67388 hours\n",
      "Validation at Epoch 52, AUROC: 0.70631 , AUPRC: 0.54406 , F1: 0.43984 , Cross-entropy Loss: 0.60107\n",
      "Training at Epoch 53 iteration 0 with loss 0.52280. Total time 0.67611 hours\n",
      "Training at Epoch 53 iteration 100 with loss 0.53428. Total time 0.68138 hours\n",
      "Training at Epoch 53 iteration 200 with loss 0.33287. Total time 0.68638 hours\n",
      "Validation at Epoch 53, AUROC: 0.71099 , AUPRC: 0.57002 , F1: 0.51109 , Cross-entropy Loss: 0.62267\n",
      "Training at Epoch 54 iteration 0 with loss 0.43236. Total time 0.68861 hours\n",
      "Training at Epoch 54 iteration 100 with loss 0.46621. Total time 0.69388 hours\n",
      "Training at Epoch 54 iteration 200 with loss 0.43644. Total time 0.69916 hours\n",
      "Validation at Epoch 54, AUROC: 0.69793 , AUPRC: 0.55909 , F1: 0.48188 , Cross-entropy Loss: 0.62740\n",
      "Training at Epoch 55 iteration 0 with loss 0.39951. Total time 0.70138 hours\n",
      "Training at Epoch 55 iteration 100 with loss 0.40348. Total time 0.70666 hours\n",
      "Training at Epoch 55 iteration 200 with loss 0.56535. Total time 0.71194 hours\n",
      "Validation at Epoch 55, AUROC: 0.74546 , AUPRC: 0.59829 , F1: 0.51358 , Cross-entropy Loss: 0.58647\n",
      "Training at Epoch 56 iteration 0 with loss 0.33186. Total time 0.71416 hours\n",
      "Training at Epoch 56 iteration 100 with loss 0.39649. Total time 0.71944 hours\n",
      "Training at Epoch 56 iteration 200 with loss 0.35726. Total time 0.72472 hours\n",
      "Validation at Epoch 56, AUROC: 0.75048 , AUPRC: 0.60410 , F1: 0.46435 , Cross-entropy Loss: 0.55936 , ***\n",
      "Training at Epoch 57 iteration 0 with loss 0.49094. Total time 0.72722 hours\n",
      "Training at Epoch 57 iteration 100 with loss 0.41065. Total time 0.7325 hours\n",
      "Training at Epoch 57 iteration 200 with loss 0.37414. Total time 0.7375 hours\n",
      "Validation at Epoch 57, AUROC: 0.72155 , AUPRC: 0.58800 , F1: 0.46673 , Cross-entropy Loss: 0.59465\n",
      "Training at Epoch 58 iteration 0 with loss 0.43658. Total time 0.74 hours\n",
      "Training at Epoch 58 iteration 100 with loss 0.32389. Total time 0.745 hours\n",
      "Training at Epoch 58 iteration 200 with loss 0.38597. Total time 0.75027 hours\n",
      "Validation at Epoch 58, AUROC: 0.74631 , AUPRC: 0.61408 , F1: 0.46719 , Cross-entropy Loss: 0.59065\n",
      "Training at Epoch 59 iteration 0 with loss 0.43809. Total time 0.7525 hours\n",
      "Training at Epoch 59 iteration 100 with loss 0.46039. Total time 0.75777 hours\n",
      "Training at Epoch 59 iteration 200 with loss 0.34351. Total time 0.76277 hours\n",
      "Validation at Epoch 59, AUROC: 0.74979 , AUPRC: 0.60953 , F1: 0.55091 , Cross-entropy Loss: 0.58612\n",
      "Training at Epoch 60 iteration 0 with loss 0.46880. Total time 0.765 hours\n",
      "Training at Epoch 60 iteration 100 with loss 0.45654. Total time 0.77027 hours\n",
      "Training at Epoch 60 iteration 200 with loss 0.42599. Total time 0.77555 hours\n",
      "Validation at Epoch 60, AUROC: 0.74369 , AUPRC: 0.60598 , F1: 0.48249 , Cross-entropy Loss: 0.61707\n",
      "Training at Epoch 61 iteration 0 with loss 0.43120. Total time 0.77777 hours\n",
      "Training at Epoch 61 iteration 100 with loss 0.37073. Total time 0.78305 hours\n",
      "Training at Epoch 61 iteration 200 with loss 0.40849. Total time 0.78833 hours\n",
      "Validation at Epoch 61, AUROC: 0.75981 , AUPRC: 0.61672 , F1: 0.51184 , Cross-entropy Loss: 0.59320 , ***\n",
      "Training at Epoch 62 iteration 0 with loss 0.40785. Total time 0.79083 hours\n",
      "Training at Epoch 62 iteration 100 with loss 0.37943. Total time 0.79611 hours\n",
      "Training at Epoch 62 iteration 200 with loss 0.42806. Total time 0.80138 hours\n",
      "Validation at Epoch 62, AUROC: 0.74689 , AUPRC: 0.61416 , F1: 0.50094 , Cross-entropy Loss: 0.64825\n",
      "Training at Epoch 63 iteration 0 with loss 0.37050. Total time 0.80388 hours\n",
      "Training at Epoch 63 iteration 100 with loss 0.48092. Total time 0.80916 hours\n",
      "Training at Epoch 63 iteration 200 with loss 0.35706. Total time 0.81444 hours\n",
      "Validation at Epoch 63, AUROC: 0.69145 , AUPRC: 0.52659 , F1: 0.22576 , Cross-entropy Loss: 0.68331\n",
      "Training at Epoch 64 iteration 0 with loss 0.50886. Total time 0.81694 hours\n",
      "Training at Epoch 64 iteration 100 with loss 0.40885. Total time 0.82222 hours\n",
      "Training at Epoch 64 iteration 200 with loss 0.50515. Total time 0.8275 hours\n",
      "Validation at Epoch 64, AUROC: 0.74587 , AUPRC: 0.59296 , F1: 0.47358 , Cross-entropy Loss: 0.60250\n",
      "Training at Epoch 65 iteration 0 with loss 0.37984. Total time 0.83 hours\n",
      "Training at Epoch 65 iteration 100 with loss 0.42854. Total time 0.83527 hours\n",
      "Training at Epoch 65 iteration 200 with loss 0.43765. Total time 0.84055 hours\n",
      "Validation at Epoch 65, AUROC: 0.73653 , AUPRC: 0.59023 , F1: 0.53859 , Cross-entropy Loss: 0.62264\n",
      "Training at Epoch 66 iteration 0 with loss 0.42421. Total time 0.84305 hours\n",
      "Training at Epoch 66 iteration 100 with loss 0.46148. Total time 0.84833 hours\n",
      "Training at Epoch 66 iteration 200 with loss 0.41725. Total time 0.85388 hours\n",
      "Validation at Epoch 66, AUROC: 0.71487 , AUPRC: 0.56989 , F1: 0.50976 , Cross-entropy Loss: 0.67293\n",
      "Training at Epoch 67 iteration 0 with loss 0.41101. Total time 0.85611 hours\n",
      "Training at Epoch 67 iteration 100 with loss 0.39365. Total time 0.86138 hours\n",
      "Training at Epoch 67 iteration 200 with loss 0.50644. Total time 0.86666 hours\n",
      "Validation at Epoch 67, AUROC: 0.73378 , AUPRC: 0.58729 , F1: 0.44555 , Cross-entropy Loss: 0.62584\n",
      "Training at Epoch 68 iteration 0 with loss 0.32330. Total time 0.86916 hours\n",
      "Training at Epoch 68 iteration 100 with loss 0.50160. Total time 0.87444 hours\n",
      "Training at Epoch 68 iteration 200 with loss 0.37299. Total time 0.87972 hours\n",
      "Validation at Epoch 68, AUROC: 0.70234 , AUPRC: 0.53117 , F1: 0.38769 , Cross-entropy Loss: 0.65499\n",
      "Training at Epoch 69 iteration 0 with loss 0.36799. Total time 0.88222 hours\n",
      "Training at Epoch 69 iteration 100 with loss 0.45335. Total time 0.8875 hours\n",
      "Training at Epoch 69 iteration 200 with loss 0.40207. Total time 0.8925 hours\n",
      "Validation at Epoch 69, AUROC: 0.71022 , AUPRC: 0.53721 , F1: 0.30368 , Cross-entropy Loss: 0.58691\n",
      "Training at Epoch 70 iteration 0 with loss 0.51231. Total time 0.895 hours\n",
      "Training at Epoch 70 iteration 100 with loss 0.35717. Total time 0.90027 hours\n",
      "Training at Epoch 70 iteration 200 with loss 0.48447. Total time 0.90555 hours\n",
      "Validation at Epoch 70, AUROC: 0.73439 , AUPRC: 0.57595 , F1: 0.40042 , Cross-entropy Loss: 0.61231\n",
      "Training at Epoch 71 iteration 0 with loss 0.31672. Total time 0.90805 hours\n",
      "Training at Epoch 71 iteration 100 with loss 0.40025. Total time 0.91333 hours\n",
      "Training at Epoch 71 iteration 200 with loss 0.32049. Total time 0.91833 hours\n",
      "Validation at Epoch 71, AUROC: 0.74991 , AUPRC: 0.59689 , F1: 0.39622 , Cross-entropy Loss: 0.61057\n",
      "Training at Epoch 72 iteration 0 with loss 0.42831. Total time 0.92083 hours\n",
      "Training at Epoch 72 iteration 100 with loss 0.25976. Total time 0.92583 hours\n",
      "Training at Epoch 72 iteration 200 with loss 0.34179. Total time 0.93138 hours\n",
      "Validation at Epoch 72, AUROC: 0.71169 , AUPRC: 0.54567 , F1: 0.34151 , Cross-entropy Loss: 0.62955\n",
      "Training at Epoch 73 iteration 0 with loss 0.45751. Total time 0.93361 hours\n",
      "Training at Epoch 73 iteration 100 with loss 0.44021. Total time 0.93888 hours\n",
      "Training at Epoch 73 iteration 200 with loss 0.26232. Total time 0.94416 hours\n",
      "Validation at Epoch 73, AUROC: 0.71875 , AUPRC: 0.56298 , F1: 0.52430 , Cross-entropy Loss: 0.61897\n",
      "Training at Epoch 74 iteration 0 with loss 0.38457. Total time 0.94666 hours\n",
      "Training at Epoch 74 iteration 100 with loss 0.38443. Total time 0.95194 hours\n",
      "Training at Epoch 74 iteration 200 with loss 0.49499. Total time 0.95694 hours\n",
      "Validation at Epoch 74, AUROC: 0.74741 , AUPRC: 0.57891 , F1: 0.50595 , Cross-entropy Loss: 0.58105\n"
     ]
    },
    {
     "name": "stdout",
     "output_type": "stream",
     "text": [
      "Training at Epoch 75 iteration 0 with loss 0.41297. Total time 0.95944 hours\n",
      "Training at Epoch 75 iteration 100 with loss 0.39328. Total time 0.96444 hours\n",
      "Training at Epoch 75 iteration 200 with loss 0.33879. Total time 0.96972 hours\n",
      "Validation at Epoch 75, AUROC: 0.72030 , AUPRC: 0.54808 , F1: 0.38894 , Cross-entropy Loss: 0.63137\n",
      "Training at Epoch 76 iteration 0 with loss 0.35344. Total time 0.97222 hours\n",
      "Training at Epoch 76 iteration 100 with loss 0.41664. Total time 0.9775 hours\n",
      "Training at Epoch 76 iteration 200 with loss 0.34177. Total time 0.98277 hours\n",
      "Validation at Epoch 76, AUROC: 0.70318 , AUPRC: 0.52204 , F1: 0.30605 , Cross-entropy Loss: 0.66786\n",
      "Training at Epoch 77 iteration 0 with loss 0.37890. Total time 0.98527 hours\n",
      "Training at Epoch 77 iteration 100 with loss 0.40444. Total time 0.99055 hours\n",
      "Training at Epoch 77 iteration 200 with loss 0.37172. Total time 0.99583 hours\n",
      "Validation at Epoch 77, AUROC: 0.75128 , AUPRC: 0.59771 , F1: 0.49444 , Cross-entropy Loss: 0.61200\n",
      "Training at Epoch 78 iteration 0 with loss 0.41171. Total time 0.99833 hours\n",
      "Training at Epoch 78 iteration 100 with loss 0.34425. Total time 1.00361 hours\n",
      "Training at Epoch 78 iteration 200 with loss 0.34515. Total time 1.00888 hours\n",
      "Validation at Epoch 78, AUROC: 0.72626 , AUPRC: 0.55720 , F1: 0.35564 , Cross-entropy Loss: 0.61027\n",
      "Training at Epoch 79 iteration 0 with loss 0.35297. Total time 1.01111 hours\n",
      "Training at Epoch 79 iteration 100 with loss 0.48334. Total time 1.01638 hours\n",
      "Training at Epoch 79 iteration 200 with loss 0.37760. Total time 1.02166 hours\n",
      "Validation at Epoch 79, AUROC: 0.75592 , AUPRC: 0.59446 , F1: 0.50574 , Cross-entropy Loss: 0.57650\n",
      "Training at Epoch 80 iteration 0 with loss 0.42374. Total time 1.02388 hours\n",
      "Training at Epoch 80 iteration 100 with loss 0.41406. Total time 1.02916 hours\n",
      "Training at Epoch 80 iteration 200 with loss 0.43930. Total time 1.03444 hours\n",
      "Validation at Epoch 80, AUROC: 0.76372 , AUPRC: 0.59846 , F1: 0.54482 , Cross-entropy Loss: 0.57005 , ***\n",
      "Training at Epoch 81 iteration 0 with loss 0.46361. Total time 1.03694 hours\n",
      "Training at Epoch 81 iteration 100 with loss 0.44132. Total time 1.04222 hours\n",
      "Training at Epoch 81 iteration 200 with loss 0.35891. Total time 1.0475 hours\n",
      "Validation at Epoch 81, AUROC: 0.74072 , AUPRC: 0.58404 , F1: 0.50671 , Cross-entropy Loss: 0.58387\n",
      "Training at Epoch 82 iteration 0 with loss 0.30347. Total time 1.04972 hours\n",
      "Training at Epoch 82 iteration 100 with loss 0.42366. Total time 1.055 hours\n",
      "Training at Epoch 82 iteration 200 with loss 0.49216. Total time 1.06 hours\n",
      "Validation at Epoch 82, AUROC: 0.75436 , AUPRC: 0.57666 , F1: 0.53287 , Cross-entropy Loss: 0.58675\n",
      "Training at Epoch 83 iteration 0 with loss 0.35455. Total time 1.0625 hours\n",
      "Training at Epoch 83 iteration 100 with loss 0.37741. Total time 1.06777 hours\n",
      "Training at Epoch 83 iteration 200 with loss 0.36086. Total time 1.07305 hours\n",
      "Validation at Epoch 83, AUROC: 0.76574 , AUPRC: 0.61612 , F1: 0.57583 , Cross-entropy Loss: 0.59717 , ***\n",
      "Training at Epoch 84 iteration 0 with loss 0.40196. Total time 1.07527 hours\n",
      "Training at Epoch 84 iteration 100 with loss 0.27809. Total time 1.08027 hours\n",
      "Training at Epoch 84 iteration 200 with loss 0.46561. Total time 1.08527 hours\n",
      "Validation at Epoch 84, AUROC: 0.75749 , AUPRC: 0.58370 , F1: 0.48462 , Cross-entropy Loss: 0.56281\n",
      "Training at Epoch 85 iteration 0 with loss 0.36633. Total time 1.08777 hours\n",
      "Training at Epoch 85 iteration 100 with loss 0.44011. Total time 1.09277 hours\n",
      "Training at Epoch 85 iteration 200 with loss 0.34228. Total time 1.09833 hours\n",
      "Validation at Epoch 85, AUROC: 0.72869 , AUPRC: 0.56434 , F1: 0.35405 , Cross-entropy Loss: 0.64798\n",
      "Training at Epoch 86 iteration 0 with loss 0.42769. Total time 1.10055 hours\n",
      "Training at Epoch 86 iteration 100 with loss 0.51966. Total time 1.10583 hours\n",
      "Training at Epoch 86 iteration 200 with loss 0.44909. Total time 1.11111 hours\n",
      "Validation at Epoch 86, AUROC: 0.74715 , AUPRC: 0.58769 , F1: 0.45873 , Cross-entropy Loss: 0.67542\n",
      "Training at Epoch 87 iteration 0 with loss 0.41084. Total time 1.11361 hours\n",
      "Training at Epoch 87 iteration 100 with loss 0.37530. Total time 1.11888 hours\n",
      "Training at Epoch 87 iteration 200 with loss 0.33051. Total time 1.12416 hours\n",
      "Validation at Epoch 87, AUROC: 0.72513 , AUPRC: 0.55310 , F1: 0.34672 , Cross-entropy Loss: 0.65640\n",
      "Training at Epoch 88 iteration 0 with loss 0.35517. Total time 1.12638 hours\n",
      "Training at Epoch 88 iteration 100 with loss 0.45673. Total time 1.13166 hours\n",
      "Training at Epoch 88 iteration 200 with loss 0.38839. Total time 1.13694 hours\n",
      "Validation at Epoch 88, AUROC: 0.76862 , AUPRC: 0.62019 , F1: 0.55680 , Cross-entropy Loss: 0.58651 , ***\n",
      "Training at Epoch 89 iteration 0 with loss 0.38946. Total time 1.13944 hours\n",
      "Training at Epoch 89 iteration 100 with loss 0.40573. Total time 1.14444 hours\n",
      "Training at Epoch 89 iteration 200 with loss 0.33191. Total time 1.14972 hours\n",
      "Validation at Epoch 89, AUROC: 0.74878 , AUPRC: 0.58529 , F1: 0.45 , Cross-entropy Loss: 0.62994\n",
      "Training at Epoch 90 iteration 0 with loss 0.26443. Total time 1.15222 hours\n",
      "Training at Epoch 90 iteration 100 with loss 0.57330. Total time 1.1575 hours\n",
      "Training at Epoch 90 iteration 200 with loss 0.47985. Total time 1.1625 hours\n",
      "Validation at Epoch 90, AUROC: 0.75300 , AUPRC: 0.58442 , F1: 0.48643 , Cross-entropy Loss: 0.59629\n",
      "Training at Epoch 91 iteration 0 with loss 0.40867. Total time 1.165 hours\n",
      "Training at Epoch 91 iteration 100 with loss 0.31189. Total time 1.17027 hours\n",
      "Training at Epoch 91 iteration 200 with loss 0.41554. Total time 1.17527 hours\n",
      "Validation at Epoch 91, AUROC: 0.72881 , AUPRC: 0.55357 , F1: 0.53768 , Cross-entropy Loss: 0.63069\n",
      "Training at Epoch 92 iteration 0 with loss 0.33586. Total time 1.17777 hours\n",
      "Training at Epoch 92 iteration 100 with loss 0.34237. Total time 1.18277 hours\n",
      "Training at Epoch 92 iteration 200 with loss 0.42136. Total time 1.18777 hours\n",
      "Validation at Epoch 92, AUROC: 0.75371 , AUPRC: 0.59247 , F1: 0.54188 , Cross-entropy Loss: 0.59129\n",
      "Training at Epoch 93 iteration 0 with loss 0.30792. Total time 1.19027 hours\n",
      "Training at Epoch 93 iteration 100 with loss 0.41510. Total time 1.19555 hours\n",
      "Training at Epoch 93 iteration 200 with loss 0.36717. Total time 1.20083 hours\n",
      "Validation at Epoch 93, AUROC: 0.74762 , AUPRC: 0.59301 , F1: 0.49954 , Cross-entropy Loss: 0.60735\n",
      "Training at Epoch 94 iteration 0 with loss 0.50449. Total time 1.20361 hours\n",
      "Training at Epoch 94 iteration 100 with loss 0.30756. Total time 1.20888 hours\n",
      "Training at Epoch 94 iteration 200 with loss 0.33926. Total time 1.21416 hours\n",
      "Validation at Epoch 94, AUROC: 0.72882 , AUPRC: 0.56734 , F1: 0.38729 , Cross-entropy Loss: 0.70147\n",
      "Training at Epoch 95 iteration 0 with loss 0.32118. Total time 1.21638 hours\n",
      "Training at Epoch 95 iteration 100 with loss 0.45216. Total time 1.22138 hours\n",
      "Training at Epoch 95 iteration 200 with loss 0.39051. Total time 1.22666 hours\n",
      "Validation at Epoch 95, AUROC: 0.74603 , AUPRC: 0.58871 , F1: 0.47699 , Cross-entropy Loss: 0.63455\n",
      "Training at Epoch 96 iteration 0 with loss 0.34332. Total time 1.22888 hours\n",
      "Training at Epoch 96 iteration 100 with loss 0.23909. Total time 1.23388 hours\n",
      "Training at Epoch 96 iteration 200 with loss 0.33566. Total time 1.23916 hours\n",
      "Validation at Epoch 96, AUROC: 0.70082 , AUPRC: 0.54737 , F1: 0.38181 , Cross-entropy Loss: 0.69211\n",
      "Training at Epoch 97 iteration 0 with loss 0.36819. Total time 1.24138 hours\n",
      "Training at Epoch 97 iteration 100 with loss 0.27341. Total time 1.24666 hours\n",
      "Training at Epoch 97 iteration 200 with loss 0.27463. Total time 1.25194 hours\n",
      "Validation at Epoch 97, AUROC: 0.75490 , AUPRC: 0.62145 , F1: 0.57540 , Cross-entropy Loss: 0.64183\n",
      "Training at Epoch 98 iteration 0 with loss 0.34936. Total time 1.25444 hours\n",
      "Training at Epoch 98 iteration 100 with loss 0.35169. Total time 1.26 hours\n",
      "Training at Epoch 98 iteration 200 with loss 0.32625. Total time 1.26527 hours\n",
      "Validation at Epoch 98, AUROC: 0.73962 , AUPRC: 0.58302 , F1: 0.41658 , Cross-entropy Loss: 0.62081\n",
      "Training at Epoch 99 iteration 0 with loss 0.42093. Total time 1.2675 hours\n",
      "Training at Epoch 99 iteration 100 with loss 0.37209. Total time 1.27277 hours\n"
     ]
    },
    {
     "name": "stdout",
     "output_type": "stream",
     "text": [
      "Training at Epoch 99 iteration 200 with loss 0.40648. Total time 1.27805 hours\n",
      "Validation at Epoch 99, AUROC: 0.73707 , AUPRC: 0.57946 , F1: 0.40245 , Cross-entropy Loss: 0.61164\n",
      "Training at Epoch 100 iteration 0 with loss 0.39666. Total time 1.28027 hours\n",
      "Training at Epoch 100 iteration 100 with loss 0.27555. Total time 1.28555 hours\n",
      "Training at Epoch 100 iteration 200 with loss 0.28289. Total time 1.29111 hours\n",
      "Validation at Epoch 100, AUROC: 0.72472 , AUPRC: 0.57647 , F1: 0.47112 , Cross-entropy Loss: 0.57813\n",
      "--- Finished ---\n",
      "--- Go for Testing ---\n",
      "Testing at Epoch 87 , AUROC: 0.76709 , AUPRC: 0.61684 , F1: 0.53510 , Cross-entropy Loss: 0.61099\n",
      "--- Training Finished ---\n"
     ]
    },
    {
     "data": {
      "image/png": "[encoded data removed]",
      "text/plain": [
       "<Figure size 432x288 with 1 Axes>"
      ]
     },
     "metadata": {
      "needs_background": "light"
     },
     "output_type": "display_data"
    },
    {
     "data": {
      "image/png": "[encoded data removed]",
      "text/plain": [
       "<Figure size 432x288 with 1 Axes>"
      ]
     },
     "metadata": {
      "needs_background": "light"
     },
     "output_type": "display_data"
    },
    {
     "data": {
      "image/png": "[encoded data removed]",
      "text/plain": [
       "<Figure size 432x288 with 2 Axes>"
      ]
     },
     "metadata": {
      "needs_background": "light"
     },
     "output_type": "display_data"
    },
    {
     "data": {
      "image/png": "[encoded data removed]",
      "text/plain": [
       "<Figure size 432x288 with 1 Axes>"
      ]
     },
     "metadata": {
      "needs_background": "light"
     },
     "output_type": "display_data"
    }
   ],
   "source": [
    "model.train(train, val, test)"
   ]
  },
  {
   "cell_type": "code",
   "execution_count": null,
   "id": "3d77def5",
   "metadata": {},
   "outputs": [],
   "source": []
  },
  {
   "cell_type": "code",
   "execution_count": null,
   "id": "2e0540fd",
   "metadata": {},
   "outputs": [],
   "source": []
  },
  {
   "cell_type": "code",
   "execution_count": null,
   "id": "c1a28d60",
   "metadata": {},
   "outputs": [],
   "source": [
    "model.save_model('./Prism_GIN_drug_bal_model')"
   ]
  },
  {
   "cell_type": "code",
   "execution_count": null,
   "id": "e158bb96",
   "metadata": {},
   "outputs": [],
   "source": []
  },
  {
   "cell_type": "code",
   "execution_count": null,
   "id": "e61c25b2",
   "metadata": {},
   "outputs": [],
   "source": []
  },
  {
   "cell_type": "code",
   "execution_count": null,
   "id": "bf827538",
   "metadata": {},
   "outputs": [],
   "source": []
  },
  {
   "cell_type": "code",
   "execution_count": 20,
   "id": "a026d728",
   "metadata": {},
   "outputs": [],
   "source": []
  },
  {
   "cell_type": "code",
   "execution_count": null,
   "id": "a9659773",
   "metadata": {},
   "outputs": [],
   "source": [
    "#test"
   ]
  },
  {
   "cell_type": "code",
   "execution_count": 2,
   "id": "7106d387",
   "metadata": {},
   "outputs": [
    {
     "name": "stderr",
     "output_type": "stream",
     "text": [
      "Using backend: pytorch\n"
     ]
    },
    {
     "name": "stdout",
     "output_type": "stream",
     "text": [
      "Downloading gin_supervised_masking_pre_trained.pth from https://data.dgl.ai/dgllife/pre_trained/gin_supervised_masking.pth...\n",
      "Pretrained model loaded\n"
     ]
    },
    {
     "data": {
      "text/plain": [
       "<controller.SmartNet at 0x7ffa48713d30>"
      ]
     },
     "execution_count": 2,
     "metadata": {},
     "output_type": "execute_result"
    }
   ],
   "source": [
    "model = controller.model_pretrained(path_dir = './Prism_GIN_drug_bal_model')\n",
    "model"
   ]
  },
  {
   "cell_type": "code",
   "execution_count": 3,
   "id": "14873ea1",
   "metadata": {},
   "outputs": [],
   "source": [
    "t_name, t, t_ss= loader.predict_load_ss('./case_study/ESE2_target_ss.txt', 1)"
   ]
  },
  {
   "cell_type": "code",
   "execution_count": 13,
   "id": "9008376f",
   "metadata": {},
   "outputs": [],
   "source": [
    "d_name, d= loader.predict_load('./case_study/ESE2_drug.txt', 1)"
   ]
  },
  {
   "cell_type": "code",
   "execution_count": 14,
   "id": "6adf7389",
   "metadata": {},
   "outputs": [
    {
     "name": "stdout",
     "output_type": "stream",
     "text": [
      "virtual screening...\n",
      "in total: 1 drug-target pairs\n",
      "encoding drug...\n",
      "unique drugs: 1\n",
      "encoding protein...\n",
      "unique target sequence: 1\n",
      "encoding structure...\n",
      "unique structure sequence: 1\n",
      "Done.\n",
      "predicting...\n",
      "---------------\n",
      "+------+-----------+-------------+-------------+-------------+\n",
      "| Rank | Drug Name | Target Name | Interaction | Probability |\n",
      "+------+-----------+-------------+-------------+-------------+\n",
      "|  1   |   SMN-C5  |     ESE2    |     YES     |     0.56    |\n",
      "+------+-----------+-------------+-------------+-------------+"
     ]
    }
   ],
   "source": [
    "y_pred = controller.classify_ss(X_repurpose = d, \n",
    "                             target = t, \n",
    "                             structure = t_ss,\n",
    "                             model = model, \n",
    "                             drug_names = d_name, \n",
    "                             target_names = t_name, \n",
    "                             result_folder = \"./result/\", \n",
    "                             output_num_max=10)"
   ]
  },
  {
   "cell_type": "code",
   "execution_count": null,
   "id": "86686eb9",
   "metadata": {},
   "outputs": [],
   "source": []
  },
  {
   "cell_type": "code",
   "execution_count": 11,
   "id": "114c748b",
   "metadata": {},
   "outputs": [],
   "source": [
    "t_name, t, t_ss= loader.predict_load_ss('./case_study/ESE2_target_ss2.txt', 1)"
   ]
  },
  {
   "cell_type": "code",
   "execution_count": 12,
   "id": "69d89eec",
   "metadata": {},
   "outputs": [],
   "source": [
    "d_name, d= loader.predict_load('./case_study/ESE2_drug.txt', 1)"
   ]
  },
  {
   "cell_type": "code",
   "execution_count": 13,
   "id": "5c486faf",
   "metadata": {},
   "outputs": [
    {
     "name": "stdout",
     "output_type": "stream",
     "text": [
      "virtual screening...\n",
      "in total: 1 drug-target pairs\n",
      "encoding drug...\n",
      "unique drugs: 1\n",
      "encoding protein...\n",
      "unique target sequence: 1\n",
      "encoding structure...\n",
      "unique structure sequence: 1\n",
      "Done.\n",
      "predicting...\n",
      "---------------\n",
      "+------+-----------+-------------+-------------+-------------+\n",
      "| Rank | Drug Name | Target Name | Interaction | Probability |\n",
      "+------+-----------+-------------+-------------+-------------+\n",
      "|  1   |   SMN-C5  |    ESE2_2   |      NO     |     0.43    |\n",
      "+------+-----------+-------------+-------------+-------------+"
     ]
    }
   ],
   "source": [
    "y_pred = controller.classify_ss(X_repurpose = d, \n",
    "                             target = t, \n",
    "                             structure = t_ss,\n",
    "                             model = model, \n",
    "                             drug_names = d_name, \n",
    "                             target_names = t_name, \n",
    "                             result_folder = \"./result/\", \n",
    "                             output_num_max=10)"
   ]
  },
  {
   "cell_type": "code",
   "execution_count": null,
   "id": "d2a6fdda",
   "metadata": {},
   "outputs": [],
   "source": []
  },
  {
   "cell_type": "code",
   "execution_count": null,
   "id": "79afeb1e",
   "metadata": {},
   "outputs": [],
   "source": []
  },
  {
   "cell_type": "code",
   "execution_count": null,
   "id": "3201d803",
   "metadata": {},
   "outputs": [],
   "source": []
  },
  {
   "cell_type": "code",
   "execution_count": null,
   "id": "0f74c09a",
   "metadata": {},
   "outputs": [],
   "source": []
  },
  {
   "cell_type": "code",
   "execution_count": 11,
   "id": "12d84163",
   "metadata": {},
   "outputs": [],
   "source": [
    "t_name, t, t_ss= loader.predict_load_ss('./case_study/mir21_target_ss.txt', 3)"
   ]
  },
  {
   "cell_type": "code",
   "execution_count": 12,
   "id": "483d8b76",
   "metadata": {},
   "outputs": [],
   "source": [
    "d_name, d= loader.predict_load('./case_study/mir21_drug.txt', 4)"
   ]
  },
  {
   "cell_type": "code",
   "execution_count": 13,
   "id": "f49ad212",
   "metadata": {
    "scrolled": false
   },
   "outputs": [
    {
     "name": "stdout",
     "output_type": "stream",
     "text": [
      "virtual screening...\n",
      "in total: 12 drug-target pairs\n",
      "encoding drug...\n",
      "unique drugs: 4\n",
      "encoding protein...\n",
      "unique target sequence: 3\n",
      "encoding structure...\n",
      "unique structure sequence: 3\n",
      "Done.\n",
      "predicting...\n",
      "---------------\n",
      "+------+-----------+-------------+-------------+-------------+\n",
      "| Rank | Drug Name | Target Name | Interaction | Probability |\n",
      "+------+-----------+-------------+-------------+-------------+\n",
      "|  1   |     1a    |   miR21_sl  |      NO     |     0.25    |\n",
      "|  2   |     3     |   miR21_sl  |      NO     |     0.23    |\n",
      "|  3   |     2     |   miR21_sl  |      NO     |     0.23    |\n",
      "|  4   |     1     |   miR21_sl  |      NO     |     0.20    |\n",
      "|  5   |     3     |  miR21_hx2  |      NO     |     0.19    |\n",
      "|  6   |     3     |  miR21_hx1  |      NO     |     0.14    |\n",
      "|  7   |     1a    |  miR21_hx2  |      NO     |     0.08    |\n",
      "|  8   |     2     |  miR21_hx2  |      NO     |     0.06    |\n",
      "|  9   |     1     |  miR21_hx2  |      NO     |     0.05    |\n",
      "|  10  |     1a    |  miR21_hx1  |      NO     |     0.03    |\n",
      "checkout ./result/Results.txt for the whole list\n"
     ]
    }
   ],
   "source": [
    "y_pred = controller.classify_ss(X_repurpose = d, \n",
    "                             target = t, \n",
    "                             structure = t_ss,\n",
    "                             model = model, \n",
    "                             drug_names = d_name, \n",
    "                             target_names = t_name, \n",
    "                             result_folder = \"./result/\", \n",
    "                             output_num_max=10)"
   ]
  },
  {
   "cell_type": "code",
   "execution_count": null,
   "id": "c48c0655",
   "metadata": {},
   "outputs": [],
   "source": []
  },
  {
   "cell_type": "code",
   "execution_count": 14,
   "id": "b7ce6623",
   "metadata": {},
   "outputs": [],
   "source": [
    "t_name, t, t_ss= loader.predict_load_ss('./case_study/disney_target_ss.txt', 2)"
   ]
  },
  {
   "cell_type": "code",
   "execution_count": null,
   "id": "2a21dc19",
   "metadata": {},
   "outputs": [],
   "source": []
  },
  {
   "cell_type": "code",
   "execution_count": 15,
   "id": "c4bccf65",
   "metadata": {},
   "outputs": [],
   "source": [
    "d_name, d= loader.predict_load('./case_study/disney_drug.txt', 5)"
   ]
  },
  {
   "cell_type": "code",
   "execution_count": 16,
   "id": "bb772cb2",
   "metadata": {},
   "outputs": [
    {
     "data": {
      "text/plain": [
       "(array(['C1', 'C2', 'C3', 'C4', 'C5'], dtype='<U2'),\n",
       " array(['COc1ccc(Br)cc1C(=O)Nc4ccc(c3nc2ccccc2[nH]3)cc4\\n',\n",
       "        'COc1ccc(Br)cc1C(=O)NC(=S)Nc4cc(c3nc2ccccc2[nH]3)ccc4C\\n',\n",
       "        'O=C(NC(=S)Nc3cc(c2nc1ccccc1[nH]2)ccc3Cl)c5ccc4OCOc4c5\\n',\n",
       "        'O=C(NC(=S)Nc3cc(c2nc1ccccc1[nH]2)ccc3Cl)C4=CC=CSC4\\n',\n",
       "        'CNc2nc(Nc1cccc(C(=O)O)c1)nc3ccccc23'], dtype='<U54'))"
      ]
     },
     "execution_count": 16,
     "metadata": {},
     "output_type": "execute_result"
    }
   ],
   "source": [
    "d_name,d"
   ]
  },
  {
   "cell_type": "code",
   "execution_count": 17,
   "id": "57d8824e",
   "metadata": {
    "scrolled": true
   },
   "outputs": [
    {
     "name": "stdout",
     "output_type": "stream",
     "text": [
      "virtual screening...\n",
      "in total: 5 drug-target pairs\n",
      "encoding drug...\n",
      "unique drugs: 5\n",
      "encoding protein...\n",
      "unique target sequence: 1\n",
      "encoding structure...\n",
      "unique structure sequence: 1\n",
      "Done.\n",
      "predicting...\n",
      "---------------\n",
      "+------+-----------+--------------+-------------+-------------+\n",
      "| Rank | Drug Name | Target Name  | Interaction | Probability |\n",
      "+------+-----------+--------------+-------------+-------------+\n",
      "|  1   |     C5    | disney-SARS2 |     YES     |     0.51    |\n",
      "|  2   |     C2    | disney-SARS2 |      NO     |     0.14    |\n",
      "|  3   |     C3    | disney-SARS2 |      NO     |     0.11    |\n",
      "|  4   |     C1    | disney-SARS2 |      NO     |     0.09    |\n",
      "|  5   |     C4    | disney-SARS2 |      NO     |     0.06    |\n",
      "+------+-----------+--------------+-------------+-------------+"
     ]
    }
   ],
   "source": [
    "y_pred = controller.classify_ss(X_repurpose = d, \n",
    "                             target = t, \n",
    "                             structure = t_ss,\n",
    "                             model = model, \n",
    "                             drug_names = d_name, \n",
    "                             target_names = t_name, \n",
    "                             result_folder = \"./result/\", \n",
    "                             output_num_max=80)"
   ]
  },
  {
   "cell_type": "code",
   "execution_count": null,
   "id": "345fc825",
   "metadata": {},
   "outputs": [],
   "source": []
  },
  {
   "cell_type": "code",
   "execution_count": 150,
   "id": "b3628c1a",
   "metadata": {},
   "outputs": [],
   "source": [
    "t_name, t, t_ss= loader.predict_load_ss('./case_study/target_ss.txt',1)"
   ]
  },
  {
   "cell_type": "code",
   "execution_count": 153,
   "id": "6d8755d1",
   "metadata": {},
   "outputs": [],
   "source": [
    "t_name, t, t_ss= loader.predict_load_ss('./case_study/target2_ss.txt',1)"
   ]
  },
  {
   "cell_type": "code",
   "execution_count": 154,
   "id": "7f69f6fd",
   "metadata": {},
   "outputs": [],
   "source": [
    "d_name, d= loader.predict_load('./case_study/drug.txt', 80)"
   ]
  },
  {
   "cell_type": "code",
   "execution_count": 155,
   "id": "f6c6f2de",
   "metadata": {},
   "outputs": [
    {
     "name": "stdout",
     "output_type": "stream",
     "text": [
      "virtual screening...\n",
      "in total: 78 drug-target pairs\n",
      "encoding drug...\n",
      "unique drugs: 77\n",
      "encoding protein...\n",
      "unique target sequence: 1\n",
      "encoding structure...\n",
      "unique structure sequence: 1\n",
      "Done.\n",
      "predicting...\n",
      "---------------\n",
      "+------+----------------------+-----------------+-------------+-------------+\n",
      "| Rank |      Drug Name       |   Target Name   | Interaction | Probability |\n",
      "+------+----------------------+-----------------+-------------+-------------+\n",
      "|  1   |     Chloroquine      | Single-stranded |     YES     |     0.86    |\n",
      "|  2   |  Hydroxychloroquine  | Single-stranded |     YES     |     0.84    |\n",
      "|  3   |     Tromantadine     | Single-stranded |     YES     |     0.82    |\n",
      "|  4   |      Pleconaril      | Single-stranded |     YES     |     0.76    |\n",
      "|  5   |      Amantadine      | Single-stranded |     YES     |     0.76    |\n",
      "|  6   |     Rimantadine      | Single-stranded |     YES     |     0.71    |\n",
      "|  7   |     Rilpivirine      | Single-stranded |     YES     |     0.68    |\n",
      "|  8   |      Etravirine      | Single-stranded |     YES     |     0.67    |\n",
      "|  9   |      Doravirine      | Single-stranded |     YES     |     0.58    |\n",
      "|  10  |      Peramivir       | Single-stranded |     YES     |     0.56    |\n",
      "|  11  |      Simeprevir      | Single-stranded |     YES     |     0.52    |\n",
      "|  12  |       Arbidol        | Single-stranded |     YES     |     0.52    |\n",
      "|  13  |      Cidofovir       | Single-stranded |     YES     |     0.51    |\n",
      "|  14  |      Maraviroc       | Single-stranded |     YES     |     0.51    |\n",
      "|  15  |      Tenofovir       | Single-stranded |      NO     |     0.49    |\n",
      "|  16  |       Descovy        | Single-stranded |      NO     |     0.49    |\n",
      "|  17  |      Tipranavir      | Single-stranded |      NO     |     0.49    |\n",
      "|  18  |      Imiquimod       | Single-stranded |      NO     |     0.49    |\n",
      "|  19  |      Cobicistat      | Single-stranded |      NO     |     0.45    |\n",
      "|  20  |     Nitazoxanide     | Single-stranded |      NO     |     0.45    |\n",
      "|  21  |      Moroxydine      | Single-stranded |      NO     |     0.44    |\n",
      "|  22  |       Loviride       | Single-stranded |      NO     |     0.41    |\n",
      "|  23  |      Letermovir      | Single-stranded |      NO     |     0.41    |\n",
      "|  24  |      Indinavir       | Single-stranded |      NO     |     0.39    |\n",
      "|  25  |     Elvitegravir     | Single-stranded |      NO     |     0.39    |\n",
      "|  26  |      Remdesivir      | Single-stranded |      NO     |     0.39    |\n",
      "|  27  |     Zalcitabine      | Single-stranded |      NO     |     0.38    |\n",
      "|  28  |      Sofosbuvir      | Single-stranded |      NO     |     0.37    |\n",
      "|  29  |      Nelfinavir      | Single-stranded |      NO     |     0.37    |\n",
      "|  30  | Tenofovir_disoproxil | Single-stranded |      NO     |     0.34    |\n",
      "|  31  |      Ritonavir       | Single-stranded |      NO     |     0.34    |\n",
      "|  32  |       Adefovir       | Single-stranded |      NO     |     0.33    |\n",
      "|  33  |      Entecavir       | Single-stranded |      NO     |     0.30    |\n",
      "|  34  |    Fosamprenavir     | Single-stranded |      NO     |     0.29    |\n",
      "|  35  |       Inosine        | Single-stranded |      NO     |     0.29    |\n",
      "|  36  |      Vicriviroc      | Single-stranded |      NO     |     0.28    |\n",
      "|  37  |     Taribavirin      | Single-stranded |      NO     |     0.26    |\n",
      "|  38  |       Imunovir       | Single-stranded |      NO     |     0.26    |\n",
      "|  39  |      Ribavirin       | Single-stranded |      NO     |     0.25    |\n",
      "|  40  |     Penciclovir      | Single-stranded |      NO     |     0.23    |\n",
      "|  41  |     Ibacitabine      | Single-stranded |      NO     |     0.22    |\n",
      "|  42  |      Efavirenz       | Single-stranded |      NO     |     0.22    |\n",
      "|  43  |     Raltegravir      | Single-stranded |      NO     |     0.21    |\n",
      "|  44  |      Didanosine      | Single-stranded |      NO     |     0.20    |\n",
      "|  45  |      Amprenavir      | Single-stranded |      NO     |     0.20    |\n",
      "|  46  |     Daclatasvir      | Single-stranded |      NO     |     0.20    |\n",
      "|  47  |      Stavudine       | Single-stranded |      NO     |     0.19    |\n",
      "|  48  |    Valganciclovir    | Single-stranded |      NO     |     0.17    |\n",
      "|  49  |      Atazanavir      | Single-stranded |      NO     |     0.17    |\n",
      "|  50  |      Vidarabine      | Single-stranded |      NO     |     0.16    |\n",
      "|  51  |      Nevirapine      | Single-stranded |      NO     |     0.15    |\n",
      "|  52  |      Darunavir       | Single-stranded |      NO     |     0.15    |\n",
      "|  53  |     Methisazone      | Single-stranded |      NO     |     0.15    |\n",
      "|  54  |      Docosanol       | Single-stranded |      NO     |     0.14    |\n",
      "|  55  |      Saquinavir      | Single-stranded |      NO     |     0.14    |\n",
      "|  56  |     Famciclovir      | Single-stranded |      NO     |     0.14    |\n",
      "|  57  |     Oseltamivir      | Single-stranded |      NO     |     0.12    |\n",
      "|  58  |       Abacavir       | Single-stranded |      NO     |     0.09    |\n",
      "|  59  |      Aciclovir       | Single-stranded |      NO     |     0.09    |\n",
      "|  60  |     Ganciclovir      | Single-stranded |      NO     |     0.09    |\n",
      "|  61  |      Lopinavir       | Single-stranded |      NO     |     0.09    |\n",
      "|  62  |      Zidovudine      | Single-stranded |      NO     |     0.08    |\n",
      "|  63  |     Telbivudine      | Single-stranded |      NO     |     0.07    |\n",
      "|  64  |      Zanamivir       | Single-stranded |      NO     |     0.06    |\n",
      "|  65  |     Grazoprevir      | Single-stranded |      NO     |     0.06    |\n",
      "|  66  |      Baloxavir       | Single-stranded |      NO     |     0.05    |\n",
      "|  67  |     Idoxuridine      | Single-stranded |      NO     |     0.05    |\n",
      "|  68  |   Podophyllotoxin    | Single-stranded |      NO     |     0.04    |\n",
      "|  69  |     Trifluridine     | Single-stranded |      NO     |     0.03    |\n",
      "|  70  |      Pyrimidine      | Single-stranded |      NO     |     0.03    |\n",
      "|  71  |     Dolutegravir     | Single-stranded |      NO     |     0.03    |\n",
      "|  72  |      Telaprevir      | Single-stranded |      NO     |     0.02    |\n",
      "|  73  |     Bictegravir      | Single-stranded |      NO     |     0.02    |\n",
      "|  74  |      Boceprevir      | Single-stranded |      NO     |     0.02    |\n",
      "|  75  |     Glecaprevir      | Single-stranded |      NO     |     0.02    |\n",
      "|  76  |      Lamivudine      | Single-stranded |      NO     |     0.02    |\n",
      "|  77  |    Emtricitabine     | Single-stranded |      NO     |     0.02    |\n",
      "|  78  |     Enfuvirtide      | Single-stranded |      NO     |     0.01    |\n",
      "+------+----------------------+-----------------+-------------+-------------+"
     ]
    }
   ],
   "source": [
    "y_pred = controller.classify_ss(X_repurpose = d, \n",
    "                             target = t, \n",
    "                             structure = t_ss,\n",
    "                             model = model, \n",
    "                             drug_names = d_name, \n",
    "                             target_names = t_name, \n",
    "                             result_folder = \"./result/\", \n",
    "                             output_num_max=80)"
   ]
  },
  {
   "cell_type": "code",
   "execution_count": null,
   "id": "8ca2d175",
   "metadata": {},
   "outputs": [],
   "source": []
  },
  {
   "cell_type": "code",
   "execution_count": 104,
   "id": "c4be4657",
   "metadata": {},
   "outputs": [
    {
     "data": {
      "text/plain": [
       "<controller.SmartNet at 0x7f06d750e190>"
      ]
     },
     "execution_count": 104,
     "metadata": {},
     "output_type": "execute_result"
    }
   ],
   "source": [
    "model"
   ]
  },
  {
   "cell_type": "code",
   "execution_count": 15,
   "id": "0ecc1eab",
   "metadata": {},
   "outputs": [
    {
     "name": "stdout",
     "output_type": "stream",
     "text": [
      "The autoreload extension is already loaded. To reload it, use:\n",
      "  %reload_ext autoreload\n"
     ]
    }
   ],
   "source": [
    "#%%\n",
    "%load_ext autoreload\n",
    "%autoreload 2\n",
    "import os\n",
    "import datautils\n",
    "from smoothgrad import *\n",
    "from param import param_num"
   ]
  },
  {
   "cell_type": "code",
   "execution_count": 16,
   "id": "340d29ca",
   "metadata": {},
   "outputs": [
    {
     "name": "stdout",
     "output_type": "stream",
     "text": [
      "This function is used to generate dataset from tabular file...\n",
      "Completed!\n"
     ]
    }
   ],
   "source": [
    "X_drugs, X_targets, X_structures, y = loader.file2var_ss(input = './case_study/ESE2_gra_test.txt')"
   ]
  },
  {
   "cell_type": "code",
   "execution_count": 17,
   "id": "55aa4702",
   "metadata": {},
   "outputs": [],
   "source": [
    "drug_encoding, target_encoding = 'DGL_GIN_AttrMasking', 'Prism'"
   ]
  },
  {
   "cell_type": "code",
   "execution_count": 18,
   "id": "976ae3c6",
   "metadata": {},
   "outputs": [
    {
     "name": "stdout",
     "output_type": "stream",
     "text": [
      "Drug Target Interaction Prediction...\n",
      "in total: 1 drug-target pairs\n",
      "encoding drug...\n",
      "unique drugs: 1\n",
      "encoding protein...\n",
      "unique target sequence: 1\n",
      "encoding structure...\n",
      "unique structure sequence: 1\n",
      "splitting dataset...\n",
      "Done.\n"
     ]
    }
   ],
   "source": [
    "test = processor.encode_ss(X_drugs, X_targets, X_structures, y, drug_encoding, target_encoding, random_seed = 1)"
   ]
  },
  {
   "cell_type": "code",
   "execution_count": null,
   "id": "60f793b9",
   "metadata": {},
   "outputs": [],
   "source": []
  },
  {
   "cell_type": "code",
   "execution_count": 19,
   "id": "ffe4050f",
   "metadata": {},
   "outputs": [],
   "source": [
    "import torch.nn.functional as F\n",
    "\n",
    "param = config.set(drug_encoding, \n",
    "                   target_encoding, \n",
    "                   result_folder = \"./result/\",\n",
    "                   #input_dim_drug = 1024, \n",
    "                   #input_dim_protein = 8420,\n",
    "                   hidden_dim_drug = 128, \n",
    "                   hidden_dim_protein = 128,\n",
    "                   cls_hidden_dims = [1024,1024,512], \n",
    "                   #batch_size = 256, \n",
    "                   batch_size = 64, \n",
    "                   train_epoch = 5, \n",
    "                   LR = 0.001, \n",
    "                   cnn_drug_filters = [32,64,96],\n",
    "                   cnn_drug_kernels = [4,6,8], #odd\n",
    "                   cnn_target_filters = [32,64,96],\n",
    "                   cnn_target_kernels = [4,6,8], #odd\n",
    "                   gnn_hid_dim_drug = 64,\n",
    "                   gnn_num_layers = 3,\n",
    "                   gnn_activation = F.relu,\n",
    "                   in_feats = 74\n",
    "                  )"
   ]
  },
  {
   "cell_type": "code",
   "execution_count": 20,
   "id": "6ab4d78c",
   "metadata": {},
   "outputs": [],
   "source": [
    "import dgl\n",
    "param['batch_size']=1\n",
    "def dgl_collate_func(x):\n",
    "    d, p, y = zip(*x)\n",
    "    d = dgl.batch(d)\n",
    "    return d, torch.tensor(p), torch.tensor(y)\n",
    "\n",
    "import torch\n",
    "from torch.utils.data import SequentialSampler\n",
    "from loader import *\n",
    "params_test = {'batch_size': param['batch_size'],\n",
    "               'shuffle': False,\n",
    "               'num_workers': 0,\n",
    "               'drop_last': False,\n",
    "               'collate_fn': dgl_collate_func,\n",
    "               'sampler': SequentialSampler(data_process_loader(test.index.values, test.Label.values, test, **param))}\n",
    "\n",
    "test_loader = torch.utils.data.DataLoader(data_process_loader(test.index.values, test.Label.values, test, **param), **params_test)"
   ]
  },
  {
   "cell_type": "code",
   "execution_count": 21,
   "id": "e38f55d8",
   "metadata": {},
   "outputs": [],
   "source": [
    "import torch\n",
    "device = torch.device(\"cuda\")"
   ]
  },
  {
   "cell_type": "code",
   "execution_count": 22,
   "id": "366684ca",
   "metadata": {},
   "outputs": [
    {
     "name": "stdout",
     "output_type": "stream",
     "text": [
      "Downloading gin_supervised_masking_pre_trained.pth from https://data.dgl.ai/dgllife/pre_trained/gin_supervised_masking.pth...\n",
      "Pretrained model loaded\n"
     ]
    }
   ],
   "source": [
    "model = models.Prism_GIN_AttrMasking(**param)"
   ]
  },
  {
   "cell_type": "code",
   "execution_count": 23,
   "id": "1afbf7ca",
   "metadata": {},
   "outputs": [
    {
     "name": "stdout",
     "output_type": "stream",
     "text": [
      "Loading model: ./Prism_GIN_drug_bal_model/model.pt\n"
     ]
    }
   ],
   "source": [
    "model_path = (\"./Prism_GIN_drug_bal_model/model.pt\")\n",
    "filename = model_path.format(\"CNN_GIN\")\n",
    "print(\"Loading model: {}\".format(filename))\n",
    "model.load_state_dict(torch.load(filename, map_location='cpu'))\n",
    "model = model.to(device)\n",
    "#print(type(model))"
   ]
  },
  {
   "cell_type": "code",
   "execution_count": 24,
   "id": "a8e11743",
   "metadata": {},
   "outputs": [],
   "source": [
    "from smoothgrad import *\n",
    "\n",
    "batch_size=1\n",
    "\n",
    "def compute_saliency(model, device, test_loader):\n",
    "\n",
    "    model.eval()\n",
    "\n",
    "    identity = \"result\"\n",
    "    #saliency_dir = datautils.make_directory(\".\", \"out/saliency\")\n",
    "    saliency_path = os.path.join(\"./out\", identity+'.sal')\n",
    "\n",
    "    # sgrad = SmoothGrad(model, device=device)\n",
    "    sgrad = GuidedBackpropSmoothGrad(model, device=device)\n",
    "    sal = \"\"\n",
    "    #for batch_idx, (x0, y0) in enumerate(test_loader):\n",
    "        #X, Y = x0.float().to(device), y0.to(device).float()\n",
    "    #print(len(test))\n",
    "    for batch_idx, (v_d, v_p, label) in enumerate(test_loader):\n",
    "        X, Y, Z = v_d, v_p.float().to(device), label.to(device)\n",
    "        #print(X.shape, Y.shape)\n",
    "        #print(batch_idx)\n",
    "        guided_saliency_p= sgrad.get_batch_gradients(X, Y, Z)\n",
    "        # import pdb; pdb.set_trace()\n",
    "        #print(guided_saliency_p.shape)\n",
    "        #N, NS, _= guided_saliency_p.shape # (N, 31, 1, 4)\n",
    "        N, NS, _,_= guided_saliency_p.shape # (N, 1, 31, 5)\n",
    "        \n",
    "        output = model(X, Y)\n",
    "        prob = torch.sigmoid(output)\n",
    "        p_np = prob.to(device='cpu').detach().numpy().squeeze()\n",
    "        \n",
    "        #print(N)\n",
    "        str_sal=[] \n",
    "        for i in range(N):\n",
    "            inr = batch_idx*batch_size + i\n",
    "            str_sal = datautils.mat2str(np.squeeze(guided_saliency_p[i]))\n",
    "            #print(p_np)\n",
    "            #sal += \"{}\\t{:.6f}\\t{}\\n\".format(inr, p_np, str_sal)\n",
    "            str_sal\n",
    "    return str_sal[:-1]\n",
    "       \n",
    "    #f = open(saliency_path,\"w\")\n",
    "    #f.write(sal)\n",
    "    #f.close()\n",
    "    #print(saliency_path)"
   ]
  },
  {
   "cell_type": "code",
   "execution_count": 27,
   "id": "ae55a035",
   "metadata": {},
   "outputs": [],
   "source": [
    "sal=compute_saliency(model, device, test_loader)"
   ]
  },
  {
   "cell_type": "code",
   "execution_count": 28,
   "id": "ff917400",
   "metadata": {},
   "outputs": [
    {
     "data": {
      "text/plain": [
       "'3.000,3.977,2.389,0.615,0.613,0.616,0.178,0.829,0.002,0.067,2.653,1.196,2.826,0.306,0.051,0.003,13.127,7.453,0.770,0.007,2.041,0.030,0.038,5.958,2.705,0.708,3.511,0.835,8.111,0.149,0.026,0.247,2.277,4.365,7.775,0.400,0.083,0.006,0.062,1.243,0.001,0.463,0.363,0.679,3.374,4.693,0.009,1.321,1.719,0.220,0.037,0.066,7.309,1.035,0.177,0.073,0.523,0.336,0.008,0.492,0.187,1.604,2.807,0.503,1.752,3.575,1.762,5.183,1.014,0.001,0.527,0.494,0.169,1.274,0.574,0.925,0.016,0.544,2.770,0.363,0.195,0.061,1.740,0.796,1.797,0.140,0.374,0.001,1.286,0.015,0.036,2.702,0.088,0.327,0.306,1.569,1.161,0.599,0.231,3.447,0.000,0.006,8.756,0.020,0.035,0.004,0.130,2.348,0.514,1.720,1.133,0.435,1.729,0.091,0.385,0.086,1.041,0.006,0.003,0.629,1.708,1.335,0.292,2.892,0.022,1.686,0.003,0.960,0.840,0.337,1.409,1.723,0.028,0.076,0.106,0.007,0.180,0.814,0.227,0.096,0.169,0.040,0.296,0.074,0.074,0.213,0.972,0.327,0.018,0.022,0.047,0.592,0.186,0.234,0.002'"
      ]
     },
     "execution_count": 28,
     "metadata": {},
     "output_type": "execute_result"
    }
   ],
   "source": [
    "sal"
   ]
  },
  {
   "cell_type": "code",
   "execution_count": 29,
   "id": "fb51a4af",
   "metadata": {},
   "outputs": [],
   "source": [
    "sal_list=sal.split(\",\")"
   ]
  },
  {
   "cell_type": "code",
   "execution_count": 31,
   "id": "0459a9df",
   "metadata": {},
   "outputs": [
    {
     "data": {
      "text/plain": [
       "'CAAAAUCAAAAAGAAGGAAGGUGCUCACAUU'"
      ]
     },
     "execution_count": 31,
     "metadata": {},
     "output_type": "execute_result"
    }
   ],
   "source": [
    "test['Target Sequence'][0]"
   ]
  },
  {
   "cell_type": "code",
   "execution_count": 32,
   "id": "af029dc3",
   "metadata": {},
   "outputs": [],
   "source": [
    "seq_list=list(test['Target Sequence'][0])"
   ]
  },
  {
   "cell_type": "code",
   "execution_count": 33,
   "id": "1b57d46a",
   "metadata": {},
   "outputs": [],
   "source": [
    "seq = ','.join(seq_list)"
   ]
  },
  {
   "cell_type": "code",
   "execution_count": 34,
   "id": "5501d9b4",
   "metadata": {},
   "outputs": [
    {
     "name": "stdout",
     "output_type": "stream",
     "text": [
      "C,A,A,A,A,U,C,A,A,A,A,A,G,A,A,G,G,A,A,G,G,U,G,C,U,C,A,C,A,U,U\n",
      "3.000,3.977,2.389,0.615,0.613,0.616,0.178,0.829,0.002,0.067,2.653,1.196,2.826,0.306,0.051,0.003,13.127,7.453,0.770,0.007,2.041,0.030,0.038,5.958,2.705,0.708,3.511,0.835,8.111,0.149,0.026\n",
      "0.247,2.277,4.365,7.775,0.400,0.083,0.006,0.062,1.243,0.001,0.463,0.363,0.679,3.374,4.693,0.009,1.321,1.719,0.220,0.037,0.066,7.309,1.035,0.177,0.073,0.523,0.336,0.008,0.492,0.187,1.604\n",
      "2.807,0.503,1.752,3.575,1.762,5.183,1.014,0.001,0.527,0.494,0.169,1.274,0.574,0.925,0.016,0.544,2.770,0.363,0.195,0.061,1.740,0.796,1.797,0.140,0.374,0.001,1.286,0.015,0.036,2.702,0.088\n",
      "0.327,0.306,1.569,1.161,0.599,0.231,3.447,0.000,0.006,8.756,0.020,0.035,0.004,0.130,2.348,0.514,1.720,1.133,0.435,1.729,0.091,0.385,0.086,1.041,0.006,0.003,0.629,1.708,1.335,0.292,2.892\n",
      "0.022,1.686,0.003,0.960,0.840,0.337,1.409,1.723,0.028,0.076,0.106,0.007,0.180,0.814,0.227,0.096,0.169,0.040,0.296,0.074,0.074,0.213,0.972,0.327,0.018,0.022,0.047,0.592,0.186,0.234,0.002\n"
     ]
    }
   ],
   "source": [
    "print(seq)\n",
    "for n in range(len(sal_list)//31):\n",
    "    print(','.join(sal_list[n*31:(n+1)*31]))"
   ]
  },
  {
   "cell_type": "code",
   "execution_count": 35,
   "id": "86f4fdd8",
   "metadata": {},
   "outputs": [],
   "source": [
    "with open('./case_study/df.txt', 'w+') as f:\n",
    "    #f.write(str(seq) + '\\n')\n",
    "    for n in range(len(sal_list)//31):\n",
    "        f.write(','.join(sal_list[n*31:(n+1)*31]) + '\\n')"
   ]
  },
  {
   "cell_type": "code",
   "execution_count": 36,
   "id": "9e835d5a",
   "metadata": {},
   "outputs": [],
   "source": [
    "df=pd.read_table('./case_study/df.txt',sep=',',header=None)"
   ]
  },
  {
   "cell_type": "code",
   "execution_count": 37,
   "id": "5c117780",
   "metadata": {},
   "outputs": [
    {
     "data": {
      "text/html": [
       "<div>\n",
       "<style scoped>\n",
       "    .dataframe tbody tr th:only-of-type {\n",
       "        vertical-align: middle;\n",
       "    }\n",
       "\n",
       "    .dataframe tbody tr th {\n",
       "        vertical-align: top;\n",
       "    }\n",
       "\n",
       "    .dataframe thead th {\n",
       "        text-align: right;\n",
       "    }\n",
       "</style>\n",
       "<table border=\"1\" class=\"dataframe\">\n",
       "  <thead>\n",
       "    <tr style=\"text-align: right;\">\n",
       "      <th></th>\n",
       "      <th>0</th>\n",
       "      <th>1</th>\n",
       "      <th>2</th>\n",
       "      <th>3</th>\n",
       "      <th>4</th>\n",
       "      <th>5</th>\n",
       "      <th>6</th>\n",
       "      <th>7</th>\n",
       "      <th>8</th>\n",
       "      <th>9</th>\n",
       "      <th>...</th>\n",
       "      <th>21</th>\n",
       "      <th>22</th>\n",
       "      <th>23</th>\n",
       "      <th>24</th>\n",
       "      <th>25</th>\n",
       "      <th>26</th>\n",
       "      <th>27</th>\n",
       "      <th>28</th>\n",
       "      <th>29</th>\n",
       "      <th>30</th>\n",
       "    </tr>\n",
       "  </thead>\n",
       "  <tbody>\n",
       "    <tr>\n",
       "      <th>0</th>\n",
       "      <td>3.000</td>\n",
       "      <td>3.977</td>\n",
       "      <td>2.389</td>\n",
       "      <td>0.615</td>\n",
       "      <td>0.613</td>\n",
       "      <td>0.616</td>\n",
       "      <td>0.178</td>\n",
       "      <td>0.829</td>\n",
       "      <td>0.002</td>\n",
       "      <td>0.067</td>\n",
       "      <td>...</td>\n",
       "      <td>0.030</td>\n",
       "      <td>0.038</td>\n",
       "      <td>5.958</td>\n",
       "      <td>2.705</td>\n",
       "      <td>0.708</td>\n",
       "      <td>3.511</td>\n",
       "      <td>0.835</td>\n",
       "      <td>8.111</td>\n",
       "      <td>0.149</td>\n",
       "      <td>0.026</td>\n",
       "    </tr>\n",
       "    <tr>\n",
       "      <th>1</th>\n",
       "      <td>0.247</td>\n",
       "      <td>2.277</td>\n",
       "      <td>4.365</td>\n",
       "      <td>7.775</td>\n",
       "      <td>0.400</td>\n",
       "      <td>0.083</td>\n",
       "      <td>0.006</td>\n",
       "      <td>0.062</td>\n",
       "      <td>1.243</td>\n",
       "      <td>0.001</td>\n",
       "      <td>...</td>\n",
       "      <td>7.309</td>\n",
       "      <td>1.035</td>\n",
       "      <td>0.177</td>\n",
       "      <td>0.073</td>\n",
       "      <td>0.523</td>\n",
       "      <td>0.336</td>\n",
       "      <td>0.008</td>\n",
       "      <td>0.492</td>\n",
       "      <td>0.187</td>\n",
       "      <td>1.604</td>\n",
       "    </tr>\n",
       "    <tr>\n",
       "      <th>2</th>\n",
       "      <td>2.807</td>\n",
       "      <td>0.503</td>\n",
       "      <td>1.752</td>\n",
       "      <td>3.575</td>\n",
       "      <td>1.762</td>\n",
       "      <td>5.183</td>\n",
       "      <td>1.014</td>\n",
       "      <td>0.001</td>\n",
       "      <td>0.527</td>\n",
       "      <td>0.494</td>\n",
       "      <td>...</td>\n",
       "      <td>0.796</td>\n",
       "      <td>1.797</td>\n",
       "      <td>0.140</td>\n",
       "      <td>0.374</td>\n",
       "      <td>0.001</td>\n",
       "      <td>1.286</td>\n",
       "      <td>0.015</td>\n",
       "      <td>0.036</td>\n",
       "      <td>2.702</td>\n",
       "      <td>0.088</td>\n",
       "    </tr>\n",
       "    <tr>\n",
       "      <th>3</th>\n",
       "      <td>0.327</td>\n",
       "      <td>0.306</td>\n",
       "      <td>1.569</td>\n",
       "      <td>1.161</td>\n",
       "      <td>0.599</td>\n",
       "      <td>0.231</td>\n",
       "      <td>3.447</td>\n",
       "      <td>0.000</td>\n",
       "      <td>0.006</td>\n",
       "      <td>8.756</td>\n",
       "      <td>...</td>\n",
       "      <td>0.385</td>\n",
       "      <td>0.086</td>\n",
       "      <td>1.041</td>\n",
       "      <td>0.006</td>\n",
       "      <td>0.003</td>\n",
       "      <td>0.629</td>\n",
       "      <td>1.708</td>\n",
       "      <td>1.335</td>\n",
       "      <td>0.292</td>\n",
       "      <td>2.892</td>\n",
       "    </tr>\n",
       "    <tr>\n",
       "      <th>4</th>\n",
       "      <td>0.022</td>\n",
       "      <td>1.686</td>\n",
       "      <td>0.003</td>\n",
       "      <td>0.960</td>\n",
       "      <td>0.840</td>\n",
       "      <td>0.337</td>\n",
       "      <td>1.409</td>\n",
       "      <td>1.723</td>\n",
       "      <td>0.028</td>\n",
       "      <td>0.076</td>\n",
       "      <td>...</td>\n",
       "      <td>0.213</td>\n",
       "      <td>0.972</td>\n",
       "      <td>0.327</td>\n",
       "      <td>0.018</td>\n",
       "      <td>0.022</td>\n",
       "      <td>0.047</td>\n",
       "      <td>0.592</td>\n",
       "      <td>0.186</td>\n",
       "      <td>0.234</td>\n",
       "      <td>0.002</td>\n",
       "    </tr>\n",
       "  </tbody>\n",
       "</table>\n",
       "<p>5 rows × 31 columns</p>\n",
       "</div>"
      ],
      "text/plain": [
       "      0      1      2      3      4      5      6      7      8      9   ...  \\\n",
       "0  3.000  3.977  2.389  0.615  0.613  0.616  0.178  0.829  0.002  0.067  ...   \n",
       "1  0.247  2.277  4.365  7.775  0.400  0.083  0.006  0.062  1.243  0.001  ...   \n",
       "2  2.807  0.503  1.752  3.575  1.762  5.183  1.014  0.001  0.527  0.494  ...   \n",
       "3  0.327  0.306  1.569  1.161  0.599  0.231  3.447  0.000  0.006  8.756  ...   \n",
       "4  0.022  1.686  0.003  0.960  0.840  0.337  1.409  1.723  0.028  0.076  ...   \n",
       "\n",
       "      21     22     23     24     25     26     27     28     29     30  \n",
       "0  0.030  0.038  5.958  2.705  0.708  3.511  0.835  8.111  0.149  0.026  \n",
       "1  7.309  1.035  0.177  0.073  0.523  0.336  0.008  0.492  0.187  1.604  \n",
       "2  0.796  1.797  0.140  0.374  0.001  1.286  0.015  0.036  2.702  0.088  \n",
       "3  0.385  0.086  1.041  0.006  0.003  0.629  1.708  1.335  0.292  2.892  \n",
       "4  0.213  0.972  0.327  0.018  0.022  0.047  0.592  0.186  0.234  0.002  \n",
       "\n",
       "[5 rows x 31 columns]"
      ]
     },
     "execution_count": 37,
     "metadata": {},
     "output_type": "execute_result"
    }
   ],
   "source": [
    "df"
   ]
  },
  {
   "cell_type": "code",
   "execution_count": 38,
   "id": "a55ce005",
   "metadata": {},
   "outputs": [],
   "source": [
    "import pandas as pd\n",
    "df3 = pd.Series(list(test['Target Sequence'][0]))\n",
    "df4=(pd.get_dummies(df3)).T"
   ]
  },
  {
   "cell_type": "code",
   "execution_count": 39,
   "id": "689bdf09",
   "metadata": {},
   "outputs": [],
   "source": [
    "df5=df4.rename(index={'A': '0','U': '1','C': '2','G': '3'})"
   ]
  },
  {
   "cell_type": "code",
   "execution_count": 40,
   "id": "0d261839",
   "metadata": {},
   "outputs": [],
   "source": [
    "df6=df5.sort_index()"
   ]
  },
  {
   "cell_type": "code",
   "execution_count": 41,
   "id": "792018c9",
   "metadata": {},
   "outputs": [
    {
     "data": {
      "text/html": [
       "<div>\n",
       "<style scoped>\n",
       "    .dataframe tbody tr th:only-of-type {\n",
       "        vertical-align: middle;\n",
       "    }\n",
       "\n",
       "    .dataframe tbody tr th {\n",
       "        vertical-align: top;\n",
       "    }\n",
       "\n",
       "    .dataframe thead th {\n",
       "        text-align: right;\n",
       "    }\n",
       "</style>\n",
       "<table border=\"1\" class=\"dataframe\">\n",
       "  <thead>\n",
       "    <tr style=\"text-align: right;\">\n",
       "      <th></th>\n",
       "      <th>0</th>\n",
       "      <th>1</th>\n",
       "      <th>2</th>\n",
       "      <th>3</th>\n",
       "      <th>4</th>\n",
       "      <th>5</th>\n",
       "      <th>6</th>\n",
       "      <th>7</th>\n",
       "      <th>8</th>\n",
       "      <th>9</th>\n",
       "      <th>...</th>\n",
       "      <th>21</th>\n",
       "      <th>22</th>\n",
       "      <th>23</th>\n",
       "      <th>24</th>\n",
       "      <th>25</th>\n",
       "      <th>26</th>\n",
       "      <th>27</th>\n",
       "      <th>28</th>\n",
       "      <th>29</th>\n",
       "      <th>30</th>\n",
       "    </tr>\n",
       "  </thead>\n",
       "  <tbody>\n",
       "    <tr>\n",
       "      <th>0</th>\n",
       "      <td>0</td>\n",
       "      <td>1</td>\n",
       "      <td>1</td>\n",
       "      <td>1</td>\n",
       "      <td>1</td>\n",
       "      <td>0</td>\n",
       "      <td>0</td>\n",
       "      <td>1</td>\n",
       "      <td>1</td>\n",
       "      <td>1</td>\n",
       "      <td>...</td>\n",
       "      <td>0</td>\n",
       "      <td>0</td>\n",
       "      <td>0</td>\n",
       "      <td>0</td>\n",
       "      <td>0</td>\n",
       "      <td>1</td>\n",
       "      <td>0</td>\n",
       "      <td>1</td>\n",
       "      <td>0</td>\n",
       "      <td>0</td>\n",
       "    </tr>\n",
       "    <tr>\n",
       "      <th>1</th>\n",
       "      <td>0</td>\n",
       "      <td>0</td>\n",
       "      <td>0</td>\n",
       "      <td>0</td>\n",
       "      <td>0</td>\n",
       "      <td>1</td>\n",
       "      <td>0</td>\n",
       "      <td>0</td>\n",
       "      <td>0</td>\n",
       "      <td>0</td>\n",
       "      <td>...</td>\n",
       "      <td>1</td>\n",
       "      <td>0</td>\n",
       "      <td>0</td>\n",
       "      <td>1</td>\n",
       "      <td>0</td>\n",
       "      <td>0</td>\n",
       "      <td>0</td>\n",
       "      <td>0</td>\n",
       "      <td>1</td>\n",
       "      <td>1</td>\n",
       "    </tr>\n",
       "    <tr>\n",
       "      <th>2</th>\n",
       "      <td>1</td>\n",
       "      <td>0</td>\n",
       "      <td>0</td>\n",
       "      <td>0</td>\n",
       "      <td>0</td>\n",
       "      <td>0</td>\n",
       "      <td>1</td>\n",
       "      <td>0</td>\n",
       "      <td>0</td>\n",
       "      <td>0</td>\n",
       "      <td>...</td>\n",
       "      <td>0</td>\n",
       "      <td>0</td>\n",
       "      <td>1</td>\n",
       "      <td>0</td>\n",
       "      <td>1</td>\n",
       "      <td>0</td>\n",
       "      <td>1</td>\n",
       "      <td>0</td>\n",
       "      <td>0</td>\n",
       "      <td>0</td>\n",
       "    </tr>\n",
       "    <tr>\n",
       "      <th>3</th>\n",
       "      <td>0</td>\n",
       "      <td>0</td>\n",
       "      <td>0</td>\n",
       "      <td>0</td>\n",
       "      <td>0</td>\n",
       "      <td>0</td>\n",
       "      <td>0</td>\n",
       "      <td>0</td>\n",
       "      <td>0</td>\n",
       "      <td>0</td>\n",
       "      <td>...</td>\n",
       "      <td>0</td>\n",
       "      <td>1</td>\n",
       "      <td>0</td>\n",
       "      <td>0</td>\n",
       "      <td>0</td>\n",
       "      <td>0</td>\n",
       "      <td>0</td>\n",
       "      <td>0</td>\n",
       "      <td>0</td>\n",
       "      <td>0</td>\n",
       "    </tr>\n",
       "  </tbody>\n",
       "</table>\n",
       "<p>4 rows × 31 columns</p>\n",
       "</div>"
      ],
      "text/plain": [
       "   0   1   2   3   4   5   6   7   8   9   ...  21  22  23  24  25  26  27  \\\n",
       "0   0   1   1   1   1   0   0   1   1   1  ...   0   0   0   0   0   1   0   \n",
       "1   0   0   0   0   0   1   0   0   0   0  ...   1   0   0   1   0   0   0   \n",
       "2   1   0   0   0   0   0   1   0   0   0  ...   0   0   1   0   1   0   1   \n",
       "3   0   0   0   0   0   0   0   0   0   0  ...   0   1   0   0   0   0   0   \n",
       "\n",
       "   28  29  30  \n",
       "0   1   0   0  \n",
       "1   0   1   1  \n",
       "2   0   0   0  \n",
       "3   0   0   0  \n",
       "\n",
       "[4 rows x 31 columns]"
      ]
     },
     "execution_count": 41,
     "metadata": {},
     "output_type": "execute_result"
    }
   ],
   "source": [
    "df6"
   ]
  },
  {
   "cell_type": "code",
   "execution_count": 42,
   "id": "fe5a79c2",
   "metadata": {},
   "outputs": [],
   "source": [
    "df2=pd.read_table('./case_study/df2.txt',sep=',',header=None)"
   ]
  },
  {
   "cell_type": "code",
   "execution_count": 43,
   "id": "26df6229",
   "metadata": {},
   "outputs": [
    {
     "data": {
      "text/html": [
       "<div>\n",
       "<style scoped>\n",
       "    .dataframe tbody tr th:only-of-type {\n",
       "        vertical-align: middle;\n",
       "    }\n",
       "\n",
       "    .dataframe tbody tr th {\n",
       "        vertical-align: top;\n",
       "    }\n",
       "\n",
       "    .dataframe thead th {\n",
       "        text-align: right;\n",
       "    }\n",
       "</style>\n",
       "<table border=\"1\" class=\"dataframe\">\n",
       "  <thead>\n",
       "    <tr style=\"text-align: right;\">\n",
       "      <th></th>\n",
       "      <th>0</th>\n",
       "      <th>1</th>\n",
       "      <th>2</th>\n",
       "      <th>3</th>\n",
       "      <th>4</th>\n",
       "      <th>5</th>\n",
       "      <th>6</th>\n",
       "      <th>7</th>\n",
       "      <th>8</th>\n",
       "      <th>9</th>\n",
       "      <th>...</th>\n",
       "      <th>21</th>\n",
       "      <th>22</th>\n",
       "      <th>23</th>\n",
       "      <th>24</th>\n",
       "      <th>25</th>\n",
       "      <th>26</th>\n",
       "      <th>27</th>\n",
       "      <th>28</th>\n",
       "      <th>29</th>\n",
       "      <th>30</th>\n",
       "    </tr>\n",
       "  </thead>\n",
       "  <tbody>\n",
       "    <tr>\n",
       "      <th>0</th>\n",
       "      <td>1</td>\n",
       "      <td>1</td>\n",
       "      <td>1</td>\n",
       "      <td>1</td>\n",
       "      <td>1</td>\n",
       "      <td>1</td>\n",
       "      <td>1</td>\n",
       "      <td>1</td>\n",
       "      <td>1</td>\n",
       "      <td>1</td>\n",
       "      <td>...</td>\n",
       "      <td>1</td>\n",
       "      <td>1</td>\n",
       "      <td>1</td>\n",
       "      <td>1</td>\n",
       "      <td>1</td>\n",
       "      <td>1</td>\n",
       "      <td>1</td>\n",
       "      <td>1</td>\n",
       "      <td>1</td>\n",
       "      <td>1</td>\n",
       "    </tr>\n",
       "  </tbody>\n",
       "</table>\n",
       "<p>1 rows × 31 columns</p>\n",
       "</div>"
      ],
      "text/plain": [
       "   0   1   2   3   4   5   6   7   8   9   ...  21  22  23  24  25  26  27  \\\n",
       "0   1   1   1   1   1   1   1   1   1   1  ...   1   1   1   1   1   1   1   \n",
       "\n",
       "   28  29  30  \n",
       "0   1   1   1  \n",
       "\n",
       "[1 rows x 31 columns]"
      ]
     },
     "execution_count": 43,
     "metadata": {},
     "output_type": "execute_result"
    }
   ],
   "source": [
    "df2"
   ]
  },
  {
   "cell_type": "code",
   "execution_count": 44,
   "id": "f4af4ac2",
   "metadata": {},
   "outputs": [],
   "source": [
    "merge = df6.append(df2, ignore_index=True)"
   ]
  },
  {
   "cell_type": "code",
   "execution_count": 45,
   "id": "1b12995c",
   "metadata": {},
   "outputs": [
    {
     "data": {
      "text/html": [
       "<div>\n",
       "<style scoped>\n",
       "    .dataframe tbody tr th:only-of-type {\n",
       "        vertical-align: middle;\n",
       "    }\n",
       "\n",
       "    .dataframe tbody tr th {\n",
       "        vertical-align: top;\n",
       "    }\n",
       "\n",
       "    .dataframe thead th {\n",
       "        text-align: right;\n",
       "    }\n",
       "</style>\n",
       "<table border=\"1\" class=\"dataframe\">\n",
       "  <thead>\n",
       "    <tr style=\"text-align: right;\">\n",
       "      <th></th>\n",
       "      <th>0</th>\n",
       "      <th>1</th>\n",
       "      <th>2</th>\n",
       "      <th>3</th>\n",
       "      <th>4</th>\n",
       "      <th>5</th>\n",
       "      <th>6</th>\n",
       "      <th>7</th>\n",
       "      <th>8</th>\n",
       "      <th>9</th>\n",
       "      <th>...</th>\n",
       "      <th>21</th>\n",
       "      <th>22</th>\n",
       "      <th>23</th>\n",
       "      <th>24</th>\n",
       "      <th>25</th>\n",
       "      <th>26</th>\n",
       "      <th>27</th>\n",
       "      <th>28</th>\n",
       "      <th>29</th>\n",
       "      <th>30</th>\n",
       "    </tr>\n",
       "  </thead>\n",
       "  <tbody>\n",
       "    <tr>\n",
       "      <th>0</th>\n",
       "      <td>0</td>\n",
       "      <td>1</td>\n",
       "      <td>1</td>\n",
       "      <td>1</td>\n",
       "      <td>1</td>\n",
       "      <td>0</td>\n",
       "      <td>0</td>\n",
       "      <td>1</td>\n",
       "      <td>1</td>\n",
       "      <td>1</td>\n",
       "      <td>...</td>\n",
       "      <td>0</td>\n",
       "      <td>0</td>\n",
       "      <td>0</td>\n",
       "      <td>0</td>\n",
       "      <td>0</td>\n",
       "      <td>1</td>\n",
       "      <td>0</td>\n",
       "      <td>1</td>\n",
       "      <td>0</td>\n",
       "      <td>0</td>\n",
       "    </tr>\n",
       "    <tr>\n",
       "      <th>1</th>\n",
       "      <td>0</td>\n",
       "      <td>0</td>\n",
       "      <td>0</td>\n",
       "      <td>0</td>\n",
       "      <td>0</td>\n",
       "      <td>1</td>\n",
       "      <td>0</td>\n",
       "      <td>0</td>\n",
       "      <td>0</td>\n",
       "      <td>0</td>\n",
       "      <td>...</td>\n",
       "      <td>1</td>\n",
       "      <td>0</td>\n",
       "      <td>0</td>\n",
       "      <td>1</td>\n",
       "      <td>0</td>\n",
       "      <td>0</td>\n",
       "      <td>0</td>\n",
       "      <td>0</td>\n",
       "      <td>1</td>\n",
       "      <td>1</td>\n",
       "    </tr>\n",
       "    <tr>\n",
       "      <th>2</th>\n",
       "      <td>1</td>\n",
       "      <td>0</td>\n",
       "      <td>0</td>\n",
       "      <td>0</td>\n",
       "      <td>0</td>\n",
       "      <td>0</td>\n",
       "      <td>1</td>\n",
       "      <td>0</td>\n",
       "      <td>0</td>\n",
       "      <td>0</td>\n",
       "      <td>...</td>\n",
       "      <td>0</td>\n",
       "      <td>0</td>\n",
       "      <td>1</td>\n",
       "      <td>0</td>\n",
       "      <td>1</td>\n",
       "      <td>0</td>\n",
       "      <td>1</td>\n",
       "      <td>0</td>\n",
       "      <td>0</td>\n",
       "      <td>0</td>\n",
       "    </tr>\n",
       "    <tr>\n",
       "      <th>3</th>\n",
       "      <td>0</td>\n",
       "      <td>0</td>\n",
       "      <td>0</td>\n",
       "      <td>0</td>\n",
       "      <td>0</td>\n",
       "      <td>0</td>\n",
       "      <td>0</td>\n",
       "      <td>0</td>\n",
       "      <td>0</td>\n",
       "      <td>0</td>\n",
       "      <td>...</td>\n",
       "      <td>0</td>\n",
       "      <td>1</td>\n",
       "      <td>0</td>\n",
       "      <td>0</td>\n",
       "      <td>0</td>\n",
       "      <td>0</td>\n",
       "      <td>0</td>\n",
       "      <td>0</td>\n",
       "      <td>0</td>\n",
       "      <td>0</td>\n",
       "    </tr>\n",
       "    <tr>\n",
       "      <th>4</th>\n",
       "      <td>1</td>\n",
       "      <td>1</td>\n",
       "      <td>1</td>\n",
       "      <td>1</td>\n",
       "      <td>1</td>\n",
       "      <td>1</td>\n",
       "      <td>1</td>\n",
       "      <td>1</td>\n",
       "      <td>1</td>\n",
       "      <td>1</td>\n",
       "      <td>...</td>\n",
       "      <td>1</td>\n",
       "      <td>1</td>\n",
       "      <td>1</td>\n",
       "      <td>1</td>\n",
       "      <td>1</td>\n",
       "      <td>1</td>\n",
       "      <td>1</td>\n",
       "      <td>1</td>\n",
       "      <td>1</td>\n",
       "      <td>1</td>\n",
       "    </tr>\n",
       "  </tbody>\n",
       "</table>\n",
       "<p>5 rows × 31 columns</p>\n",
       "</div>"
      ],
      "text/plain": [
       "   0   1   2   3   4   5   6   7   8   9   ...  21  22  23  24  25  26  27  \\\n",
       "0   0   1   1   1   1   0   0   1   1   1  ...   0   0   0   0   0   1   0   \n",
       "1   0   0   0   0   0   1   0   0   0   0  ...   1   0   0   1   0   0   0   \n",
       "2   1   0   0   0   0   0   1   0   0   0  ...   0   0   1   0   1   0   1   \n",
       "3   0   0   0   0   0   0   0   0   0   0  ...   0   1   0   0   0   0   0   \n",
       "4   1   1   1   1   1   1   1   1   1   1  ...   1   1   1   1   1   1   1   \n",
       "\n",
       "   28  29  30  \n",
       "0   1   0   0  \n",
       "1   0   1   1  \n",
       "2   0   0   0  \n",
       "3   0   0   0  \n",
       "4   1   1   1  \n",
       "\n",
       "[5 rows x 31 columns]"
      ]
     },
     "execution_count": 45,
     "metadata": {},
     "output_type": "execute_result"
    }
   ],
   "source": [
    "merge"
   ]
  },
  {
   "cell_type": "code",
   "execution_count": 46,
   "id": "f1d603ed",
   "metadata": {},
   "outputs": [],
   "source": [
    "df_final=df*merge"
   ]
  },
  {
   "cell_type": "code",
   "execution_count": 47,
   "id": "c149a1ae",
   "metadata": {},
   "outputs": [
    {
     "data": {
      "text/html": [
       "<div>\n",
       "<style scoped>\n",
       "    .dataframe tbody tr th:only-of-type {\n",
       "        vertical-align: middle;\n",
       "    }\n",
       "\n",
       "    .dataframe tbody tr th {\n",
       "        vertical-align: top;\n",
       "    }\n",
       "\n",
       "    .dataframe thead th {\n",
       "        text-align: right;\n",
       "    }\n",
       "</style>\n",
       "<table border=\"1\" class=\"dataframe\">\n",
       "  <thead>\n",
       "    <tr style=\"text-align: right;\">\n",
       "      <th></th>\n",
       "      <th>0</th>\n",
       "      <th>1</th>\n",
       "      <th>2</th>\n",
       "      <th>3</th>\n",
       "      <th>4</th>\n",
       "      <th>5</th>\n",
       "      <th>6</th>\n",
       "      <th>7</th>\n",
       "      <th>8</th>\n",
       "      <th>9</th>\n",
       "      <th>...</th>\n",
       "      <th>21</th>\n",
       "      <th>22</th>\n",
       "      <th>23</th>\n",
       "      <th>24</th>\n",
       "      <th>25</th>\n",
       "      <th>26</th>\n",
       "      <th>27</th>\n",
       "      <th>28</th>\n",
       "      <th>29</th>\n",
       "      <th>30</th>\n",
       "    </tr>\n",
       "  </thead>\n",
       "  <tbody>\n",
       "    <tr>\n",
       "      <th>0</th>\n",
       "      <td>0.000</td>\n",
       "      <td>3.977</td>\n",
       "      <td>2.389</td>\n",
       "      <td>0.615</td>\n",
       "      <td>0.613</td>\n",
       "      <td>0.000</td>\n",
       "      <td>0.000</td>\n",
       "      <td>0.829</td>\n",
       "      <td>0.002</td>\n",
       "      <td>0.067</td>\n",
       "      <td>...</td>\n",
       "      <td>0.000</td>\n",
       "      <td>0.000</td>\n",
       "      <td>0.000</td>\n",
       "      <td>0.000</td>\n",
       "      <td>0.000</td>\n",
       "      <td>3.511</td>\n",
       "      <td>0.000</td>\n",
       "      <td>8.111</td>\n",
       "      <td>0.000</td>\n",
       "      <td>0.000</td>\n",
       "    </tr>\n",
       "    <tr>\n",
       "      <th>1</th>\n",
       "      <td>0.000</td>\n",
       "      <td>0.000</td>\n",
       "      <td>0.000</td>\n",
       "      <td>0.000</td>\n",
       "      <td>0.000</td>\n",
       "      <td>0.083</td>\n",
       "      <td>0.000</td>\n",
       "      <td>0.000</td>\n",
       "      <td>0.000</td>\n",
       "      <td>0.000</td>\n",
       "      <td>...</td>\n",
       "      <td>7.309</td>\n",
       "      <td>0.000</td>\n",
       "      <td>0.000</td>\n",
       "      <td>0.073</td>\n",
       "      <td>0.000</td>\n",
       "      <td>0.000</td>\n",
       "      <td>0.000</td>\n",
       "      <td>0.000</td>\n",
       "      <td>0.187</td>\n",
       "      <td>1.604</td>\n",
       "    </tr>\n",
       "    <tr>\n",
       "      <th>2</th>\n",
       "      <td>2.807</td>\n",
       "      <td>0.000</td>\n",
       "      <td>0.000</td>\n",
       "      <td>0.000</td>\n",
       "      <td>0.000</td>\n",
       "      <td>0.000</td>\n",
       "      <td>1.014</td>\n",
       "      <td>0.000</td>\n",
       "      <td>0.000</td>\n",
       "      <td>0.000</td>\n",
       "      <td>...</td>\n",
       "      <td>0.000</td>\n",
       "      <td>0.000</td>\n",
       "      <td>0.140</td>\n",
       "      <td>0.000</td>\n",
       "      <td>0.001</td>\n",
       "      <td>0.000</td>\n",
       "      <td>0.015</td>\n",
       "      <td>0.000</td>\n",
       "      <td>0.000</td>\n",
       "      <td>0.000</td>\n",
       "    </tr>\n",
       "    <tr>\n",
       "      <th>3</th>\n",
       "      <td>0.000</td>\n",
       "      <td>0.000</td>\n",
       "      <td>0.000</td>\n",
       "      <td>0.000</td>\n",
       "      <td>0.000</td>\n",
       "      <td>0.000</td>\n",
       "      <td>0.000</td>\n",
       "      <td>0.000</td>\n",
       "      <td>0.000</td>\n",
       "      <td>0.000</td>\n",
       "      <td>...</td>\n",
       "      <td>0.000</td>\n",
       "      <td>0.086</td>\n",
       "      <td>0.000</td>\n",
       "      <td>0.000</td>\n",
       "      <td>0.000</td>\n",
       "      <td>0.000</td>\n",
       "      <td>0.000</td>\n",
       "      <td>0.000</td>\n",
       "      <td>0.000</td>\n",
       "      <td>0.000</td>\n",
       "    </tr>\n",
       "    <tr>\n",
       "      <th>4</th>\n",
       "      <td>0.022</td>\n",
       "      <td>1.686</td>\n",
       "      <td>0.003</td>\n",
       "      <td>0.960</td>\n",
       "      <td>0.840</td>\n",
       "      <td>0.337</td>\n",
       "      <td>1.409</td>\n",
       "      <td>1.723</td>\n",
       "      <td>0.028</td>\n",
       "      <td>0.076</td>\n",
       "      <td>...</td>\n",
       "      <td>0.213</td>\n",
       "      <td>0.972</td>\n",
       "      <td>0.327</td>\n",
       "      <td>0.018</td>\n",
       "      <td>0.022</td>\n",
       "      <td>0.047</td>\n",
       "      <td>0.592</td>\n",
       "      <td>0.186</td>\n",
       "      <td>0.234</td>\n",
       "      <td>0.002</td>\n",
       "    </tr>\n",
       "  </tbody>\n",
       "</table>\n",
       "<p>5 rows × 31 columns</p>\n",
       "</div>"
      ],
      "text/plain": [
       "      0      1      2      3      4      5      6      7      8      9   ...  \\\n",
       "0  0.000  3.977  2.389  0.615  0.613  0.000  0.000  0.829  0.002  0.067  ...   \n",
       "1  0.000  0.000  0.000  0.000  0.000  0.083  0.000  0.000  0.000  0.000  ...   \n",
       "2  2.807  0.000  0.000  0.000  0.000  0.000  1.014  0.000  0.000  0.000  ...   \n",
       "3  0.000  0.000  0.000  0.000  0.000  0.000  0.000  0.000  0.000  0.000  ...   \n",
       "4  0.022  1.686  0.003  0.960  0.840  0.337  1.409  1.723  0.028  0.076  ...   \n",
       "\n",
       "      21     22     23     24     25     26     27     28     29     30  \n",
       "0  0.000  0.000  0.000  0.000  0.000  3.511  0.000  8.111  0.000  0.000  \n",
       "1  7.309  0.000  0.000  0.073  0.000  0.000  0.000  0.000  0.187  1.604  \n",
       "2  0.000  0.000  0.140  0.000  0.001  0.000  0.015  0.000  0.000  0.000  \n",
       "3  0.000  0.086  0.000  0.000  0.000  0.000  0.000  0.000  0.000  0.000  \n",
       "4  0.213  0.972  0.327  0.018  0.022  0.047  0.592  0.186  0.234  0.002  \n",
       "\n",
       "[5 rows x 31 columns]"
      ]
     },
     "execution_count": 47,
     "metadata": {},
     "output_type": "execute_result"
    }
   ],
   "source": [
    "df_final"
   ]
  },
  {
   "cell_type": "code",
   "execution_count": 48,
   "id": "26bd5ef7",
   "metadata": {},
   "outputs": [
    {
     "data": {
      "text/plain": [
       "8.111"
      ]
     },
     "execution_count": 48,
     "metadata": {},
     "output_type": "execute_result"
    }
   ],
   "source": [
    "df_final.max().max()"
   ]
  },
  {
   "cell_type": "code",
   "execution_count": null,
   "id": "e3319447",
   "metadata": {},
   "outputs": [],
   "source": []
  },
  {
   "cell_type": "code",
   "execution_count": null,
   "id": "f8176335",
   "metadata": {},
   "outputs": [],
   "source": []
  },
  {
   "cell_type": "code",
   "execution_count": 49,
   "id": "a47ca828",
   "metadata": {},
   "outputs": [],
   "source": [
    "df_norm=df_final/df_final.max().max()"
   ]
  },
  {
   "cell_type": "code",
   "execution_count": 50,
   "id": "edbeecb4",
   "metadata": {},
   "outputs": [],
   "source": [
    "import matplotlib.pyplot as plt\n",
    "import numpy as np \n",
    "import seaborn as sns"
   ]
  },
  {
   "cell_type": "code",
   "execution_count": 51,
   "id": "e0aa1fce",
   "metadata": {},
   "outputs": [
    {
     "data": {
      "image/png": "[encoded data removed]",
      "text/plain": [
       "<Figure size 2160x360 with 2 Axes>"
      ]
     },
     "metadata": {
      "needs_background": "light"
     },
     "output_type": "display_data"
    }
   ],
   "source": [
    "plt.figure(figsize=(30, 5))\n",
    "\n",
    "h=sns.heatmap(df_norm, cmap='Reds', linewidths=0.1, linecolor='grey',annot=False,cbar=False)\n",
    "cb = h.figure.colorbar(h.collections[0]) #显示colorbar\n",
    "cb.ax.tick_params(labelsize=10)  # 设置colorbar刻度字体大小。\n",
    "#,cbar_kws={\"shrink\": 0.5}\n",
    "#plt.savefig(\"chr.pdf\")\n",
    "plt.show()\n"
   ]
  },
  {
   "cell_type": "code",
   "execution_count": null,
   "id": "044c3ac5",
   "metadata": {},
   "outputs": [],
   "source": []
  },
  {
   "cell_type": "code",
   "execution_count": 71,
   "id": "fd681843",
   "metadata": {},
   "outputs": [],
   "source": [
    "df_all=pd.read_table('./data/df.txt',sep=',',header=None)"
   ]
  },
  {
   "cell_type": "code",
   "execution_count": 72,
   "id": "9f333c4b",
   "metadata": {},
   "outputs": [
    {
     "data": {
      "text/plain": [
       "3.735"
      ]
     },
     "execution_count": 72,
     "metadata": {},
     "output_type": "execute_result"
    }
   ],
   "source": [
    "df_all.max().max()"
   ]
  },
  {
   "cell_type": "code",
   "execution_count": 73,
   "id": "3be8f967",
   "metadata": {},
   "outputs": [],
   "source": [
    "df_all_norm=df_all/df_all.max().max()"
   ]
  },
  {
   "cell_type": "code",
   "execution_count": 74,
   "id": "8a5156f3",
   "metadata": {},
   "outputs": [
    {
     "data": {
      "text/html": [
       "<div>\n",
       "<style scoped>\n",
       "    .dataframe tbody tr th:only-of-type {\n",
       "        vertical-align: middle;\n",
       "    }\n",
       "\n",
       "    .dataframe tbody tr th {\n",
       "        vertical-align: top;\n",
       "    }\n",
       "\n",
       "    .dataframe thead th {\n",
       "        text-align: right;\n",
       "    }\n",
       "</style>\n",
       "<table border=\"1\" class=\"dataframe\">\n",
       "  <thead>\n",
       "    <tr style=\"text-align: right;\">\n",
       "      <th></th>\n",
       "      <th>0</th>\n",
       "      <th>1</th>\n",
       "      <th>2</th>\n",
       "      <th>3</th>\n",
       "      <th>4</th>\n",
       "      <th>5</th>\n",
       "      <th>6</th>\n",
       "      <th>7</th>\n",
       "      <th>8</th>\n",
       "      <th>9</th>\n",
       "      <th>...</th>\n",
       "      <th>21</th>\n",
       "      <th>22</th>\n",
       "      <th>23</th>\n",
       "      <th>24</th>\n",
       "      <th>25</th>\n",
       "      <th>26</th>\n",
       "      <th>27</th>\n",
       "      <th>28</th>\n",
       "      <th>29</th>\n",
       "      <th>30</th>\n",
       "    </tr>\n",
       "  </thead>\n",
       "  <tbody>\n",
       "    <tr>\n",
       "      <th>0</th>\n",
       "      <td>0.0</td>\n",
       "      <td>0.0</td>\n",
       "      <td>0.000000</td>\n",
       "      <td>0.000535</td>\n",
       "      <td>0.002142</td>\n",
       "      <td>0.004552</td>\n",
       "      <td>0.003481</td>\n",
       "      <td>0.077376</td>\n",
       "      <td>0.055689</td>\n",
       "      <td>0.055154</td>\n",
       "      <td>...</td>\n",
       "      <td>0.442303</td>\n",
       "      <td>0.231058</td>\n",
       "      <td>0.004819</td>\n",
       "      <td>0.001071</td>\n",
       "      <td>0.486479</td>\n",
       "      <td>0.125569</td>\n",
       "      <td>0.002142</td>\n",
       "      <td>0.044980</td>\n",
       "      <td>0.000000</td>\n",
       "      <td>0.003481</td>\n",
       "    </tr>\n",
       "    <tr>\n",
       "      <th>1</th>\n",
       "      <td>0.0</td>\n",
       "      <td>0.0</td>\n",
       "      <td>0.000535</td>\n",
       "      <td>0.010442</td>\n",
       "      <td>0.000803</td>\n",
       "      <td>0.000000</td>\n",
       "      <td>0.083534</td>\n",
       "      <td>0.039893</td>\n",
       "      <td>0.219545</td>\n",
       "      <td>0.008032</td>\n",
       "      <td>...</td>\n",
       "      <td>0.417938</td>\n",
       "      <td>0.446319</td>\n",
       "      <td>0.008568</td>\n",
       "      <td>0.063989</td>\n",
       "      <td>0.018206</td>\n",
       "      <td>0.088621</td>\n",
       "      <td>0.022222</td>\n",
       "      <td>0.093976</td>\n",
       "      <td>0.003213</td>\n",
       "      <td>0.002142</td>\n",
       "    </tr>\n",
       "    <tr>\n",
       "      <th>2</th>\n",
       "      <td>0.0</td>\n",
       "      <td>0.0</td>\n",
       "      <td>0.000000</td>\n",
       "      <td>0.004016</td>\n",
       "      <td>0.000268</td>\n",
       "      <td>0.013922</td>\n",
       "      <td>0.000268</td>\n",
       "      <td>0.118876</td>\n",
       "      <td>0.000268</td>\n",
       "      <td>0.042838</td>\n",
       "      <td>...</td>\n",
       "      <td>0.037751</td>\n",
       "      <td>0.054083</td>\n",
       "      <td>0.004016</td>\n",
       "      <td>0.219813</td>\n",
       "      <td>0.359304</td>\n",
       "      <td>0.001606</td>\n",
       "      <td>0.043909</td>\n",
       "      <td>0.002142</td>\n",
       "      <td>0.000000</td>\n",
       "      <td>0.000535</td>\n",
       "    </tr>\n",
       "    <tr>\n",
       "      <th>3</th>\n",
       "      <td>0.0</td>\n",
       "      <td>0.0</td>\n",
       "      <td>0.000000</td>\n",
       "      <td>0.002142</td>\n",
       "      <td>0.000535</td>\n",
       "      <td>0.004819</td>\n",
       "      <td>0.002677</td>\n",
       "      <td>0.001071</td>\n",
       "      <td>0.019813</td>\n",
       "      <td>0.002410</td>\n",
       "      <td>...</td>\n",
       "      <td>0.062383</td>\n",
       "      <td>0.028648</td>\n",
       "      <td>0.149933</td>\n",
       "      <td>0.173762</td>\n",
       "      <td>0.002410</td>\n",
       "      <td>0.025167</td>\n",
       "      <td>0.025971</td>\n",
       "      <td>0.102276</td>\n",
       "      <td>0.000000</td>\n",
       "      <td>0.001339</td>\n",
       "    </tr>\n",
       "    <tr>\n",
       "      <th>4</th>\n",
       "      <td>0.0</td>\n",
       "      <td>0.0</td>\n",
       "      <td>0.000268</td>\n",
       "      <td>0.002677</td>\n",
       "      <td>0.006961</td>\n",
       "      <td>0.015797</td>\n",
       "      <td>0.003748</td>\n",
       "      <td>0.022222</td>\n",
       "      <td>0.004284</td>\n",
       "      <td>0.035341</td>\n",
       "      <td>...</td>\n",
       "      <td>0.010977</td>\n",
       "      <td>0.005890</td>\n",
       "      <td>0.242838</td>\n",
       "      <td>0.000000</td>\n",
       "      <td>0.484337</td>\n",
       "      <td>0.148862</td>\n",
       "      <td>0.058099</td>\n",
       "      <td>0.006426</td>\n",
       "      <td>0.001339</td>\n",
       "      <td>0.000000</td>\n",
       "    </tr>\n",
       "    <tr>\n",
       "      <th>5</th>\n",
       "      <td>0.0</td>\n",
       "      <td>0.0</td>\n",
       "      <td>0.000268</td>\n",
       "      <td>0.000000</td>\n",
       "      <td>0.000268</td>\n",
       "      <td>0.006426</td>\n",
       "      <td>0.006158</td>\n",
       "      <td>0.000268</td>\n",
       "      <td>0.004819</td>\n",
       "      <td>0.052744</td>\n",
       "      <td>...</td>\n",
       "      <td>0.135743</td>\n",
       "      <td>0.006426</td>\n",
       "      <td>0.000803</td>\n",
       "      <td>0.245783</td>\n",
       "      <td>0.006158</td>\n",
       "      <td>0.189290</td>\n",
       "      <td>0.004819</td>\n",
       "      <td>0.014458</td>\n",
       "      <td>0.000803</td>\n",
       "      <td>0.000000</td>\n",
       "    </tr>\n",
       "  </tbody>\n",
       "</table>\n",
       "<p>6 rows × 31 columns</p>\n",
       "</div>"
      ],
      "text/plain": [
       "    0    1         2         3         4         5         6         7   \\\n",
       "0  0.0  0.0  0.000000  0.000535  0.002142  0.004552  0.003481  0.077376   \n",
       "1  0.0  0.0  0.000535  0.010442  0.000803  0.000000  0.083534  0.039893   \n",
       "2  0.0  0.0  0.000000  0.004016  0.000268  0.013922  0.000268  0.118876   \n",
       "3  0.0  0.0  0.000000  0.002142  0.000535  0.004819  0.002677  0.001071   \n",
       "4  0.0  0.0  0.000268  0.002677  0.006961  0.015797  0.003748  0.022222   \n",
       "5  0.0  0.0  0.000268  0.000000  0.000268  0.006426  0.006158  0.000268   \n",
       "\n",
       "         8         9   ...        21        22        23        24        25  \\\n",
       "0  0.055689  0.055154  ...  0.442303  0.231058  0.004819  0.001071  0.486479   \n",
       "1  0.219545  0.008032  ...  0.417938  0.446319  0.008568  0.063989  0.018206   \n",
       "2  0.000268  0.042838  ...  0.037751  0.054083  0.004016  0.219813  0.359304   \n",
       "3  0.019813  0.002410  ...  0.062383  0.028648  0.149933  0.173762  0.002410   \n",
       "4  0.004284  0.035341  ...  0.010977  0.005890  0.242838  0.000000  0.484337   \n",
       "5  0.004819  0.052744  ...  0.135743  0.006426  0.000803  0.245783  0.006158   \n",
       "\n",
       "         26        27        28        29        30  \n",
       "0  0.125569  0.002142  0.044980  0.000000  0.003481  \n",
       "1  0.088621  0.022222  0.093976  0.003213  0.002142  \n",
       "2  0.001606  0.043909  0.002142  0.000000  0.000535  \n",
       "3  0.025167  0.025971  0.102276  0.000000  0.001339  \n",
       "4  0.148862  0.058099  0.006426  0.001339  0.000000  \n",
       "5  0.189290  0.004819  0.014458  0.000803  0.000000  \n",
       "\n",
       "[6 rows x 31 columns]"
      ]
     },
     "execution_count": 74,
     "metadata": {},
     "output_type": "execute_result"
    }
   ],
   "source": [
    "df_all_norm"
   ]
  },
  {
   "cell_type": "code",
   "execution_count": 75,
   "id": "1b9ef62b",
   "metadata": {},
   "outputs": [
    {
     "data": {
      "image/png": "[encoded data removed]",
      "text/plain": [
       "<Figure size 2160x360 with 2 Axes>"
      ]
     },
     "metadata": {
      "needs_background": "light"
     },
     "output_type": "display_data"
    }
   ],
   "source": [
    "plt.figure(figsize=(30, 5))\n",
    "\n",
    "h=sns.heatmap(df_all_norm, cmap='Reds', linewidths=0.1, linecolor='grey',annot=False,cbar=False)\n",
    "cb = h.figure.colorbar(h.collections[0]) #显示colorbar\n",
    "cb.ax.tick_params(labelsize=10)  # 设置colorbar刻度字体大小。\n",
    "#,cbar_kws={\"shrink\": 0.5}\n",
    "#plt.savefig(\"chr.pdf\")\n",
    "plt.show()\n"
   ]
  },
  {
   "cell_type": "code",
   "execution_count": null,
   "id": "72c3528e",
   "metadata": {},
   "outputs": [],
   "source": []
  },
  {
   "cell_type": "code",
   "execution_count": 81,
   "id": "e033faaa",
   "metadata": {},
   "outputs": [],
   "source": [
    "t_name, t= loader.predict_load('./data/target2.txt', 1)"
   ]
  },
  {
   "cell_type": "code",
   "execution_count": 82,
   "id": "0159e142",
   "metadata": {},
   "outputs": [],
   "source": [
    "d_name, d= loader.predict_load('./data/drug.txt', 80)"
   ]
  },
  {
   "cell_type": "code",
   "execution_count": 83,
   "id": "b2cfc774",
   "metadata": {},
   "outputs": [
    {
     "name": "stdout",
     "output_type": "stream",
     "text": [
      "Downloading gin_supervised_masking_pre_trained.pth from https://data.dgl.ai/dgllife/pre_trained/gin_supervised_masking.pth...\n",
      "Pretrained model loaded\n"
     ]
    },
    {
     "data": {
      "text/plain": [
       "<controller.SmartNet at 0x7f9c91cfda00>"
      ]
     },
     "execution_count": 83,
     "metadata": {},
     "output_type": "execute_result"
    }
   ],
   "source": [
    "model = controller.model_pretrained(path_dir = './CNN_GIN_drug_bal_model')\n",
    "model"
   ]
  },
  {
   "cell_type": "code",
   "execution_count": 84,
   "id": "929f7814",
   "metadata": {},
   "outputs": [
    {
     "name": "stdout",
     "output_type": "stream",
     "text": [
      "virtual screening...\n",
      "in total: 78 drug-target pairs\n",
      "encoding drug...\n",
      "unique drugs: 77\n",
      "encoding protein...\n",
      "unique target sequence: 1\n",
      "Done.\n",
      "predicting...\n",
      "---------------\n",
      "+------+----------------------+-----------------+-------------+-------------+\n",
      "| Rank |      Drug Name       |   Target Name   | Interaction | Probability |\n",
      "+------+----------------------+-----------------+-------------+-------------+\n",
      "|  1   |       Loviride       | Single-stranded |      NO     |     0.26    |\n",
      "|  2   |     Chloroquine      | Single-stranded |      NO     |     0.17    |\n",
      "|  3   |      Letermovir      | Single-stranded |      NO     |     0.17    |\n",
      "|  4   |  Hydroxychloroquine  | Single-stranded |      NO     |     0.14    |\n",
      "|  5   |      Indinavir       | Single-stranded |      NO     |     0.06    |\n",
      "|  6   |      Amprenavir      | Single-stranded |      NO     |     0.02    |\n",
      "|  7   |      Vicriviroc      | Single-stranded |      NO     |     0.01    |\n",
      "|  8   |       Arbidol        | Single-stranded |      NO     |     0.01    |\n",
      "|  9   |      Pyrimidine      | Single-stranded |      NO     |     0.01    |\n",
      "|  10  |      Cobicistat      | Single-stranded |      NO     |     0.00    |\n",
      "|  11  |     Methisazone      | Single-stranded |      NO     |     0.00    |\n",
      "|  12  |    Fosamprenavir     | Single-stranded |      NO     |     0.00    |\n",
      "|  13  |      Lopinavir       | Single-stranded |      NO     |     0.00    |\n",
      "|  14  |      Ritonavir       | Single-stranded |      NO     |     0.00    |\n",
      "|  15  |      Docosanol       | Single-stranded |      NO     |     0.00    |\n",
      "|  16  |      Moroxydine      | Single-stranded |      NO     |     0.00    |\n",
      "|  17  |       Imunovir       | Single-stranded |      NO     |     0.00    |\n",
      "|  18  |      Tenofovir       | Single-stranded |      NO     |     0.00    |\n",
      "|  19  |       Descovy        | Single-stranded |      NO     |     0.00    |\n",
      "|  20  |      Atazanavir      | Single-stranded |      NO     |     0.00    |\n",
      "|  21  |      Darunavir       | Single-stranded |      NO     |     0.00    |\n",
      "|  22  |      Tipranavir      | Single-stranded |      NO     |     0.00    |\n",
      "|  23  |     Daclatasvir      | Single-stranded |      NO     |     0.00    |\n",
      "|  24  |      Saquinavir      | Single-stranded |      NO     |     0.00    |\n",
      "|  25  |      Pleconaril      | Single-stranded |      NO     |     0.00    |\n",
      "|  26  |      Imiquimod       | Single-stranded |      NO     |     0.00    |\n",
      "|  27  |     Oseltamivir      | Single-stranded |      NO     |     0.00    |\n",
      "|  28  |     Bictegravir      | Single-stranded |      NO     |     0.00    |\n",
      "|  29  |      Sofosbuvir      | Single-stranded |      NO     |     0.00    |\n",
      "|  30  | Tenofovir_disoproxil | Single-stranded |      NO     |     0.00    |\n",
      "|  31  |      Nelfinavir      | Single-stranded |      NO     |     0.00    |\n",
      "|  32  |     Rilpivirine      | Single-stranded |      NO     |     0.00    |\n",
      "|  33  |      Remdesivir      | Single-stranded |      NO     |     0.00    |\n",
      "|  34  |      Maraviroc       | Single-stranded |      NO     |     0.00    |\n",
      "|  35  |      Baloxavir       | Single-stranded |      NO     |     0.00    |\n",
      "|  36  |      Vidarabine      | Single-stranded |      NO     |     0.00    |\n",
      "|  37  |      Efavirenz       | Single-stranded |      NO     |     0.00    |\n",
      "|  38  |     Ibacitabine      | Single-stranded |      NO     |     0.00    |\n",
      "|  39  |       Adefovir       | Single-stranded |      NO     |     0.00    |\n",
      "|  40  |      Nevirapine      | Single-stranded |      NO     |     0.00    |\n",
      "|  41  |     Zalcitabine      | Single-stranded |      NO     |     0.00    |\n",
      "|  42  |     Elvitegravir     | Single-stranded |      NO     |     0.00    |\n",
      "|  43  |     Enfuvirtide      | Single-stranded |      NO     |     0.00    |\n",
      "|  44  |      Simeprevir      | Single-stranded |      NO     |     0.00    |\n",
      "|  45  |      Cidofovir       | Single-stranded |      NO     |     0.00    |\n",
      "|  46  |      Peramivir       | Single-stranded |      NO     |     0.00    |\n",
      "|  47  |     Taribavirin      | Single-stranded |      NO     |     0.00    |\n",
      "|  48  |     Dolutegravir     | Single-stranded |      NO     |     0.00    |\n",
      "|  49  |     Trifluridine     | Single-stranded |      NO     |     0.00    |\n",
      "|  50  |      Zanamivir       | Single-stranded |      NO     |     0.00    |\n",
      "|  51  |      Ribavirin       | Single-stranded |      NO     |     0.00    |\n",
      "|  52  |     Raltegravir      | Single-stranded |      NO     |     0.00    |\n",
      "|  53  |     Telbivudine      | Single-stranded |      NO     |     0.00    |\n",
      "|  54  |      Etravirine      | Single-stranded |      NO     |     0.00    |\n",
      "|  55  |       Inosine        | Single-stranded |      NO     |     0.00    |\n",
      "|  56  |     Idoxuridine      | Single-stranded |      NO     |     0.00    |\n",
      "|  57  |      Stavudine       | Single-stranded |      NO     |     0.00    |\n",
      "|  58  |    Emtricitabine     | Single-stranded |      NO     |     0.00    |\n",
      "|  59  |      Boceprevir      | Single-stranded |      NO     |     0.00    |\n",
      "|  60  |     Nitazoxanide     | Single-stranded |      NO     |     0.00    |\n",
      "|  61  |      Zidovudine      | Single-stranded |      NO     |     0.00    |\n",
      "|  62  |     Grazoprevir      | Single-stranded |      NO     |     0.00    |\n",
      "|  63  |     Glecaprevir      | Single-stranded |      NO     |     0.00    |\n",
      "|  64  |      Doravirine      | Single-stranded |      NO     |     0.00    |\n",
      "|  65  |      Lamivudine      | Single-stranded |      NO     |     0.00    |\n",
      "|  66  |      Telaprevir      | Single-stranded |      NO     |     0.00    |\n",
      "|  67  |     Tromantadine     | Single-stranded |      NO     |     0.00    |\n",
      "|  68  |   Podophyllotoxin    | Single-stranded |      NO     |     0.00    |\n",
      "|  69  |     Famciclovir      | Single-stranded |      NO     |     0.00    |\n",
      "|  70  |      Didanosine      | Single-stranded |      NO     |     0.00    |\n",
      "|  71  |    Valganciclovir    | Single-stranded |      NO     |     0.00    |\n",
      "|  72  |       Abacavir       | Single-stranded |      NO     |     0.00    |\n",
      "|  73  |      Amantadine      | Single-stranded |      NO     |     0.00    |\n",
      "|  74  |     Rimantadine      | Single-stranded |      NO     |     0.00    |\n",
      "|  75  |     Ganciclovir      | Single-stranded |      NO     |     0.00    |\n",
      "|  76  |      Entecavir       | Single-stranded |      NO     |     0.00    |\n",
      "|  77  |     Penciclovir      | Single-stranded |      NO     |     0.00    |\n",
      "|  78  |      Aciclovir       | Single-stranded |      NO     |     0.00    |\n",
      "+------+----------------------+-----------------+-------------+-------------+"
     ]
    }
   ],
   "source": [
    "y_pred = controller.classify(X_repurpose = d, \n",
    "                             target = t, \n",
    "                             model = model, \n",
    "                             drug_names = d_name, \n",
    "                             target_names = t_name, \n",
    "                             result_folder = \"./result/\", \n",
    "                             output_num_max=80)"
   ]
  },
  {
   "cell_type": "code",
   "execution_count": null,
   "id": "c96775a6",
   "metadata": {},
   "outputs": [],
   "source": [
    "#drug visualization"
   ]
  },
  {
   "cell_type": "code",
   "execution_count": 6,
   "id": "8bf51164",
   "metadata": {},
   "outputs": [],
   "source": [
    "from rdkit import Chem\n",
    "from rdkit.Chem.Draw import IPythonConsole\n",
    "from rdkit.Chem import rdDepictor\n",
    "from rdkit.Chem.Draw import rdMolDraw2D\n",
    "from IPython.display import SVG"
   ]
  },
  {
   "cell_type": "code",
   "execution_count": 16,
   "id": "f8d391a1",
   "metadata": {},
   "outputs": [],
   "source": [
    "smiles='CC(=O)OC1=CC=CC=C1C(=O)NC2=NC=C(S2)[N+](=O)[O-]'"
   ]
  },
  {
   "cell_type": "code",
   "execution_count": 17,
   "id": "019aa808",
   "metadata": {},
   "outputs": [],
   "source": [
    "m = Chem.MolFromSmiles(smiles)"
   ]
  },
  {
   "cell_type": "code",
   "execution_count": 18,
   "id": "18e0bcfa",
   "metadata": {},
   "outputs": [
    {
     "data": {
      "image/png": "[encoded data removed]",
      "text/plain": [
       "<rdkit.Chem.rdchem.Mol at 0x7fe5c9ebc160>"
      ]
     },
     "execution_count": 18,
     "metadata": {},
     "output_type": "execute_result"
    }
   ],
   "source": [
    "m"
   ]
  },
  {
   "cell_type": "code",
   "execution_count": 19,
   "id": "f5d94d5a",
   "metadata": {},
   "outputs": [
    {
     "data": {
      "image/svg+xml": [
       "<svg xmlns=\"http://www.w3.org/2000/svg\" xmlns:rdkit=\"http://www.rdkit.org/xml\" xmlns:xlink=\"http://www.w3.org/1999/xlink\" version=\"1.1\" baseProfile=\"full\" xml:space=\"preserve\" width=\"300px\" height=\"300px\" viewBox=\"0 0 300 300\">\n",
       "<!-- END OF HEADER -->\n",
       "<rect style=\"opacity:1.0;fill:#FFFFFF;stroke:none\" width=\"300\" height=\"300\" x=\"0\" y=\"0\"> </rect>\n",
       "<path class=\"bond-0 atom-0 atom-1\" d=\"M 58.8278,226.889 L 50.4086,194.337\" style=\"fill:none;fill-rule:evenodd;stroke:#000000;stroke-width:2.0px;stroke-linecap:butt;stroke-linejoin:miter;stroke-opacity:1\"/>\n",
       "<path class=\"bond-1 atom-1 atom-2\" d=\"M 51.3071,191.096 L 37.7124,187.327\" style=\"fill:none;fill-rule:evenodd;stroke:#000000;stroke-width:2.0px;stroke-linecap:butt;stroke-linejoin:miter;stroke-opacity:1\"/>\n",
       "<path class=\"bond-1 atom-1 atom-2\" d=\"M 37.7124,187.327 L 24.1177,183.557\" style=\"fill:none;fill-rule:evenodd;stroke:#FF0000;stroke-width:2.0px;stroke-linecap:butt;stroke-linejoin:miter;stroke-opacity:1\"/>\n",
       "<path class=\"bond-1 atom-1 atom-2\" d=\"M 49.5101,197.577 L 35.9154,193.807\" style=\"fill:none;fill-rule:evenodd;stroke:#000000;stroke-width:2.0px;stroke-linecap:butt;stroke-linejoin:miter;stroke-opacity:1\"/>\n",
       "<path class=\"bond-1 atom-1 atom-2\" d=\"M 35.9154,193.807 L 22.3207,190.037\" style=\"fill:none;fill-rule:evenodd;stroke:#FF0000;stroke-width:2.0px;stroke-linecap:butt;stroke-linejoin:miter;stroke-opacity:1\"/>\n",
       "<path class=\"bond-2 atom-1 atom-3\" d=\"M 50.4086,194.337 L 59.7937,185.114\" style=\"fill:none;fill-rule:evenodd;stroke:#000000;stroke-width:2.0px;stroke-linecap:butt;stroke-linejoin:miter;stroke-opacity:1\"/>\n",
       "<path class=\"bond-2 atom-1 atom-3\" d=\"M 59.7937,185.114 L 69.1787,175.891\" style=\"fill:none;fill-rule:evenodd;stroke:#FF0000;stroke-width:2.0px;stroke-linecap:butt;stroke-linejoin:miter;stroke-opacity:1\"/>\n",
       "<path class=\"bond-3 atom-3 atom-4\" d=\"M 72.9277,165.113 L 69.4495,151.665\" style=\"fill:none;fill-rule:evenodd;stroke:#FF0000;stroke-width:2.0px;stroke-linecap:butt;stroke-linejoin:miter;stroke-opacity:1\"/>\n",
       "<path class=\"bond-3 atom-3 atom-4\" d=\"M 69.4495,151.665 L 65.9712,138.216\" style=\"fill:none;fill-rule:evenodd;stroke:#000000;stroke-width:2.0px;stroke-linecap:butt;stroke-linejoin:miter;stroke-opacity:1\"/>\n",
       "<path class=\"bond-4 atom-4 atom-5\" d=\"M 65.9712,138.216 L 33.5701,129.231\" style=\"fill:none;fill-rule:evenodd;stroke:#000000;stroke-width:2.0px;stroke-linecap:butt;stroke-linejoin:miter;stroke-opacity:1\"/>\n",
       "<path class=\"bond-4 atom-4 atom-5\" d=\"M 62.9081,130.388 L 40.2273,124.099\" style=\"fill:none;fill-rule:evenodd;stroke:#000000;stroke-width:2.0px;stroke-linecap:butt;stroke-linejoin:miter;stroke-opacity:1\"/>\n",
       "<path class=\"bond-20 atom-9 atom-4\" d=\"M 89.9531,114.649 L 65.9712,138.216\" style=\"fill:none;fill-rule:evenodd;stroke:#000000;stroke-width:2.0px;stroke-linecap:butt;stroke-linejoin:miter;stroke-opacity:1\"/>\n",
       "<path class=\"bond-5 atom-5 atom-6\" d=\"M 33.5701,129.231 L 25.1509,96.6784\" style=\"fill:none;fill-rule:evenodd;stroke:#000000;stroke-width:2.0px;stroke-linecap:butt;stroke-linejoin:miter;stroke-opacity:1\"/>\n",
       "<path class=\"bond-6 atom-6 atom-7\" d=\"M 25.1509,96.6784 L 49.1327,73.1107\" style=\"fill:none;fill-rule:evenodd;stroke:#000000;stroke-width:2.0px;stroke-linecap:butt;stroke-linejoin:miter;stroke-opacity:1\"/>\n",
       "<path class=\"bond-6 atom-6 atom-7\" d=\"M 33.4617,97.9396 L 50.249,81.4423\" style=\"fill:none;fill-rule:evenodd;stroke:#000000;stroke-width:2.0px;stroke-linecap:butt;stroke-linejoin:miter;stroke-opacity:1\"/>\n",
       "<path class=\"bond-7 atom-7 atom-8\" d=\"M 49.1327,73.1107 L 81.5338,82.0958\" style=\"fill:none;fill-rule:evenodd;stroke:#000000;stroke-width:2.0px;stroke-linecap:butt;stroke-linejoin:miter;stroke-opacity:1\"/>\n",
       "<path class=\"bond-8 atom-8 atom-9\" d=\"M 81.5338,82.0958 L 89.9531,114.649\" style=\"fill:none;fill-rule:evenodd;stroke:#000000;stroke-width:2.0px;stroke-linecap:butt;stroke-linejoin:miter;stroke-opacity:1\"/>\n",
       "<path class=\"bond-8 atom-8 atom-9\" d=\"M 76.2862,88.6626 L 82.1796,111.449\" style=\"fill:none;fill-rule:evenodd;stroke:#000000;stroke-width:2.0px;stroke-linecap:butt;stroke-linejoin:miter;stroke-opacity:1\"/>\n",
       "<path class=\"bond-9 atom-9 atom-10\" d=\"M 89.9531,114.649 L 122.354,123.634\" style=\"fill:none;fill-rule:evenodd;stroke:#000000;stroke-width:2.0px;stroke-linecap:butt;stroke-linejoin:miter;stroke-opacity:1\"/>\n",
       "<path class=\"bond-10 atom-10 atom-11\" d=\"M 119.099,124.476 L 122.577,137.924\" style=\"fill:none;fill-rule:evenodd;stroke:#000000;stroke-width:2.0px;stroke-linecap:butt;stroke-linejoin:miter;stroke-opacity:1\"/>\n",
       "<path class=\"bond-10 atom-10 atom-11\" d=\"M 122.577,137.924 L 126.055,151.373\" style=\"fill:none;fill-rule:evenodd;stroke:#FF0000;stroke-width:2.0px;stroke-linecap:butt;stroke-linejoin:miter;stroke-opacity:1\"/>\n",
       "<path class=\"bond-10 atom-10 atom-11\" d=\"M 125.609,122.792 L 129.088,136.24\" style=\"fill:none;fill-rule:evenodd;stroke:#000000;stroke-width:2.0px;stroke-linecap:butt;stroke-linejoin:miter;stroke-opacity:1\"/>\n",
       "<path class=\"bond-10 atom-10 atom-11\" d=\"M 129.088,136.24 L 132.566,149.689\" style=\"fill:none;fill-rule:evenodd;stroke:#FF0000;stroke-width:2.0px;stroke-linecap:butt;stroke-linejoin:miter;stroke-opacity:1\"/>\n",
       "<path class=\"bond-11 atom-10 atom-12\" d=\"M 122.354,123.634 L 132.119,114.037\" style=\"fill:none;fill-rule:evenodd;stroke:#000000;stroke-width:2.0px;stroke-linecap:butt;stroke-linejoin:miter;stroke-opacity:1\"/>\n",
       "<path class=\"bond-11 atom-10 atom-12\" d=\"M 132.119,114.037 L 141.884,104.441\" style=\"fill:none;fill-rule:evenodd;stroke:#0000FF;stroke-width:2.0px;stroke-linecap:butt;stroke-linejoin:miter;stroke-opacity:1\"/>\n",
       "<path class=\"bond-12 atom-12 atom-13\" d=\"M 150.788,101.301 L 164.763,105.176\" style=\"fill:none;fill-rule:evenodd;stroke:#0000FF;stroke-width:2.0px;stroke-linecap:butt;stroke-linejoin:miter;stroke-opacity:1\"/>\n",
       "<path class=\"bond-12 atom-12 atom-13\" d=\"M 164.763,105.176 L 178.737,109.051\" style=\"fill:none;fill-rule:evenodd;stroke:#000000;stroke-width:2.0px;stroke-linecap:butt;stroke-linejoin:miter;stroke-opacity:1\"/>\n",
       "<path class=\"bond-13 atom-13 atom-14\" d=\"M 178.737,109.051 L 189.668,100.356\" style=\"fill:none;fill-rule:evenodd;stroke:#000000;stroke-width:2.0px;stroke-linecap:butt;stroke-linejoin:miter;stroke-opacity:1\"/>\n",
       "<path class=\"bond-13 atom-13 atom-14\" d=\"M 189.668,100.356 L 200.599,91.6606\" style=\"fill:none;fill-rule:evenodd;stroke:#0000FF;stroke-width:2.0px;stroke-linecap:butt;stroke-linejoin:miter;stroke-opacity:1\"/>\n",
       "<path class=\"bond-13 atom-13 atom-14\" d=\"M 186.203,111.705 L 193.855,105.619\" style=\"fill:none;fill-rule:evenodd;stroke:#000000;stroke-width:2.0px;stroke-linecap:butt;stroke-linejoin:miter;stroke-opacity:1\"/>\n",
       "<path class=\"bond-13 atom-13 atom-14\" d=\"M 193.855,105.619 L 201.506,99.532\" style=\"fill:none;fill-rule:evenodd;stroke:#0000FF;stroke-width:2.0px;stroke-linecap:butt;stroke-linejoin:miter;stroke-opacity:1\"/>\n",
       "<path class=\"bond-21 atom-17 atom-13\" d=\"M 188.423,134.957 L 183.58,122.004\" style=\"fill:none;fill-rule:evenodd;stroke:#CCCC00;stroke-width:2.0px;stroke-linecap:butt;stroke-linejoin:miter;stroke-opacity:1\"/>\n",
       "<path class=\"bond-21 atom-17 atom-13\" d=\"M 183.58,122.004 L 178.737,109.051\" style=\"fill:none;fill-rule:evenodd;stroke:#000000;stroke-width:2.0px;stroke-linecap:butt;stroke-linejoin:miter;stroke-opacity:1\"/>\n",
       "<path class=\"bond-14 atom-14 atom-15\" d=\"M 209.503,91.0659 L 221.296,98.8715\" style=\"fill:none;fill-rule:evenodd;stroke:#0000FF;stroke-width:2.0px;stroke-linecap:butt;stroke-linejoin:miter;stroke-opacity:1\"/>\n",
       "<path class=\"bond-14 atom-14 atom-15\" d=\"M 221.296,98.8715 L 233.09,106.677\" style=\"fill:none;fill-rule:evenodd;stroke:#000000;stroke-width:2.0px;stroke-linecap:butt;stroke-linejoin:miter;stroke-opacity:1\"/>\n",
       "<path class=\"bond-15 atom-15 atom-16\" d=\"M 233.09,106.677 L 224.105,139.078\" style=\"fill:none;fill-rule:evenodd;stroke:#000000;stroke-width:2.0px;stroke-linecap:butt;stroke-linejoin:miter;stroke-opacity:1\"/>\n",
       "<path class=\"bond-15 atom-15 atom-16\" d=\"M 225.262,109.74 L 218.972,132.421\" style=\"fill:none;fill-rule:evenodd;stroke:#000000;stroke-width:2.0px;stroke-linecap:butt;stroke-linejoin:miter;stroke-opacity:1\"/>\n",
       "<path class=\"bond-16 atom-16 atom-17\" d=\"M 224.105,139.078 L 209.256,139.727\" style=\"fill:none;fill-rule:evenodd;stroke:#000000;stroke-width:2.0px;stroke-linecap:butt;stroke-linejoin:miter;stroke-opacity:1\"/>\n",
       "<path class=\"bond-16 atom-16 atom-17\" d=\"M 209.256,139.727 L 194.407,140.375\" style=\"fill:none;fill-rule:evenodd;stroke:#CCCC00;stroke-width:2.0px;stroke-linecap:butt;stroke-linejoin:miter;stroke-opacity:1\"/>\n",
       "<path class=\"bond-17 atom-16 atom-18\" d=\"M 224.105,139.078 L 232.345,149.437\" style=\"fill:none;fill-rule:evenodd;stroke:#000000;stroke-width:2.0px;stroke-linecap:butt;stroke-linejoin:miter;stroke-opacity:1\"/>\n",
       "<path class=\"bond-17 atom-16 atom-18\" d=\"M 232.345,149.437 L 240.585,159.796\" style=\"fill:none;fill-rule:evenodd;stroke:#0000FF;stroke-width:2.0px;stroke-linecap:butt;stroke-linejoin:miter;stroke-opacity:1\"/>\n",
       "<path class=\"bond-18 atom-18 atom-19\" d=\"M 239.702,169.762 L 235.728,179.851\" style=\"fill:none;fill-rule:evenodd;stroke:#0000FF;stroke-width:2.0px;stroke-linecap:butt;stroke-linejoin:miter;stroke-opacity:1\"/>\n",
       "<path class=\"bond-18 atom-18 atom-19\" d=\"M 235.728,179.851 L 231.754,189.939\" style=\"fill:none;fill-rule:evenodd;stroke:#FF0000;stroke-width:2.0px;stroke-linecap:butt;stroke-linejoin:miter;stroke-opacity:1\"/>\n",
       "<path class=\"bond-18 atom-18 atom-19\" d=\"M 245.958,172.226 L 241.985,182.315\" style=\"fill:none;fill-rule:evenodd;stroke:#0000FF;stroke-width:2.0px;stroke-linecap:butt;stroke-linejoin:miter;stroke-opacity:1\"/>\n",
       "<path class=\"bond-18 atom-18 atom-19\" d=\"M 241.985,182.315 L 238.011,192.404\" style=\"fill:none;fill-rule:evenodd;stroke:#FF0000;stroke-width:2.0px;stroke-linecap:butt;stroke-linejoin:miter;stroke-opacity:1\"/>\n",
       "<path class=\"bond-19 atom-18 atom-20\" d=\"M 254.433,163.988 L 263.875,162.577\" style=\"fill:none;fill-rule:evenodd;stroke:#0000FF;stroke-width:2.0px;stroke-linecap:butt;stroke-linejoin:miter;stroke-opacity:1\"/>\n",
       "<path class=\"bond-19 atom-18 atom-20\" d=\"M 263.875,162.577 L 273.317,161.165\" style=\"fill:none;fill-rule:evenodd;stroke:#FF0000;stroke-width:2.0px;stroke-linecap:butt;stroke-linejoin:miter;stroke-opacity:1\"/>\n",
       "<path class=\"atom-2\" d=\"M 13.6364 185.378 Q 13.6364 183.092, 14.7661 181.814 Q 15.8959 180.537, 18.0075 180.537 Q 20.119 180.537, 21.2488 181.814 Q 22.3786 183.092, 22.3786 185.378 Q 22.3786 187.692, 21.2354 189.01 Q 20.0921 190.314, 18.0075 190.314 Q 15.9093 190.314, 14.7661 189.01 Q 13.6364 187.705, 13.6364 185.378 M 18.0075 189.238 Q 19.46 189.238, 20.2401 188.27 Q 21.0336 187.288, 21.0336 185.378 Q 21.0336 183.509, 20.2401 182.567 Q 19.46 181.612, 18.0075 181.612 Q 16.5549 181.612, 15.7614 182.554 Q 14.9813 183.495, 14.9813 185.378 Q 14.9813 187.302, 15.7614 188.27 Q 16.5549 189.238, 18.0075 189.238 \" fill=\"#FF0000\"/>\n",
       "<path class=\"atom-3\" d=\"M 70.0193 170.796 Q 70.0193 168.509, 71.1491 167.232 Q 72.2789 165.954, 74.3904 165.954 Q 76.502 165.954, 77.6318 167.232 Q 78.7615 168.509, 78.7615 170.796 Q 78.7615 173.109, 77.6183 174.427 Q 76.4751 175.732, 74.3904 175.732 Q 72.2923 175.732, 71.1491 174.427 Q 70.0193 173.123, 70.0193 170.796 M 74.3904 174.656 Q 75.843 174.656, 76.6231 173.687 Q 77.4166 172.706, 77.4166 170.796 Q 77.4166 168.926, 76.6231 167.985 Q 75.843 167.03, 74.3904 167.03 Q 72.9379 167.03, 72.1444 167.971 Q 71.3643 168.913, 71.3643 170.796 Q 71.3643 172.719, 72.1444 173.687 Q 72.9379 174.656, 74.3904 174.656 \" fill=\"#FF0000\"/>\n",
       "<path class=\"atom-11\" d=\"M 126.402 156.213 Q 126.402 153.927, 127.532 152.649 Q 128.662 151.371, 130.773 151.371 Q 132.885 151.371, 134.015 152.649 Q 135.145 153.927, 135.145 156.213 Q 135.145 158.527, 134.001 159.845 Q 132.858 161.149, 130.773 161.149 Q 128.675 161.149, 127.532 159.845 Q 126.402 158.54, 126.402 156.213 M 130.773 160.073 Q 132.226 160.073, 133.006 159.105 Q 133.8 158.123, 133.8 156.213 Q 133.8 154.344, 133.006 153.402 Q 132.226 152.447, 130.773 152.447 Q 129.321 152.447, 128.527 153.389 Q 127.747 154.33, 127.747 156.213 Q 127.747 158.137, 128.527 159.105 Q 129.321 160.073, 130.773 160.073 \" fill=\"#FF0000\"/>\n",
       "<path class=\"atom-12\" d=\"M 144.231 95.3049 L 147.351 100.348 Q 147.661 100.846, 148.158 101.747 Q 148.656 102.648, 148.683 102.702 L 148.683 95.3049 L 149.947 95.3049 L 149.947 104.827 L 148.643 104.827 L 145.294 99.3128 Q 144.904 98.6673, 144.487 97.9275 Q 144.083 97.1878, 143.962 96.9592 L 143.962 104.827 L 142.725 104.827 L 142.725 95.3049 L 144.231 95.3049 \" fill=\"#0000FF\"/>\n",
       "<path class=\"atom-12\" d=\"M 142.611 84.8304 L 143.902 84.8304 L 143.902 88.8787 L 148.77 88.8787 L 148.77 84.8304 L 150.062 84.8304 L 150.062 94.3527 L 148.77 94.3527 L 148.77 89.9547 L 143.902 89.9547 L 143.902 94.3527 L 142.611 94.3527 L 142.611 84.8304 \" fill=\"#0000FF\"/>\n",
       "<path class=\"atom-14\" d=\"M 202.946 83.3582 L 206.067 88.4018 Q 206.376 88.8995, 206.874 89.8006 Q 207.371 90.7017, 207.398 90.7555 L 207.398 83.3582 L 208.662 83.3582 L 208.662 92.8805 L 207.358 92.8805 L 204.009 87.3662 Q 203.619 86.7206, 203.202 85.9809 Q 202.798 85.2412, 202.677 85.0125 L 202.677 92.8805 L 201.44 92.8805 L 201.44 83.3582 L 202.946 83.3582 \" fill=\"#0000FF\"/>\n",
       "<path class=\"atom-17\" d=\"M 187.823 143.814 Q 187.931 143.854, 188.374 144.042 Q 188.818 144.231, 189.302 144.352 Q 189.8 144.459, 190.284 144.459 Q 191.185 144.459, 191.71 144.029 Q 192.234 143.585, 192.234 142.818 Q 192.234 142.294, 191.965 141.971 Q 191.71 141.648, 191.306 141.473 Q 190.903 141.299, 190.231 141.097 Q 189.383 140.841, 188.872 140.599 Q 188.374 140.357, 188.011 139.846 Q 187.662 139.335, 187.662 138.474 Q 187.662 137.277, 188.469 136.538 Q 189.289 135.798, 190.903 135.798 Q 192.006 135.798, 193.257 136.322 L 192.947 137.358 Q 191.804 136.887, 190.943 136.887 Q 190.015 136.887, 189.504 137.277 Q 188.993 137.654, 189.007 138.313 Q 189.007 138.824, 189.262 139.133 Q 189.531 139.443, 189.908 139.617 Q 190.298 139.792, 190.943 139.994 Q 191.804 140.263, 192.315 140.532 Q 192.826 140.801, 193.189 141.352 Q 193.566 141.89, 193.566 142.818 Q 193.566 144.136, 192.678 144.849 Q 191.804 145.549, 190.338 145.549 Q 189.491 145.549, 188.845 145.36 Q 188.213 145.186, 187.46 144.876 L 187.823 143.814 \" fill=\"#CCCC00\"/>\n",
       "<path class=\"atom-18\" d=\"M 242.932 160.631 L 246.052 165.675 Q 246.361 166.172, 246.859 167.073 Q 247.357 167.975, 247.383 168.028 L 247.383 160.631 L 248.648 160.631 L 248.648 170.153 L 247.343 170.153 L 243.994 164.639 Q 243.604 163.994, 243.187 163.254 Q 242.784 162.514, 242.663 162.285 L 242.663 170.153 L 241.425 170.153 L 241.425 160.631 L 242.932 160.631 \" fill=\"#0000FF\"/>\n",
       "<path class=\"atom-18\" d=\"M 249.447 162.348 L 251.124 162.348 L 251.124 160.581 L 251.87 160.581 L 251.87 162.348 L 253.592 162.348 L 253.592 162.987 L 251.87 162.987 L 251.87 164.762 L 251.124 164.762 L 251.124 162.987 L 249.447 162.987 L 249.447 162.348 \" fill=\"#0000FF\"/>\n",
       "<path class=\"atom-19\" d=\"M 228.343 196.704 Q 228.343 194.417, 229.472 193.139 Q 230.602 191.862, 232.714 191.862 Q 234.825 191.862, 235.955 193.139 Q 237.085 194.417, 237.085 196.704 Q 237.085 199.017, 235.942 200.335 Q 234.798 201.64, 232.714 201.64 Q 230.616 201.64, 229.472 200.335 Q 228.343 199.03, 228.343 196.704 M 232.714 200.564 Q 234.166 200.564, 234.946 199.595 Q 235.74 198.613, 235.74 196.704 Q 235.74 194.834, 234.946 193.893 Q 234.166 192.938, 232.714 192.938 Q 231.261 192.938, 230.468 193.879 Q 229.688 194.821, 229.688 196.704 Q 229.688 198.627, 230.468 199.595 Q 231.261 200.564, 232.714 200.564 \" fill=\"#FF0000\"/>\n",
       "<path class=\"atom-20\" d=\"M 273.92 160.449 Q 273.92 158.162, 275.05 156.885 Q 276.179 155.607, 278.291 155.607 Q 280.403 155.607, 281.532 156.885 Q 282.662 158.162, 282.662 160.449 Q 282.662 162.762, 281.519 164.08 Q 280.376 165.385, 278.291 165.385 Q 276.193 165.385, 275.05 164.08 Q 273.92 162.776, 273.92 160.449 M 278.291 164.309 Q 279.744 164.309, 280.524 163.34 Q 281.317 162.359, 281.317 160.449 Q 281.317 158.579, 280.524 157.638 Q 279.744 156.683, 278.291 156.683 Q 276.838 156.683, 276.045 157.624 Q 275.265 158.566, 275.265 160.449 Q 275.265 162.372, 276.045 163.34 Q 276.838 164.309, 278.291 164.309 \" fill=\"#FF0000\"/>\n",
       "<path class=\"atom-20\" d=\"M 283.106 157.161 L 286.364 157.161 L 286.364 157.871 L 283.106 157.871 L 283.106 157.161 \" fill=\"#FF0000\"/>\n",
       "</svg>"
      ],
      "text/plain": [
       "<IPython.core.display.SVG object>"
      ]
     },
     "execution_count": 19,
     "metadata": {},
     "output_type": "execute_result"
    }
   ],
   "source": [
    "def moltosvg(mol, molSize = (300,300), kekulize = True):\n",
    "    mc = Chem.Mol(mol.ToBinary())\n",
    "    if kekulize:\n",
    "        try:\n",
    "            Chem.Kekulize(mc)\n",
    "        except:\n",
    "            mc = Chem.Mol(mol.ToBinary())\n",
    "    if not mc.GetNumConformers():\n",
    "        rdDepictor.Compute2DCoords(mc)\n",
    "    drawer = rdMolDraw2D.MolDraw2DSVG(molSize[0],molSize[1])\n",
    "    drawer.DrawMolecule(mc)\n",
    "    drawer.FinishDrawing()\n",
    "    svg = drawer.GetDrawingText()\n",
    "    return svg.replace('svg:','')\n",
    "\n",
    "SVG(moltosvg(m))"
   ]
  },
  {
   "cell_type": "code",
   "execution_count": null,
   "id": "2a0ad081",
   "metadata": {},
   "outputs": [],
   "source": [
    "#disney test"
   ]
  },
  {
   "cell_type": "code",
   "execution_count": 7,
   "id": "bde158f4",
   "metadata": {},
   "outputs": [
    {
     "name": "stderr",
     "output_type": "stream",
     "text": [
      "Using backend: pytorch\n"
     ]
    },
    {
     "name": "stdout",
     "output_type": "stream",
     "text": [
      "Downloading gin_supervised_masking_pre_trained.pth from https://data.dgl.ai/dgllife/pre_trained/gin_supervised_masking.pth...\n",
      "Pretrained model loaded\n"
     ]
    },
    {
     "data": {
      "text/plain": [
       "<controller.SmartNet at 0x7fd3d7496400>"
      ]
     },
     "execution_count": 7,
     "metadata": {},
     "output_type": "execute_result"
    }
   ],
   "source": [
    "model = controller.model_pretrained(path_dir = './CNN_GIN_drug_bal_model')\n",
    "model"
   ]
  },
  {
   "cell_type": "code",
   "execution_count": 14,
   "id": "ba0bf594",
   "metadata": {},
   "outputs": [],
   "source": [
    "t_name, t= loader.predict_load('./data/mir21_target.txt', 3)"
   ]
  },
  {
   "cell_type": "code",
   "execution_count": 15,
   "id": "ce84ccf9",
   "metadata": {},
   "outputs": [],
   "source": [
    "d_name, d= loader.predict_load('./data/mir21_drug.txt', 3)"
   ]
  },
  {
   "cell_type": "code",
   "execution_count": 16,
   "id": "33085cbd",
   "metadata": {
    "scrolled": false
   },
   "outputs": [
    {
     "name": "stdout",
     "output_type": "stream",
     "text": [
      "virtual screening...\n",
      "in total: 9 drug-target pairs\n",
      "encoding drug...\n",
      "unique drugs: 3\n",
      "encoding protein...\n",
      "unique target sequence: 3\n",
      "Done.\n",
      "predicting...\n",
      "---------------\n",
      "+------+-----------+-------------+-------------+-------------+\n",
      "| Rank | Drug Name | Target Name | Interaction | Probability |\n",
      "+------+-----------+-------------+-------------+-------------+\n",
      "|  1   |     1     |  miR21_hx2  |     YES     |     0.80    |\n",
      "|  2   |     1a    |  miR21_hx2  |     YES     |     0.80    |\n",
      "|  3   |     2     |  miR21_hx2  |     YES     |     0.73    |\n",
      "|  4   |     1     |   miR21_st  |      NO     |     0.24    |\n",
      "|  5   |     1a    |   miR21_st  |      NO     |     0.21    |\n",
      "|  6   |     2     |   miR21_st  |      NO     |     0.17    |\n",
      "|  7   |     2     |  miR21_hx1  |      NO     |     0.00    |\n",
      "|  8   |     1     |  miR21_hx1  |      NO     |     0.00    |\n",
      "|  9   |     1a    |  miR21_hx1  |      NO     |     0.00    |\n",
      "+------+-----------+-------------+-------------+-------------+"
     ]
    }
   ],
   "source": [
    "y_pred = controller.classify(X_repurpose = d, \n",
    "                             target = t, \n",
    "                             model = model, \n",
    "                             drug_names = d_name, \n",
    "                             target_names = t_name, \n",
    "                             result_folder = \"./result/\", \n",
    "                             output_num_max=10)"
   ]
  },
  {
   "cell_type": "code",
   "execution_count": 75,
   "id": "966b9b73",
   "metadata": {},
   "outputs": [],
   "source": [
    "C1='COc1ccc(Br)cc1C(=O)Nc4ccc(c3nc2ccccc2[nH]3)cc4'"
   ]
  },
  {
   "cell_type": "code",
   "execution_count": null,
   "id": "a37538c0",
   "metadata": {},
   "outputs": [],
   "source": [
    "C2"
   ]
  },
  {
   "cell_type": "code",
   "execution_count": null,
   "id": "c2bbd8bf",
   "metadata": {},
   "outputs": [],
   "source": [
    "C3"
   ]
  },
  {
   "cell_type": "code",
   "execution_count": null,
   "id": "9d5eac42",
   "metadata": {},
   "outputs": [],
   "source": [
    "C4"
   ]
  },
  {
   "cell_type": "code",
   "execution_count": null,
   "id": "5b98a829",
   "metadata": {},
   "outputs": [],
   "source": [
    "C5"
   ]
  },
  {
   "cell_type": "code",
   "execution_count": 83,
   "id": "2b930939",
   "metadata": {},
   "outputs": [],
   "source": [
    "C5='CNc2nc(Nc1cccc(C(=O)O)c1)nc3ccccc23'"
   ]
  },
  {
   "cell_type": "code",
   "execution_count": 47,
   "id": "e22eaca6",
   "metadata": {},
   "outputs": [],
   "source": [
    "sm1='COC(=O)CCCOc5ccc(c4nc3ccc(c2ccc(N1CCN(C)CC1)cc2)cc3[nH]4)cc5'"
   ]
  },
  {
   "cell_type": "code",
   "execution_count": 48,
   "id": "88201673",
   "metadata": {},
   "outputs": [
    {
     "data": {
      "image/png": "[encoded data removed]",
      "text/plain": [
       "<rdkit.Chem.rdchem.Mol at 0x7f6695c7d1c0>"
      ]
     },
     "execution_count": 48,
     "metadata": {},
     "output_type": "execute_result"
    }
   ],
   "source": [
    "from rdkit import Chem\n",
    "Chem.MolFromSmiles(C5)"
   ]
  },
  {
   "cell_type": "code",
   "execution_count": 76,
   "id": "8bded7f6",
   "metadata": {},
   "outputs": [
    {
     "data": {
      "image/png": "[encoded data removed]",
      "text/plain": [
       "<rdkit.Chem.rdchem.Mol at 0x7f6695bfc700>"
      ]
     },
     "execution_count": 76,
     "metadata": {},
     "output_type": "execute_result"
    }
   ],
   "source": [
    "Chem.MolFromSmiles(C1)"
   ]
  },
  {
   "cell_type": "code",
   "execution_count": null,
   "id": "9f7d95a2",
   "metadata": {},
   "outputs": [],
   "source": []
  },
  {
   "cell_type": "code",
   "execution_count": null,
   "id": "3aa00756",
   "metadata": {},
   "outputs": [],
   "source": []
  },
  {
   "cell_type": "code",
   "execution_count": 20,
   "id": "05bc1873",
   "metadata": {},
   "outputs": [
    {
     "name": "stdout",
     "output_type": "stream",
     "text": [
      "The autoreload extension is already loaded. To reload it, use:\n",
      "  %reload_ext autoreload\n"
     ]
    }
   ],
   "source": [
    "#%%\n",
    "%load_ext autoreload\n",
    "%autoreload 2\n",
    "import os\n",
    "import datautils\n",
    "from smoothgrad import *\n",
    "from param import param_num"
   ]
  },
  {
   "cell_type": "code",
   "execution_count": 21,
   "id": "ef812813",
   "metadata": {},
   "outputs": [
    {
     "name": "stdout",
     "output_type": "stream",
     "text": [
      "This function is used to generate dataset from tabular file...\n",
      "Completed!\n"
     ]
    }
   ],
   "source": [
    "X_drugs, X_targets, y = loader.file2var(input = './data/gra_test.txt')"
   ]
  },
  {
   "cell_type": "code",
   "execution_count": 22,
   "id": "05742c29",
   "metadata": {},
   "outputs": [],
   "source": [
    "drug_encoding, target_encoding = 'DGL_GIN_AttrMasking', 'CNN'"
   ]
  },
  {
   "cell_type": "code",
   "execution_count": 23,
   "id": "5e1db19e",
   "metadata": {},
   "outputs": [
    {
     "name": "stdout",
     "output_type": "stream",
     "text": [
      "Drug Target Interaction Prediction...\n",
      "in total: 1 drug-target pairs\n",
      "encoding drug...\n",
      "unique drugs: 1\n",
      "encoding protein...\n",
      "unique target sequence: 1\n",
      "splitting dataset...\n",
      "Done.\n"
     ]
    }
   ],
   "source": [
    "test = processor.encode(X_drugs, X_targets, y, drug_encoding, target_encoding, random_seed = 1)"
   ]
  },
  {
   "cell_type": "code",
   "execution_count": 24,
   "id": "edd4d3a1",
   "metadata": {},
   "outputs": [],
   "source": [
    "import torch.nn.functional as F\n",
    "\n",
    "param = config.set(drug_encoding, \n",
    "                   target_encoding, \n",
    "                   result_folder = \"./result/\",\n",
    "                   #input_dim_drug = 1024, \n",
    "                   #input_dim_protein = 8420,\n",
    "                   hidden_dim_drug = 128, \n",
    "                   hidden_dim_protein = 128,\n",
    "                   cls_hidden_dims = [1024,1024,512], \n",
    "                   #batch_size = 256, \n",
    "                   batch_size = 64, \n",
    "                   train_epoch = 5, \n",
    "                   LR = 0.001, \n",
    "                   cnn_drug_filters = [32,64,96],\n",
    "                   cnn_drug_kernels = [4,6,8], #odd\n",
    "                   cnn_target_filters = [32,64,96],\n",
    "                   cnn_target_kernels = [4,6,8], #odd\n",
    "                   gnn_hid_dim_drug = 64,\n",
    "                   gnn_num_layers = 3,\n",
    "                   gnn_activation = F.relu,\n",
    "                   in_feats = 74\n",
    "                  )"
   ]
  },
  {
   "cell_type": "code",
   "execution_count": 25,
   "id": "3055af0c",
   "metadata": {},
   "outputs": [],
   "source": [
    "import dgl\n",
    "param['batch_size']=1\n",
    "def dgl_collate_func(x):\n",
    "    d, p, y = zip(*x)\n",
    "    d = dgl.batch(d)\n",
    "    return d, torch.tensor(p), torch.tensor(y)\n",
    "\n",
    "import torch\n",
    "from torch.utils.data import SequentialSampler\n",
    "from loader import *\n",
    "params_test = {'batch_size': param['batch_size'],\n",
    "               'shuffle': False,\n",
    "               'num_workers': 0,\n",
    "               'drop_last': False,\n",
    "                'collate_fn': dgl_collate_func,\n",
    "               'sampler': SequentialSampler(data_process_loader(test.index.values, test.Label.values, test, **param))}\n",
    "\n",
    "test_loader = torch.utils.data.DataLoader(data_process_loader(test.index.values, test.Label.values, test, **param), **params_test)"
   ]
  },
  {
   "cell_type": "code",
   "execution_count": 26,
   "id": "ef274edd",
   "metadata": {},
   "outputs": [],
   "source": [
    "import torch\n",
    "device = torch.device(\"cuda\")"
   ]
  },
  {
   "cell_type": "code",
   "execution_count": 27,
   "id": "f3d967d3",
   "metadata": {},
   "outputs": [
    {
     "name": "stdout",
     "output_type": "stream",
     "text": [
      "Downloading gin_supervised_masking_pre_trained.pth from https://data.dgl.ai/dgllife/pre_trained/gin_supervised_masking.pth...\n",
      "Pretrained model loaded\n"
     ]
    }
   ],
   "source": [
    "model = models.CNN_GIN_AttrMasking(**param)"
   ]
  },
  {
   "cell_type": "code",
   "execution_count": 28,
   "id": "1361bb02",
   "metadata": {},
   "outputs": [
    {
     "name": "stdout",
     "output_type": "stream",
     "text": [
      "Loading model: ./CNN_GIN_drug_bal_model/model.pt\n"
     ]
    }
   ],
   "source": [
    "model_path = (\"./CNN_GIN_drug_bal_model/model.pt\")\n",
    "filename = model_path.format(\"CNN_GIN\")\n",
    "print(\"Loading model: {}\".format(filename))\n",
    "model.load_state_dict(torch.load(filename, map_location='cuda'))\n",
    "model = model.to(device)\n",
    "#print(type(model))"
   ]
  },
  {
   "cell_type": "code",
   "execution_count": 29,
   "id": "77bef612",
   "metadata": {},
   "outputs": [],
   "source": [
    "from smoothgrad import *\n",
    "\n",
    "batch_size=1\n",
    "\n",
    "def compute_saliency(model, device, test_loader):\n",
    "\n",
    "    model.eval()\n",
    "\n",
    "    identity = \"result\"\n",
    "    #saliency_dir = datautils.make_directory(\".\", \"out/saliency\")\n",
    "    saliency_path = os.path.join(\"./out\", identity+'.sal')\n",
    "\n",
    "    # sgrad = SmoothGrad(model, device=device)\n",
    "    sgrad = GuidedBackpropSmoothGrad(model, device=device)\n",
    "    sal = \"\"\n",
    "    #for batch_idx, (x0, y0) in enumerate(test_loader):\n",
    "        #X, Y = x0.float().to(device), y0.to(device).float()\n",
    "    #print(len(test))\n",
    "    for batch_idx, (v_d, v_p, label) in enumerate(test_loader):\n",
    "        X, Y, Z = v_d, v_p.float().to(device), label.to(device)\n",
    "        #print(X.shape, Y.shape)\n",
    "        #print(batch_idx)\n",
    "        guided_saliency_p= sgrad.get_batch_gradients(X, Y, Z)\n",
    "        # import pdb; pdb.set_trace()\n",
    "        N, NS, _ = guided_saliency_p.shape # (N, 31, 1, 4)\n",
    "        \n",
    "        output = model(X, Y)\n",
    "        prob = torch.sigmoid(output)\n",
    "        p_np = prob.to(device='cpu').detach().numpy().squeeze()\n",
    "        \n",
    "        #print(N)\n",
    "        str_sal=[] \n",
    "        for i in range(N):\n",
    "            inr = batch_idx*batch_size + i\n",
    "            str_sal = datautils.mat2str(np.squeeze(guided_saliency_p[i]))\n",
    "            #print(p_np)\n",
    "            #sal += \"{}\\t{:.6f}\\t{}\\n\".format(inr, p_np, str_sal)\n",
    "            str_sal\n",
    "    return str_sal[:-1]\n",
    "       \n",
    "    #f = open(saliency_path,\"w\")\n",
    "    #f.write(sal)\n",
    "    #f.close()\n",
    "    #print(saliency_path)"
   ]
  },
  {
   "cell_type": "code",
   "execution_count": 30,
   "id": "1dcfc7e8",
   "metadata": {},
   "outputs": [],
   "source": [
    "sal=compute_saliency(model, device, test_loader)"
   ]
  },
  {
   "cell_type": "code",
   "execution_count": 31,
   "id": "2cf95fe4",
   "metadata": {},
   "outputs": [],
   "source": [
    "sal_list=sal.split(\",\")"
   ]
  },
  {
   "cell_type": "code",
   "execution_count": 32,
   "id": "ac981756",
   "metadata": {},
   "outputs": [
    {
     "data": {
      "image/png": "[encoded data removed]",
      "text/plain": [
       "<Figure size 2160x360 with 2 Axes>"
      ]
     },
     "metadata": {
      "needs_background": "light"
     },
     "output_type": "display_data"
    }
   ],
   "source": [
    "test['Target Sequence'][0]\n",
    "seq_list=list(test['Target Sequence'][0])\n",
    "seq = ','.join(seq_list)\n",
    "with open('./data/df.txt', 'w+') as f:\n",
    "    #f.write(str(seq) + '\\n')\n",
    "    for n in range(len(sal_list)//31):\n",
    "        f.write(','.join(sal_list[n*31:(n+1)*31]) + '\\n')\n",
    "df=pd.read_table('./data/df.txt',sep=',',header=None)\n",
    "df2=pd.read_table('./data/df2.txt',sep=',',header=None)\n",
    "import pandas as pd\n",
    "df3 = pd.Series(list('AAUCUCAUGGCAACACCAGUCGAUGGGCUGU'))\n",
    "df4=(pd.get_dummies(df3)).T\n",
    "df5=df4.rename(index={'A': '0','U': '1','C': '2','G': '3'})\n",
    "df6=df5.sort_index()\n",
    "merge = df6.append(df2, ignore_index=True)\n",
    "df_final=df*merge\n",
    "df_final\n",
    "df_final.max().max()\n",
    "df_norm=df_final/df_final.max().max()\n",
    "import matplotlib.pyplot as plt\n",
    "import numpy as np \n",
    "import seaborn as sns\n",
    "plt.figure(figsize=(30, 5))\n",
    "h=sns.heatmap(df_norm, cmap='Reds', linewidths=0.1, linecolor='grey',annot=False,cbar=False)\n",
    "cb = h.figure.colorbar(h.collections[0]) #显示colorbar\n",
    "cb.ax.tick_params(labelsize=10)  # 设置colorbar刻度字体大小。\n",
    "#,cbar_kws={\"shrink\": 0.5}\n",
    "#plt.savefig(\"chr.pdf\")\n",
    "plt.show()\n"
   ]
  },
  {
   "cell_type": "code",
   "execution_count": null,
   "id": "b03acba6",
   "metadata": {},
   "outputs": [],
   "source": []
  }
 ],
 "metadata": {
  "kernelspec": {
   "display_name": "Python 3",
   "language": "python",
   "name": "python3"
  },
  "language_info": {
   "codemirror_mode": {
    "name": "ipython",
    "version": 3
   },
   "file_extension": ".py",
   "mimetype": "text/x-python",
   "name": "python",
   "nbconvert_exporter": "python",
   "pygments_lexer": "ipython3",
   "version": "3.8.10"
  },
  "toc": {
   "base_numbering": 1,
   "nav_menu": {},
   "number_sections": true,
   "sideBar": true,
   "skip_h1_title": false,
   "title_cell": "Table of Contents",
   "title_sidebar": "Contents",
   "toc_cell": false,
   "toc_position": {},
   "toc_section_display": true,
   "toc_window_display": false
  }
 },
 "nbformat": 4,
 "nbformat_minor": 5
}
